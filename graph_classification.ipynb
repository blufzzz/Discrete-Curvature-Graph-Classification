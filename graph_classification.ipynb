{
  "nbformat": 4,
  "nbformat_minor": 0,
  "metadata": {
    "kernelspec": {
      "display_name": "Python 3",
      "language": "python",
      "name": "python3"
    },
    "language_info": {
      "codemirror_mode": {
        "name": "ipython",
        "version": 3
      },
      "file_extension": ".py",
      "mimetype": "text/x-python",
      "name": "python",
      "nbconvert_exporter": "python",
      "pygments_lexer": "ipython3",
      "version": "3.7.4"
    },
    "pycharm": {
      "stem_cell": {
        "cell_type": "raw",
        "source": [],
        "metadata": {
          "collapsed": false
        }
      }
    },
    "colab": {
      "name": "graph_classification.ipynb",
      "provenance": [],
      "collapsed_sections": []
    },
    "accelerator": "GPU",
    "widgets": {
      "application/vnd.jupyter.widget-state+json": {
        "fa06cd6c33174461a720cec2dc482403": {
          "model_module": "@jupyter-widgets/controls",
          "model_name": "HBoxModel",
          "state": {
            "_view_name": "HBoxView",
            "_dom_classes": [],
            "_model_name": "HBoxModel",
            "_view_module": "@jupyter-widgets/controls",
            "_model_module_version": "1.5.0",
            "_view_count": null,
            "_view_module_version": "1.5.0",
            "box_style": "",
            "layout": "IPY_MODEL_cf1264717a9a43f9bc3157b05ee5f2d0",
            "_model_module": "@jupyter-widgets/controls",
            "children": [
              "IPY_MODEL_cc76980191b04593a3332adb23b67a4a",
              "IPY_MODEL_9a5cb5e5570e4ecc999126a4a4f28a5c"
            ]
          }
        },
        "cf1264717a9a43f9bc3157b05ee5f2d0": {
          "model_module": "@jupyter-widgets/base",
          "model_name": "LayoutModel",
          "state": {
            "_view_name": "LayoutView",
            "grid_template_rows": null,
            "right": null,
            "justify_content": null,
            "_view_module": "@jupyter-widgets/base",
            "overflow": null,
            "_model_module_version": "1.2.0",
            "_view_count": null,
            "flex_flow": null,
            "width": null,
            "min_width": null,
            "border": null,
            "align_items": null,
            "bottom": null,
            "_model_module": "@jupyter-widgets/base",
            "top": null,
            "grid_column": null,
            "overflow_y": null,
            "overflow_x": null,
            "grid_auto_flow": null,
            "grid_area": null,
            "grid_template_columns": null,
            "flex": null,
            "_model_name": "LayoutModel",
            "justify_items": null,
            "grid_row": null,
            "max_height": null,
            "align_content": null,
            "visibility": null,
            "align_self": null,
            "height": null,
            "min_height": null,
            "padding": null,
            "grid_auto_rows": null,
            "grid_gap": null,
            "max_width": null,
            "order": null,
            "_view_module_version": "1.2.0",
            "grid_template_areas": null,
            "object_position": null,
            "object_fit": null,
            "grid_auto_columns": null,
            "margin": null,
            "display": null,
            "left": null
          }
        },
        "cc76980191b04593a3332adb23b67a4a": {
          "model_module": "@jupyter-widgets/controls",
          "model_name": "FloatProgressModel",
          "state": {
            "_view_name": "ProgressView",
            "style": "IPY_MODEL_fee640a49bdc4d43a919b10a15cd721d",
            "_dom_classes": [],
            "description": "100%",
            "_model_name": "FloatProgressModel",
            "bar_style": "success",
            "max": 120,
            "_view_module": "@jupyter-widgets/controls",
            "_model_module_version": "1.5.0",
            "value": 120,
            "_view_count": null,
            "_view_module_version": "1.5.0",
            "orientation": "horizontal",
            "min": 0,
            "description_tooltip": null,
            "_model_module": "@jupyter-widgets/controls",
            "layout": "IPY_MODEL_b2d928ab4c024882be51ddc62e6a1702"
          }
        },
        "9a5cb5e5570e4ecc999126a4a4f28a5c": {
          "model_module": "@jupyter-widgets/controls",
          "model_name": "HTMLModel",
          "state": {
            "_view_name": "HTMLView",
            "style": "IPY_MODEL_dfcf9ba77214445b98686a7f97a7ee94",
            "_dom_classes": [],
            "description": "",
            "_model_name": "HTMLModel",
            "placeholder": "​",
            "_view_module": "@jupyter-widgets/controls",
            "_model_module_version": "1.5.0",
            "value": " 120/120 [11:31&lt;00:00,  5.77s/it]",
            "_view_count": null,
            "_view_module_version": "1.5.0",
            "description_tooltip": null,
            "_model_module": "@jupyter-widgets/controls",
            "layout": "IPY_MODEL_270c14528d87480b815f7a41c0909a7d"
          }
        },
        "fee640a49bdc4d43a919b10a15cd721d": {
          "model_module": "@jupyter-widgets/controls",
          "model_name": "ProgressStyleModel",
          "state": {
            "_view_name": "StyleView",
            "_model_name": "ProgressStyleModel",
            "description_width": "initial",
            "_view_module": "@jupyter-widgets/base",
            "_model_module_version": "1.5.0",
            "_view_count": null,
            "_view_module_version": "1.2.0",
            "bar_color": null,
            "_model_module": "@jupyter-widgets/controls"
          }
        },
        "b2d928ab4c024882be51ddc62e6a1702": {
          "model_module": "@jupyter-widgets/base",
          "model_name": "LayoutModel",
          "state": {
            "_view_name": "LayoutView",
            "grid_template_rows": null,
            "right": null,
            "justify_content": null,
            "_view_module": "@jupyter-widgets/base",
            "overflow": null,
            "_model_module_version": "1.2.0",
            "_view_count": null,
            "flex_flow": null,
            "width": null,
            "min_width": null,
            "border": null,
            "align_items": null,
            "bottom": null,
            "_model_module": "@jupyter-widgets/base",
            "top": null,
            "grid_column": null,
            "overflow_y": null,
            "overflow_x": null,
            "grid_auto_flow": null,
            "grid_area": null,
            "grid_template_columns": null,
            "flex": null,
            "_model_name": "LayoutModel",
            "justify_items": null,
            "grid_row": null,
            "max_height": null,
            "align_content": null,
            "visibility": null,
            "align_self": null,
            "height": null,
            "min_height": null,
            "padding": null,
            "grid_auto_rows": null,
            "grid_gap": null,
            "max_width": null,
            "order": null,
            "_view_module_version": "1.2.0",
            "grid_template_areas": null,
            "object_position": null,
            "object_fit": null,
            "grid_auto_columns": null,
            "margin": null,
            "display": null,
            "left": null
          }
        },
        "dfcf9ba77214445b98686a7f97a7ee94": {
          "model_module": "@jupyter-widgets/controls",
          "model_name": "DescriptionStyleModel",
          "state": {
            "_view_name": "StyleView",
            "_model_name": "DescriptionStyleModel",
            "description_width": "",
            "_view_module": "@jupyter-widgets/base",
            "_model_module_version": "1.5.0",
            "_view_count": null,
            "_view_module_version": "1.2.0",
            "_model_module": "@jupyter-widgets/controls"
          }
        },
        "270c14528d87480b815f7a41c0909a7d": {
          "model_module": "@jupyter-widgets/base",
          "model_name": "LayoutModel",
          "state": {
            "_view_name": "LayoutView",
            "grid_template_rows": null,
            "right": null,
            "justify_content": null,
            "_view_module": "@jupyter-widgets/base",
            "overflow": null,
            "_model_module_version": "1.2.0",
            "_view_count": null,
            "flex_flow": null,
            "width": null,
            "min_width": null,
            "border": null,
            "align_items": null,
            "bottom": null,
            "_model_module": "@jupyter-widgets/base",
            "top": null,
            "grid_column": null,
            "overflow_y": null,
            "overflow_x": null,
            "grid_auto_flow": null,
            "grid_area": null,
            "grid_template_columns": null,
            "flex": null,
            "_model_name": "LayoutModel",
            "justify_items": null,
            "grid_row": null,
            "max_height": null,
            "align_content": null,
            "visibility": null,
            "align_self": null,
            "height": null,
            "min_height": null,
            "padding": null,
            "grid_auto_rows": null,
            "grid_gap": null,
            "max_width": null,
            "order": null,
            "_view_module_version": "1.2.0",
            "grid_template_areas": null,
            "object_position": null,
            "object_fit": null,
            "grid_auto_columns": null,
            "margin": null,
            "display": null,
            "left": null
          }
        },
        "01c611ddc1004bf286ec1e1d65a10169": {
          "model_module": "@jupyter-widgets/controls",
          "model_name": "HBoxModel",
          "state": {
            "_view_name": "HBoxView",
            "_dom_classes": [],
            "_model_name": "HBoxModel",
            "_view_module": "@jupyter-widgets/controls",
            "_model_module_version": "1.5.0",
            "_view_count": null,
            "_view_module_version": "1.5.0",
            "box_style": "",
            "layout": "IPY_MODEL_7e41e461449e43f98864cc42f1cb8f69",
            "_model_module": "@jupyter-widgets/controls",
            "children": [
              "IPY_MODEL_8ec60077978d4086b5a74fa64b5dde9b",
              "IPY_MODEL_1949312dd8314b1cb7deae3a31d1a789"
            ]
          }
        },
        "7e41e461449e43f98864cc42f1cb8f69": {
          "model_module": "@jupyter-widgets/base",
          "model_name": "LayoutModel",
          "state": {
            "_view_name": "LayoutView",
            "grid_template_rows": null,
            "right": null,
            "justify_content": null,
            "_view_module": "@jupyter-widgets/base",
            "overflow": null,
            "_model_module_version": "1.2.0",
            "_view_count": null,
            "flex_flow": null,
            "width": null,
            "min_width": null,
            "border": null,
            "align_items": null,
            "bottom": null,
            "_model_module": "@jupyter-widgets/base",
            "top": null,
            "grid_column": null,
            "overflow_y": null,
            "overflow_x": null,
            "grid_auto_flow": null,
            "grid_area": null,
            "grid_template_columns": null,
            "flex": null,
            "_model_name": "LayoutModel",
            "justify_items": null,
            "grid_row": null,
            "max_height": null,
            "align_content": null,
            "visibility": null,
            "align_self": null,
            "height": null,
            "min_height": null,
            "padding": null,
            "grid_auto_rows": null,
            "grid_gap": null,
            "max_width": null,
            "order": null,
            "_view_module_version": "1.2.0",
            "grid_template_areas": null,
            "object_position": null,
            "object_fit": null,
            "grid_auto_columns": null,
            "margin": null,
            "display": null,
            "left": null
          }
        },
        "8ec60077978d4086b5a74fa64b5dde9b": {
          "model_module": "@jupyter-widgets/controls",
          "model_name": "FloatProgressModel",
          "state": {
            "_view_name": "ProgressView",
            "style": "IPY_MODEL_681f23ab8c044a73905dd7e1be09f7b9",
            "_dom_classes": [],
            "description": "100%",
            "_model_name": "FloatProgressModel",
            "bar_style": "success",
            "max": 120,
            "_view_module": "@jupyter-widgets/controls",
            "_model_module_version": "1.5.0",
            "value": 120,
            "_view_count": null,
            "_view_module_version": "1.5.0",
            "orientation": "horizontal",
            "min": 0,
            "description_tooltip": null,
            "_model_module": "@jupyter-widgets/controls",
            "layout": "IPY_MODEL_03c80d6f60704b81abee0a768e51cc57"
          }
        },
        "1949312dd8314b1cb7deae3a31d1a789": {
          "model_module": "@jupyter-widgets/controls",
          "model_name": "HTMLModel",
          "state": {
            "_view_name": "HTMLView",
            "style": "IPY_MODEL_4a59e78f8317406eb34ef5ceb61ef96a",
            "_dom_classes": [],
            "description": "",
            "_model_name": "HTMLModel",
            "placeholder": "​",
            "_view_module": "@jupyter-widgets/controls",
            "_model_module_version": "1.5.0",
            "value": " 120/120 [02:23&lt;00:00,  1.19s/it]",
            "_view_count": null,
            "_view_module_version": "1.5.0",
            "description_tooltip": null,
            "_model_module": "@jupyter-widgets/controls",
            "layout": "IPY_MODEL_78ef0cd1ba484976a260459d465e8e28"
          }
        },
        "681f23ab8c044a73905dd7e1be09f7b9": {
          "model_module": "@jupyter-widgets/controls",
          "model_name": "ProgressStyleModel",
          "state": {
            "_view_name": "StyleView",
            "_model_name": "ProgressStyleModel",
            "description_width": "initial",
            "_view_module": "@jupyter-widgets/base",
            "_model_module_version": "1.5.0",
            "_view_count": null,
            "_view_module_version": "1.2.0",
            "bar_color": null,
            "_model_module": "@jupyter-widgets/controls"
          }
        },
        "03c80d6f60704b81abee0a768e51cc57": {
          "model_module": "@jupyter-widgets/base",
          "model_name": "LayoutModel",
          "state": {
            "_view_name": "LayoutView",
            "grid_template_rows": null,
            "right": null,
            "justify_content": null,
            "_view_module": "@jupyter-widgets/base",
            "overflow": null,
            "_model_module_version": "1.2.0",
            "_view_count": null,
            "flex_flow": null,
            "width": null,
            "min_width": null,
            "border": null,
            "align_items": null,
            "bottom": null,
            "_model_module": "@jupyter-widgets/base",
            "top": null,
            "grid_column": null,
            "overflow_y": null,
            "overflow_x": null,
            "grid_auto_flow": null,
            "grid_area": null,
            "grid_template_columns": null,
            "flex": null,
            "_model_name": "LayoutModel",
            "justify_items": null,
            "grid_row": null,
            "max_height": null,
            "align_content": null,
            "visibility": null,
            "align_self": null,
            "height": null,
            "min_height": null,
            "padding": null,
            "grid_auto_rows": null,
            "grid_gap": null,
            "max_width": null,
            "order": null,
            "_view_module_version": "1.2.0",
            "grid_template_areas": null,
            "object_position": null,
            "object_fit": null,
            "grid_auto_columns": null,
            "margin": null,
            "display": null,
            "left": null
          }
        },
        "4a59e78f8317406eb34ef5ceb61ef96a": {
          "model_module": "@jupyter-widgets/controls",
          "model_name": "DescriptionStyleModel",
          "state": {
            "_view_name": "StyleView",
            "_model_name": "DescriptionStyleModel",
            "description_width": "",
            "_view_module": "@jupyter-widgets/base",
            "_model_module_version": "1.5.0",
            "_view_count": null,
            "_view_module_version": "1.2.0",
            "_model_module": "@jupyter-widgets/controls"
          }
        },
        "78ef0cd1ba484976a260459d465e8e28": {
          "model_module": "@jupyter-widgets/base",
          "model_name": "LayoutModel",
          "state": {
            "_view_name": "LayoutView",
            "grid_template_rows": null,
            "right": null,
            "justify_content": null,
            "_view_module": "@jupyter-widgets/base",
            "overflow": null,
            "_model_module_version": "1.2.0",
            "_view_count": null,
            "flex_flow": null,
            "width": null,
            "min_width": null,
            "border": null,
            "align_items": null,
            "bottom": null,
            "_model_module": "@jupyter-widgets/base",
            "top": null,
            "grid_column": null,
            "overflow_y": null,
            "overflow_x": null,
            "grid_auto_flow": null,
            "grid_area": null,
            "grid_template_columns": null,
            "flex": null,
            "_model_name": "LayoutModel",
            "justify_items": null,
            "grid_row": null,
            "max_height": null,
            "align_content": null,
            "visibility": null,
            "align_self": null,
            "height": null,
            "min_height": null,
            "padding": null,
            "grid_auto_rows": null,
            "grid_gap": null,
            "max_width": null,
            "order": null,
            "_view_module_version": "1.2.0",
            "grid_template_areas": null,
            "object_position": null,
            "object_fit": null,
            "grid_auto_columns": null,
            "margin": null,
            "display": null,
            "left": null
          }
        }
      }
    }
  },
  "cells": [
    {
      "cell_type": "code",
      "metadata": {
        "id": "KCEsqe3u2xzz",
        "colab_type": "code",
        "colab": {
          "base_uri": "https://localhost:8080/",
          "height": 121
        },
        "outputId": "0ba7c5bc-2a99-4d2b-ec71-c6aa99c5b543"
      },
      "source": [
        "from google.colab import drive\n",
        "drive.mount('/gdrive')"
      ],
      "execution_count": 1,
      "outputs": [
        {
          "output_type": "stream",
          "text": [
            "Go to this URL in a browser: https://accounts.google.com/o/oauth2/auth?client_id=947318989803-6bn6qk8qdgf4n4g3pfee6491hc0brc4i.apps.googleusercontent.com&redirect_uri=urn%3aietf%3awg%3aoauth%3a2.0%3aoob&response_type=code&scope=email%20https%3a%2f%2fwww.googleapis.com%2fauth%2fdocs.test%20https%3a%2f%2fwww.googleapis.com%2fauth%2fdrive%20https%3a%2f%2fwww.googleapis.com%2fauth%2fdrive.photos.readonly%20https%3a%2f%2fwww.googleapis.com%2fauth%2fpeopleapi.readonly\n",
            "\n",
            "Enter your authorization code:\n",
            "··········\n",
            "Mounted at /gdrive\n"
          ],
          "name": "stdout"
        }
      ]
    },
    {
      "cell_type": "code",
      "metadata": {
        "id": "Xk-s9l1D3-YD",
        "colab_type": "code",
        "colab": {
          "base_uri": "https://localhost:8080/",
          "height": 34
        },
        "outputId": "05b033e9-d3db-4509-9e5d-b806da70ef61"
      },
      "source": [
        "cd ../gdrive/My\\ Drive/Colab\\ Notebooks/Graph\\ Curvature\\ Networks"
      ],
      "execution_count": 2,
      "outputs": [
        {
          "output_type": "stream",
          "text": [
            "/gdrive/My Drive/Colab Notebooks/Graph Curvature Networks\n"
          ],
          "name": "stdout"
        }
      ]
    },
    {
      "cell_type": "code",
      "metadata": {
        "id": "0WT1ddWhxdYw",
        "colab_type": "code",
        "colab": {}
      },
      "source": [
        "# colab setting\n",
        "!pip install GraphRicciCurvature\n",
        "!pip install grakel\n",
        "\n",
        "import multiprocessing as mp\n",
        "from multiprocessing.dummy import Pool as ThreadPool\n",
        "import networkx as nx\n",
        "import numpy as np\n",
        "import math\n",
        "import os\n",
        "import importlib\n",
        "from IPython.display import clear_output\n",
        "from IPython.core.debugger import set_trace\n",
        "import pandas as pd\n",
        "from collections import defaultdict\n",
        "\n",
        "\n",
        "from sklearn.linear_model import LogisticRegression\n",
        "from sklearn.ensemble import RandomForestClassifier\n",
        "from sklearn.neighbors import KNeighborsClassifier\n",
        "from sklearn.model_selection import cross_val_score\n",
        "from sklearn.metrics import accuracy_score, f1_score\n",
        "from sklearn.model_selection import train_test_split\n",
        "from sklearn.preprocessing import StandardScaler\n",
        "from sklearn.model_selection import GridSearchCV\n",
        "\n",
        "from tqdm import tqdm_notebook\n",
        "\n",
        "# matplotlib setting\n",
        "%matplotlib inline\n",
        "import matplotlib.pyplot as plt\n",
        "\n",
        "# to print logs in jupyter notebook\n",
        "import logging\n",
        "logging.basicConfig(format='%(levelname)s:%(message)s', level=logging.ERROR)\n",
        "\n",
        "# load GraphRicciCuravture package\n",
        "from GraphRicciCurvature.OllivierRicci import OllivierRicci\n",
        "from GraphRicciCurvature.FormanRicci import FormanRicci\n",
        "clear_output()"
      ],
      "execution_count": 3,
      "outputs": []
    },
    {
      "cell_type": "code",
      "metadata": {
        "id": "hrTImyccdQBq",
        "colab_type": "code",
        "colab": {}
      },
      "source": [
        "!pip install torch-scatter==latest+cu101 -f https://pytorch-geometric.com/whl/torch-1.5.0.html\n",
        "!pip install torch-sparse==latest+cu101 -f https://pytorch-geometric.com/whl/torch-1.5.0.html\n",
        "!pip install torch-cluster==latest+cu101 -f https://pytorch-geometric.com/whl/torch-1.5.0.html\n",
        "!pip install torch-spline-conv==latest+cu101 -f https://pytorch-geometric.com/whl/torch-1.5.0.html\n",
        "!pip install torch-geometric\n",
        "!pip install nilearn\n",
        "clear_output()"
      ],
      "execution_count": 4,
      "outputs": []
    },
    {
      "cell_type": "code",
      "metadata": {
        "id": "J_y1900mzmOq",
        "colab_type": "code",
        "colab": {}
      },
      "source": [
        "def make_data(G, y):\n",
        "    x = from_networkx(G)\n",
        "    x.y = y \n",
        "    return x"
      ],
      "execution_count": 5,
      "outputs": []
    },
    {
      "cell_type": "code",
      "metadata": {
        "id": "2TFRX1aVqcHm",
        "colab_type": "code",
        "colab": {}
      },
      "source": [
        "# from http://www3.cs.stonybrook.edu/~chni/\n",
        "def FormannCurvature(G, weighted=False, EPS=1e-15, default_node_curvature=None):\n",
        "    G = G.copy()\n",
        "    for (v1, v2) in G.edges():\n",
        "        if not weighted:\n",
        "            if G.is_directed():\n",
        "                v1_nbr = set(list(G.predecessors(v1)) + list(G.successors(v1)))\n",
        "                v2_nbr = set(list(G.predecessors(v2)) + list(G.successors(v2)))\n",
        "            else:\n",
        "                v1_nbr = set(G.neighbors(v1))\n",
        "                v1_nbr.remove(v2)\n",
        "                v2_nbr = set(G.neighbors(v2))\n",
        "                v2_nbr.remove(v1)\n",
        "            face = v1_nbr & v2_nbr\n",
        "            prl_nbr = (v1_nbr | v2_nbr) - face\n",
        "            G[v1][v2][\"formanCurvature\"] = len(face) + 2 - len(prl_nbr)\n",
        "        else:\n",
        "            w_e = G[v1][v2]['weight'] + np.sqrt(EPS)\n",
        "            w_i = 1.\n",
        "            w_j = 1.\n",
        "            S_i = sum([w_i/np.sqrt(v['weight']*w_e + EPS) if k!=v2 else 0. \\\n",
        "                       for k,v in G[v1].items()])\n",
        "            S_j = sum([w_j/np.sqrt(v['weight']*w_e + EPS) if k!=v1 else 0. \\\n",
        "                      for k,v in G[v2].items()])\n",
        "            curv = w_e*( (w_i/w_e) + (w_j/w_e) - S_i - S_j)\n",
        "            G[v1][v2][\"formanCurvature\"] = curv\n",
        "            assert not np.isnan(curv).any()\n",
        "\n",
        "    # Node Forman curvature\n",
        "    for n in G.nodes():\n",
        "        fcsum = 0  # sum of the neighbor Forman curvature\n",
        "        if G.degree(n) != 0:\n",
        "            for nbr in G.neighbors(n):\n",
        "                if 'formanCurvature' in G[n][nbr]:\n",
        "                    fcsum += G[n][nbr]['formanCurvature']\n",
        "            # assign the node Forman curvature to be the average of node's adjacency edges\n",
        "            G.nodes[n]['formanCurvature'] = fcsum / G.degree(n)\n",
        "        else:\n",
        "            G.nodes[n]['formanCurvature'] = default_node_curvature\n",
        "\n",
        "                \n",
        "    return G"
      ],
      "execution_count": 6,
      "outputs": []
    },
    {
      "cell_type": "markdown",
      "metadata": {
        "id": "v7lOC6dgZrYl",
        "colab_type": "text"
      },
      "source": [
        "# CurvConv architecture"
      ]
    },
    {
      "cell_type": "code",
      "metadata": {
        "id": "SFQ97EWPZpUb",
        "colab_type": "code",
        "colab": {}
      },
      "source": [
        "import torch\n",
        "from torch import nn\n",
        "import torch.nn.functional as F\n",
        "import torch_geometric.transforms as T\n",
        "from torch.utils.data import Dataset\n",
        "from torch_geometric.data import Data, DataLoader\n",
        "from torch_geometric.datasets import Planetoid, Amazon, Coauthor\n",
        "\n",
        "from torch_geometric.nn import MessagePassing, GlobalAttention, GCNConv \n",
        "from torch_geometric.nn import EdgeConv, ECConv\n",
        "from torch.nn import LeakyReLU,init,Linear, Sequential\n",
        "\n",
        "from torch_geometric.utils import softmax, degree, add_self_loops, remove_self_loops, get_laplacian\n",
        "from torch_geometric.utils.convert import from_networkx, to_networkx\n",
        "\n",
        "device = torch.device('cuda' if torch.cuda.is_available() else 'cpu')\n",
        "_=torch.manual_seed(42)"
      ],
      "execution_count": 7,
      "outputs": []
    },
    {
      "cell_type": "code",
      "metadata": {
        "id": "5hMiMc1DXnks",
        "colab_type": "code",
        "colab": {}
      },
      "source": [
        "################################\n",
        "# DEFINE CURVATURE CONVOLUTION #\n",
        "################################\n",
        "class curvGN(MessagePassing):\n",
        "    def __init__(self, in_channels, out_channels, edge_dim=1, bias=True):\n",
        "        super(curvGN, self).__init__(aggr='add')\n",
        "        self.lin = Linear(in_channels, out_channels)\n",
        "        widths = [edge_dim, out_channels]\n",
        "        self.w_mlp_out = create_wmlp(widths, out_channels, True)\n",
        "\n",
        "    def forward(self, x, edge_index, w_mul):\n",
        "        # edge_index, _ = add_self_loops(edge_index, num_nodes=x.size(0))\n",
        "        x = self.lin(x)\n",
        "        w_mul_mlp = self.w_mlp_out(w_mul)\n",
        "        out_weight = softmax(w_mul_mlp, edge_index[0])\n",
        "\n",
        "        return self.propagate(edge_index,  x=x, out_weight=out_weight), w_mul_mlp\n",
        "\n",
        "    def message(self, x_j, out_weight):\n",
        "        return out_weight*x_j\n",
        "\n",
        "    def update(self, aggr_out):\n",
        "        # aggr_out has shape [N, out_channels]\n",
        "        # Step 5: Return new node embeddings.\n",
        "        return aggr_out\n",
        "\n",
        "def create_wmlp(widths, nfeato, lbias):\n",
        "    mlp_modules=[]\n",
        "    for k in range(len(widths)-1):\n",
        "        mlp_modules.append(Linear(widths[k], widths[k+1], bias=False))\n",
        "        mlp_modules.append(LeakyReLU(0.2, True))\n",
        "    mlp_modules.append(Linear(widths[len(widths)-1], nfeato, bias=lbias))\n",
        "\n",
        "    return Sequential(*mlp_modules)\n"
      ],
      "execution_count": 8,
      "outputs": []
    },
    {
      "cell_type": "code",
      "metadata": {
        "id": "MgUt_4i5mYpr",
        "colab_type": "code",
        "colab": {}
      },
      "source": [
        "###################\n",
        "# DEFINE NETWORKS #\n",
        "###################\n",
        "class NetСurvWithReadout(torch.nn.Module):\n",
        "    def __init__(self, num_features, num_classes, hidden=64, edge_dim=1, use_dropout=True, use_laplace=False):\n",
        "\n",
        "        super(NetСurvWithReadout, self).__init__()\n",
        "        self.use_dropout = use_dropout\n",
        "        self.conv1 = curvGN(num_features, hidden, edge_dim=edge_dim)\n",
        "        # self.conv2 = curvGN(hidden, hidden, edge_dim=edge_dim)\n",
        "        # self.conv3 = curvGN(hidden, hidden, edge_dim=edge_dim)\n",
        "        self.conv4 = curvGN(hidden, hidden, edge_dim=hidden)\n",
        "        self.global_attention = GlobalAttention(gate_nn=nn.Linear(hidden,1), \n",
        "                                                nn=nn.Linear(hidden,hidden))\n",
        "        self.linear = nn.Linear(hidden,num_classes)\n",
        "\n",
        "        self.bn1 = nn.BatchNorm1d(num_features)\n",
        "        # self.bn2 = nn.BatchNorm1d(hidden)\n",
        "        # self.bn3 = nn.BatchNorm1d(hidden)\n",
        "        self.bn4 = nn.BatchNorm1d(hidden)\n",
        "        self.bn_w = nn.BatchNorm1d(edge_dim)\n",
        "        self.use_laplace = use_laplace\n",
        "\n",
        "    def forward(self, data):\n",
        "        x, edge_index, batch, w_mul = data.x, data.edge_index, data.batch, data.edge_attr\n",
        "        \n",
        "        if self.use_laplace:\n",
        "            L_edge_index, l_edge_weight = get_laplacian(edge_index=data.edge_index, \n",
        "                                                        edge_weight=data.edge_attr[:,-1]) # take correllation\n",
        "            _, l_edge_weight = remove_self_loops(L_edge_index, l_edge_weight)\n",
        "            w_mul = torch.cat([w_mul, l_edge_weight.unsqueeze(1)], -1)\n",
        "\n",
        "        w_mul = self.bn_w(w_mul)\n",
        "        x = self.bn1(x)\n",
        "        x, _ = self.conv1(x, edge_index, w_mul)\n",
        "        x = F.elu(x)\n",
        "\n",
        "        # x = self.bn2(x)\n",
        "        # x, _ = self.conv2(x, edge_index, w_mul)\n",
        "        # x = F.elu(x)\n",
        "\n",
        "        if self.use_dropout:\n",
        "            x = F.dropout(x, training=self.training)\n",
        "\n",
        "        # x = self.bn3(x)\n",
        "        # x, _ = self.conv3(x, edge_index, w_mul)\n",
        "        # x = F.elu(x)\n",
        "\n",
        "        x = self.bn4(x)\n",
        "        x, _ = self.conv4(x, edge_index, w_mul)\n",
        "        x = F.elu(x)\n",
        "\n",
        "        #readout\n",
        "        readout = self.global_attention(x, batch) \n",
        "        x = self.linear(readout)\n",
        "\n",
        "        return F.log_softmax(x, dim=-1)\n",
        "\n",
        "class NetWithReadout(torch.nn.Module):\n",
        "    def __init__(self, num_features, num_classes, hidden=64, use_dropout=True):\n",
        "        super(NetWithReadout, self).__init__()\n",
        "\n",
        "        self.use_dropout = use_dropout\n",
        "        self.conv1 = GCNConv(num_features, hidden)\n",
        "        # self.conv2 = GCNConv(hidden, hidden)\n",
        "        # self.conv3 = GCNConv(hidden, hidden)\n",
        "        self.conv4 = GCNConv(hidden, hidden)\n",
        "        self.global_attention = GlobalAttention(gate_nn=nn.Linear(hidden,1), \n",
        "                                                nn=nn.Linear(hidden,hidden))\n",
        "        self.linear = nn.Linear(hidden,num_classes)\n",
        "        self.bn1 = nn.BatchNorm1d(num_features)\n",
        "        # self.bn2 = nn.BatchNorm1d(hidden)\n",
        "        # self.bn3 = nn.BatchNorm1d(hidden)\n",
        "        self.bn4 = nn.BatchNorm1d(hidden)\n",
        "\n",
        "    def forward(self, data):\n",
        "        x, edge_index, batch = data.x, data.edge_index, data.batch\n",
        "\n",
        "        x = self.bn1(x)\n",
        "        x = self.conv1(x, edge_index)\n",
        "        x = F.elu(x)\n",
        "\n",
        "        # x = self.bn2(x)\n",
        "        # x = self.conv2(x, edge_index)\n",
        "        # x = F.elu(x)\n",
        "\n",
        "        if self.use_dropout:\n",
        "            x = F.dropout(x, training=self.training)\n",
        "\n",
        "        # x = self.bn3(x)\n",
        "        # x = self.conv3(x, edge_index)\n",
        "        # x = F.elu(x)\n",
        "\n",
        "        x = self.bn4(x)\n",
        "        x = self.conv4(x, edge_index)\n",
        "        x = F.elu(x)\n",
        "\n",
        "        #readout\n",
        "        readout = self.global_attention(x, batch) \n",
        "        x = self.linear(readout)\n",
        "\n",
        "        return F.log_softmax(x, dim=-1)\n",
        "    "
      ],
      "execution_count": 9,
      "outputs": []
    },
    {
      "cell_type": "markdown",
      "metadata": {
        "id": "bxUdFqKSaudb",
        "colab_type": "text"
      },
      "source": [
        "## Training"
      ]
    },
    {
      "cell_type": "code",
      "metadata": {
        "id": "xtPrPIm5SPNY",
        "colab_type": "code",
        "colab": {}
      },
      "source": [
        "def validate_model(model,\n",
        "                   dataloader):\n",
        "  \n",
        "\n",
        "    loss_history = []\n",
        "    acc_history = []\n",
        "    for i, batch in enumerate(dataloader):\n",
        "            batch = batch.to(device)\n",
        "            model.eval()\n",
        "            out = model(batch)\n",
        "\n",
        "            target = torch.LongTensor(batch.y).to(device)\n",
        "            loss = F.nll_loss(out, target) \n",
        "            loss_history.append(loss.item())\n",
        "            acc = (out.argmax(-1) == target).sum() / float(len(target))\n",
        "            acc_history.append(acc.item())\n",
        "\n",
        "    # end of the epoch\n",
        "    history_loss = np.mean(loss_history)\n",
        "    history_acc = np.mean(acc_history)\n",
        "\n",
        "    return history_loss, history_acc\n",
        "\n",
        "\n",
        "def train_model(model, \n",
        "                dataloader,\n",
        "                n_epochs=150):\n",
        "\n",
        "    optimizer = torch.optim.Adam(model.parameters(), lr=0.0005, weight_decay=1e-5)\n",
        "\n",
        "    history_acc = defaultdict(list)\n",
        "    history_loss = defaultdict(list)\n",
        "    \n",
        "    for epoch in tqdm_notebook(range(n_epochs)):\n",
        "        loss_history = []\n",
        "        acc_history = []\n",
        "        model.train()\n",
        "        for i, batch in enumerate(dataloader):\n",
        "\n",
        "            batch = batch.to(device)\n",
        "            model.train()\n",
        "            optimizer.zero_grad()\n",
        "            out = model(batch)\n",
        "\n",
        "            target = torch.LongTensor(batch.y).to(device)\n",
        "            loss = F.nll_loss(out, target) \n",
        "            loss.backward()\n",
        "            optimizer.step()\n",
        "            loss_history.append(loss.item())\n",
        "            acc = (out.argmax(-1) == target).sum() / float(len(target))\n",
        "            acc_history.append(acc.item())\n",
        "\n",
        "        # end of the epoch\n",
        "        history_loss['epoch'].append(np.mean(loss_history))\n",
        "        history_loss['all'] += loss_history\n",
        "        history_acc['epoch'].append(np.mean(acc_history))\n",
        "        history_acc['all'] += acc_history\n",
        "\n",
        "        # model.eval()\n",
        "        # pred = out/\n",
        "        # _, pred = pred.max(dim=1)\n",
        "        # y_pred = pred[data.test_mask].detach().cpu().numpy()\n",
        "        # y_true = data.y[data.test_mask].detach().cpu().numpy()\n",
        "        # # correct = float(pred[data.test_mask].eq(data.y[data.test_mask]).sum().item())\n",
        "        # acc = f1_metric(y_true, y_pred)\n",
        "        # # acc = correct / data.test_mask.sum().item()\n",
        "        # acc_history.append(acc)\n",
        "\n",
        "    return history_loss, history_acc"
      ],
      "execution_count": 10,
      "outputs": []
    },
    {
      "cell_type": "markdown",
      "metadata": {
        "id": "49ovbWWTsjxJ",
        "colab_type": "text"
      },
      "source": [
        "# ABIDE-1"
      ]
    },
    {
      "cell_type": "code",
      "metadata": {
        "id": "xDHuYwqjFLBG",
        "colab_type": "code",
        "colab": {}
      },
      "source": [
        "import pandas as pd\n",
        "import nilearn\n",
        "from nilearn.connectome import ConnectivityMeasure\n",
        "from sklearn.metrics import mutual_info_score\n",
        "from sklearn.metrics.cluster import normalized_mutual_info_score\n",
        "from sklearn.metrics import pairwise_distances\n",
        "from tsfresh import extract_features, extract_relevant_features\n",
        "\n",
        "def calc_MI(x, y, bins=25):\n",
        "    c_xy = np.histogram2d(x, y, bins)[0]\n",
        "    mi = mutual_info_score(None, None, contingency=c_xy)\n",
        "    return mi"
      ],
      "execution_count": 151,
      "outputs": []
    },
    {
      "cell_type": "code",
      "metadata": {
        "id": "geY4fCcD-HtK",
        "colab_type": "code",
        "colab": {}
      },
      "source": [
        "K = 10\n",
        "meta_data = './Phenotypic_V1_0b_preprocessed1.csv'\n",
        "path = './data/aal/Outputs/cpac/filt_global/rois_aal'\n",
        "if path[-1]!='/': # add '/' to the end for convinience\n",
        "    path+='/'\n",
        "    \n",
        "func = lambda x: int(x.split('_')[-3]) # extract id number to sort file names\n",
        "samples = sorted(os.listdir(path),key=func)\n",
        "\n",
        "meta_file = pd.read_csv(meta_data)\n",
        "file_id = ['_'.join(sample.split('_')[:-2]) for sample in samples] #pure ID number without site prefix\n",
        "meta_file = meta_file.set_index('FILE_ID')\n",
        "meta_file = meta_file.loc[file_id] #take samples that are present in the data\n",
        "y = meta_file['DX_GROUP'].to_numpy() #extract target sorted by ID"
      ],
      "execution_count": 152,
      "outputs": []
    },
    {
      "cell_type": "code",
      "metadata": {
        "id": "AUgdbnYHNr_F",
        "colab_type": "code",
        "colab": {}
      },
      "source": [
        "# sample_0 = pd.read_csv(path+samples[0], sep=\"\\t\")\n",
        "# sample_0_np = sample_0.to_numpy()\n",
        "# sample_0_np_processed = nilearn.signal.clean(sample_0_np)"
      ],
      "execution_count": 153,
      "outputs": []
    },
    {
      "cell_type": "code",
      "metadata": {
        "id": "trd6p6T-Faae",
        "colab_type": "code",
        "colab": {}
      },
      "source": [
        "# takes too long, need to be facilitated through Pool\n",
        "prefix = 'sw_{K}/'.format(K=K)\n",
        "name = path.split('/')[-2].split('_')[-1].upper()\n",
        "X_dir = './ABIDE1_V2'+prefix+name+'/'\n",
        "\n",
        "if not os.path.isdir(X_dir):\n",
        "    os.makedirs(X_dir+'0/')\n",
        "    os.makedirs(X_dir+'1/')\n",
        "    \n",
        "correlation_measure = ConnectivityMeasure(kind='correlation')\n",
        "new_label = {1:1,2:0} #relabeling: 1 to 1, 2 to 0\n",
        "\n",
        "for i in tqdm_notebook(range(len(samples))):\n",
        "    sample = pd.read_csv(path+samples[i], sep=\"\\t\").to_numpy()\n",
        "    sample_processed = nilearn.signal.clean(sample)\n",
        "    N = ts.shape[0]\n",
        "    for k in range(K):\n",
        "        for j in range(k+1):\n",
        "            subsample = sample[j:N-k+j,:]\n",
        "            subsample_processed = sample_processed[j:N-k+j,:]\n",
        "\n",
        "            X_aug = correlation_measure.fit_transform([subsample_processed])[0] #compute correlation of a slice\n",
        "            mutual_information = pairwise_distances(subsample_processed.T, metric=calc_MI)\n",
        "\n",
        "            edge_data = np.stack([X_aug, mutual_information], 1)\n",
        "            node_data = np.stack([subsample.mean(0), subsample.std(0)], 1)\n",
        "\n",
        "            label_dir = X_dir+f'{new_label[y[i]]}/' #path to data with corresponding label\n",
        "            sw_num = '_'+str(k)+'_'+str(j) #sliding window of size N-k with starting position at j\n",
        "\n",
        "            np.save(label_dir+file_id[i]+sw_num+'_edges'+'.npy', edge_data)\n",
        "            np.save(label_dir+file_id[i]+sw_num+'_nodes'+'.npy', node_data)\n"
      ],
      "execution_count": null,
      "outputs": []
    },
    {
      "cell_type": "code",
      "metadata": {
        "id": "zkppU-sjKBHF",
        "colab_type": "code",
        "colab": {}
      },
      "source": [
        "def get_curvatures(data_nx, weighted_edges = False, compute_olliver=False):\n",
        "    \n",
        "    results = defaultdict(dict)\n",
        "\n",
        "    if compute_olliver:\n",
        "        orc = OllivierRicci(data_nx, alpha=0.5, verbose='INFO', nbr_topk=10)\n",
        "        _ = orc.compute_ricci_curvature()\n",
        "        G_orc = orc.G.copy()\n",
        "        try:\n",
        "            ricci_curvatures_olliver = {(v1,v2):G_orc[v1][v2]['ricciCurvature'] for v1,v2 in list(G_orc.edges)}\n",
        "            ricci_curvatures_olliver_nodes = {i:G_orc.nodes[i]['ricciCurvature'] if hasattr(G_orc.nodes[i],'ricciCurvature') else 1e-15 for i in list(G_orc.nodes)} \n",
        "        except:\n",
        "            set_trace()\n",
        "        results['Olliver']['edges'] = ricci_curvatures_olliver\n",
        "        results['Olliver']['nodes'] = ricci_curvatures_olliver_nodes\n",
        "\n",
        "    G_frc = FormannCurvature(data_nx, weighted=weighted_edges, default_node_curvature=3)\n",
        "    ricci_curvatures_formann = {(v1,v2):G_frc[v1][v2]['formanCurvature'] for v1,v2 in list(G_frc.edges)}\n",
        "    ricci_curvatures_formann_nodes = {i:G_frc.nodes[i]['formanCurvature'] for i in list(G_frc.nodes)}\n",
        "\n",
        "    results['Formann']['edges'] = ricci_curvatures_formann\n",
        "    results['Formann']['nodes'] = ricci_curvatures_formann_nodes\n",
        "\n",
        "    clear_output() \n",
        "\n",
        "    return results"
      ],
      "execution_count": 12,
      "outputs": []
    },
    {
      "cell_type": "code",
      "metadata": {
        "id": "Bm3k_gCpq2Nv",
        "colab_type": "code",
        "colab": {
          "base_uri": "https://localhost:8080/",
          "height": 319
        },
        "outputId": "841cbb8b-3085-4ab1-de3a-8356b0d765d3"
      },
      "source": [
        "def threshold_matrix(corr_matrix, threshold=0.5):\n",
        "      A = corr_matrix.copy()\n",
        "      A = np.abs(A)\n",
        "      A[A < threshold] = 0\n",
        "      return A\n",
        "corr_matrix = np.load('./ABIDE1/ABIDE1_AAL.npy')[0]\n",
        "corr_matrix = threshold_matrix(corr_matrix, threshold=0.2)\n",
        "E = np.eye(corr_matrix.shape[0])\n",
        "g = nx.from_numpy_matrix(corr_matrix-E)\n",
        "nx.draw(g, with_labels=True, font_weight='bold')"
      ],
      "execution_count": 13,
      "outputs": [
        {
          "output_type": "display_data",
          "data": {
            "image/png": "[encoded data removed]",
            "text/plain": [
              "<Figure size 432x288 with 1 Axes>"
            ]
          },
          "metadata": {
            "tags": []
          }
        }
      ]
    },
    {
      "cell_type": "code",
      "metadata": {
        "id": "dUvDbzSsn4qx",
        "colab_type": "code",
        "colab": {}
      },
      "source": [
        "from sklearn.model_selection import train_test_split\n",
        "from copy import deepcopy\n",
        "\n",
        "class ABIDEDataset(Dataset):\n",
        "    def __init__(self, \n",
        "                 data_path = './data/aal/Outputs/cpac/filt_global/rois_aal', \n",
        "                 numpy_target_path='ABIDE1/target.npy', \n",
        "                 atlas_type='AAL', \n",
        "                 threshold=None, \n",
        "                 rebuild=True,\n",
        "                 compute_olliver=True,\n",
        "                 curvatures_path=None):\n",
        "      \n",
        "        super(ABIDEDataset, self).__init__()\n",
        "\n",
        "        self.data_path = data_path\n",
        "        samples = os.listdir(self.data_path)\n",
        "        self.numpy_target = np.load(numpy_target_path)\n",
        "        self.threshold = threshold\n",
        "        self.curvatures_path = curvatures_path\n",
        "        self.compute_olliver = compute_olliver\n",
        "        self.rebuild = rebuild\n",
        "        N = self.numpy_data.shape[0]\n",
        "\n",
        "        self.dirname = f'ABIDE_torch_geom_data_{atlas_type}' +\\\n",
        "                       (f'_thresh-{self.threshold}' if self.threshold is not None else '') +\\\n",
        "                       'curv_formann' +\\\n",
        "                       ('_olliver' if compute_olliver else '')\n",
        "\n",
        "        if (not os.path.isdir(self.dirname)) or len(os.listdir(self.dirname))!=N or self.rebuild:\n",
        "            self.N = self.numpy_data.shape[-1]\n",
        "            print (f'Making pytorch-data directory: `{self.dirname}`')\n",
        "            os.makedirs(self.dirname, exist_ok=True)\n",
        "\n",
        "            if self.curvatures_path is not None:\n",
        "                print ('Load pre-computed curvatures...')\n",
        "                self.curv_abide = np.load(self.curvatures_path, allow_pickle=True).tolist()\n",
        "          \n",
        "            pool = ThreadPool(mp.cpu_count())\n",
        "            _ = pool.map(self.make_item, range(N))\n",
        "            pool.close()\n",
        "            pool.join()\n",
        "        \n",
        "        print ('Done!')\n",
        "        self.items = [os.path.join(self.dirname, data_name) for data_name in sorted(os.listdir(self.dirname))]\n",
        "        assert len(self.items) > 0\n",
        "\n",
        "    def split(self):\n",
        "        # split the data to train\\val datasets\n",
        "        train_items, val_items = train_test_split(self.items, shuffle=True, random_state =42)\n",
        "        self_train = deepcopy(self)\n",
        "        self_train.items = train_items\n",
        "        self_val = deepcopy(self)\n",
        "        self_val.items = val_items\n",
        "\n",
        "        return self_train, self_val\n",
        "\n",
        "    def make_item(self, i):\n",
        "\n",
        "        item_name = os.path.join(self.dirname,'data_%06d'%i)\n",
        "\n",
        "        if not os.path.isfile(item_name) or self.rebuild:\n",
        "            corr_matrix = self.numpy_data[i]\n",
        "            target = self.numpy_target[i]\n",
        "            # eliminate self-corellation\n",
        "            corr_matrix = corr_matrix-np.diag(corr_matrix.diagonal())\n",
        "            if self.threshold is not None:\n",
        "                corr_matrix = self.threshold_matrix(corr_matrix)\n",
        "            # make graph\n",
        "            g = nx.from_numpy_matrix(corr_matrix)\n",
        "            g_uniform = g.copy()\n",
        "            nx.set_edge_attributes(g_uniform, 1., 'weight')\n",
        "\n",
        "            if self.curvatures_path is None:\n",
        "                curvature = get_curvatures(g_uniform, compute_olliver=self.compute_olliver)\n",
        "            else:\n",
        "                curvature = self.curv_abide[i]\n",
        "\n",
        "            # fill graph features\n",
        "            for edge in g.edges:\n",
        "                edges_curvatures = [np.float(curvature[key]['edges'][edge]) for key in curvature.keys()]\n",
        "                g[edge[0]][edge[1]]['edge_attr'] = [*edges_curvatures, # curvature\n",
        "                                                    np.float(g[edge[0]][edge[1]]['weight'])] # correllation\n",
        "            for node in g.nodes:\n",
        "                onehot = np.zeros(self.N, dtype=np.float)\n",
        "                onehot[node] = 1.\n",
        "                node_curvatures = [np.float(curvature[key]['nodes'][node]) for key in curvature.keys()]\n",
        "                g.nodes[node]['x'] = np.concatenate([onehot, node_curvatures]).flatten().tolist()\n",
        "\n",
        "            # make pytorch-geom data  \n",
        "            data = make_data(g,target)\n",
        "            # save to self.dirname\n",
        "            torch.save(data, item_name)\n",
        "\n",
        "    def threshold_matrix(self, corr_matrix):\n",
        "        A = corr_matrix.copy()\n",
        "        A = np.abs(A)\n",
        "        A[A < self.threshold] = 0\n",
        "        return A\n",
        "\n",
        "    def __len__(self):\n",
        "        return len(self.items)\n",
        "\n",
        "    def __getitem__(self, i):\n",
        "        data = torch.load(self.items[i])\n",
        "\n",
        "        return data\n"
      ],
      "execution_count": null,
      "outputs": []
    },
    {
      "cell_type": "code",
      "metadata": {
        "id": "QtNKC8bSyGyT",
        "colab_type": "code",
        "colab": {
          "base_uri": "https://localhost:8080/",
          "height": 34
        },
        "outputId": "8f869fba-b572-4164-b6ed-e8580d26c0c3"
      },
      "source": [
        "dataset = ABIDEDataset(numpy_data_folder='ABIDE1', \n",
        "                       atlas_type='AAL', \n",
        "                       threshold=0.5, \n",
        "                       rebuild=False,\n",
        "                       curvatures_path=None)\n",
        "\n",
        "num_classes = len(np.unique(dataset.numpy_target))\n",
        "\n",
        "dataset_train, dataset_val = dataset.split()\n",
        "\n",
        "dataloader_abide_train = DataLoader(dataset_train, batch_size=32, shuffle=True)\n",
        "dataloader_abide_val = DataLoader(dataset_val, batch_size=32, shuffle=True)"
      ],
      "execution_count": null,
      "outputs": [
        {
          "output_type": "stream",
          "text": [
            "Done!\n"
          ],
          "name": "stdout"
        }
      ]
    },
    {
      "cell_type": "code",
      "metadata": {
        "id": "IH2E9QWgLNYk",
        "colab_type": "code",
        "colab": {
          "base_uri": "https://localhost:8080/",
          "height": 34
        },
        "outputId": "2d1634bd-682c-4ea8-f71f-090932750a1e"
      },
      "source": [
        "len(dataset.items), len(dataset)"
      ],
      "execution_count": null,
      "outputs": [
        {
          "output_type": "execute_result",
          "data": {
            "text/plain": [
              "(884, 884)"
            ]
          },
          "metadata": {
            "tags": []
          },
          "execution_count": 39
        }
      ]
    },
    {
      "cell_type": "code",
      "metadata": {
        "id": "c1v6kC3wzeTT",
        "colab_type": "code",
        "colab": {
          "base_uri": "https://localhost:8080/",
          "height": 265
        },
        "outputId": "b3cd7093-b03f-49f1-d79e-a94774eb397c"
      },
      "source": [
        "n_epochs = 120\n",
        "USE_LAPL = False\n",
        "\n",
        "for batch in dataloader_abide_train:\n",
        "    break\n",
        "plt.figure()\n",
        "plt.hist(batch.edge_attr.flatten().tolist(), bins=50)\n",
        "plt.show()\n",
        "\n",
        "if USE_LAPL:\n",
        "    plt.figure()\n",
        "    L_edge_index, l_edge_weight = get_laplacian(edge_index=batch.edge_index, edge_weight=batch.edge_attr[:,-1])\n",
        "    L_edge_index, l_edge_weight = remove_self_loops(L_edge_index, l_edge_weight)\n",
        "    assert (L_edge_index == batch.edge_index).all()\n",
        "    plt.hist(l_edge_weight.detach().cpu().numpy().flatten(), bins=100)\n",
        "    plt.show()"
      ],
      "execution_count": null,
      "outputs": [
        {
          "output_type": "display_data",
          "data": {
            "image/png": "[encoded data removed]",
            "text/plain": [
              "<Figure size 432x288 with 1 Axes>"
            ]
          },
          "metadata": {
            "tags": [],
            "needs_background": "light"
          }
        }
      ]
    },
    {
      "cell_type": "code",
      "metadata": {
        "id": "eZf9UTJtSRlh",
        "colab_type": "code",
        "colab": {}
      },
      "source": [
        "# ###########################\n",
        "# # DEFINE EDGE CONVOLUTION #\n",
        "# ###########################\n",
        "# class EDGEConv(MessagePassing):\n",
        "#     def __init__(self, in_channels, out_channels, edge_dim=1, bias=True):\n",
        "#         super(EDGEConv, self).__init__(aggr='add')\n",
        "#         self.lin = Linear(in_channels, out_channels)\n",
        "#         self.activation = LeakyReLU(0.2, True)\n",
        "\n",
        "#     def forward(self, data):\n",
        "#         x, edge_index, batch, edge_attr = data.x, data.edge_index, data.batch, data.edge_attr\n",
        "#         edge_attr = self.lin(edge_attr)\n",
        "#         edge_attr = self.activation(edge_attr)\n",
        "#         return self.propagate(edge_index, out_weight=edge_attr), edge_attr\n",
        "\n",
        "#     def message(self,  out_weight):\n",
        "#         return out_weight\n",
        "\n",
        "#     def aggregate(self, inputs, index):\n",
        "#         set_trace()\n",
        "#         return None\n",
        "\n",
        "#     def update(self, aggr_out):\n",
        "#         set_trace()\n",
        "#         return aggr_out"
      ],
      "execution_count": null,
      "outputs": []
    },
    {
      "cell_type": "code",
      "metadata": {
        "id": "w_Dlw7eMsFxl",
        "colab_type": "code",
        "colab": {
          "base_uri": "https://localhost:8080/",
          "height": 99,
          "referenced_widgets": [
            "fa06cd6c33174461a720cec2dc482403",
            "cf1264717a9a43f9bc3157b05ee5f2d0",
            "cc76980191b04593a3332adb23b67a4a",
            "9a5cb5e5570e4ecc999126a4a4f28a5c",
            "fee640a49bdc4d43a919b10a15cd721d",
            "b2d928ab4c024882be51ddc62e6a1702",
            "dfcf9ba77214445b98686a7f97a7ee94",
            "270c14528d87480b815f7a41c0909a7d"
          ]
        },
        "outputId": "2e5c0082-3cfe-405e-fbaf-ab30819e040b"
      },
      "source": [
        "net = NetWithReadout(num_features=batch.x.shape[1], num_classes=num_classes, hidden=64).to(device)\n",
        "history_loss_baseline, history_acc_baseline = train_model(net, \n",
        "                                                          dataloader_abide_train,\n",
        "                                                          n_epochs=n_epochs)"
      ],
      "execution_count": null,
      "outputs": [
        {
          "output_type": "stream",
          "text": [
            "/usr/local/lib/python3.6/dist-packages/ipykernel_launcher.py:34: TqdmDeprecationWarning: This function will be removed in tqdm==5.0.0\n",
            "Please use `tqdm.notebook.tqdm` instead of `tqdm.tqdm_notebook`\n"
          ],
          "name": "stderr"
        },
        {
          "output_type": "display_data",
          "data": {
            "application/vnd.jupyter.widget-view+json": {
              "model_id": "fa06cd6c33174461a720cec2dc482403",
              "version_minor": 0,
              "version_major": 2
            },
            "text/plain": [
              "HBox(children=(FloatProgress(value=0.0, max=120.0), HTML(value='')))"
            ]
          },
          "metadata": {
            "tags": []
          }
        },
        {
          "output_type": "stream",
          "text": [
            "\n"
          ],
          "name": "stdout"
        }
      ]
    },
    {
      "cell_type": "code",
      "metadata": {
        "id": "JPdMiHD8sIga",
        "colab_type": "code",
        "colab": {
          "base_uri": "https://localhost:8080/",
          "height": 99,
          "referenced_widgets": [
            "01c611ddc1004bf286ec1e1d65a10169",
            "7e41e461449e43f98864cc42f1cb8f69",
            "8ec60077978d4086b5a74fa64b5dde9b",
            "1949312dd8314b1cb7deae3a31d1a789",
            "681f23ab8c044a73905dd7e1be09f7b9",
            "03c80d6f60704b81abee0a768e51cc57",
            "4a59e78f8317406eb34ef5ceb61ef96a",
            "78ef0cd1ba484976a260459d465e8e28"
          ]
        },
        "outputId": "a7eeb6ee-2d96-4236-a469-3043d56d1d67"
      },
      "source": [
        "curv_edge_dim = batch.edge_attr.shape[1]\n",
        "if USE_LAPL:\n",
        "    curv_edge_dim += 1\n",
        "curv_net = NetСurvWithReadout(num_features=batch.x.shape[1], num_classes=num_classes, edge_dim=curv_edge_dim, hidden=64, use_laplace=USE_LAPL).to(device)\n",
        "history_loss_curv, history_acc_curv = train_model(curv_net, \n",
        "                                                  dataloader_abide_train,\n",
        "                                                  n_epochs=n_epochs)"
      ],
      "execution_count": null,
      "outputs": [
        {
          "output_type": "stream",
          "text": [
            "/usr/local/lib/python3.6/dist-packages/ipykernel_launcher.py:34: TqdmDeprecationWarning: This function will be removed in tqdm==5.0.0\n",
            "Please use `tqdm.notebook.tqdm` instead of `tqdm.tqdm_notebook`\n"
          ],
          "name": "stderr"
        },
        {
          "output_type": "display_data",
          "data": {
            "application/vnd.jupyter.widget-view+json": {
              "model_id": "01c611ddc1004bf286ec1e1d65a10169",
              "version_minor": 0,
              "version_major": 2
            },
            "text/plain": [
              "HBox(children=(FloatProgress(value=0.0, max=120.0), HTML(value='')))"
            ]
          },
          "metadata": {
            "tags": []
          }
        },
        {
          "output_type": "stream",
          "text": [
            "\n"
          ],
          "name": "stdout"
        }
      ]
    },
    {
      "cell_type": "code",
      "metadata": {
        "id": "9G4v5Nb9T3SB",
        "colab_type": "code",
        "colab": {}
      },
      "source": [
        "history_loss_baseline_val, history_acc_baseline_val = validate_model(net,\n",
        "                                                                     dataloader_abide_val)\n",
        "history_loss_curv_val, history_acc_curv_val = validate_model(curv_net,\n",
        "                                                              dataloader_abide_val)"
      ],
      "execution_count": null,
      "outputs": []
    },
    {
      "cell_type": "code",
      "metadata": {
        "id": "ACJtluBDrnNv",
        "colab_type": "code",
        "colab": {
          "base_uri": "https://localhost:8080/",
          "height": 280
        },
        "outputId": "9124e1d7-e030-4d78-f13e-cb1fb310ff47"
      },
      "source": [
        "# W_MUL_PROP\n",
        "plt.plot(history_acc_baseline['epoch'], label='Baseline')\n",
        "plt.plot(history_acc_curv['epoch'], label='with node-edge curvature')\n",
        "\n",
        "plt.plot([history_acc_baseline_val]*n_epochs, '--', color='blue', label='baseline val')\n",
        "plt.plot([history_acc_curv_val]*n_epochs, '--', color='orange', label='curv val')\n",
        "\n",
        "plt.ylabel('Accuracy')\n",
        "plt.xlabel('Epoch')\n",
        "plt.legend()\n",
        "plt.show()"
      ],
      "execution_count": null,
      "outputs": [
        {
          "output_type": "display_data",
          "data": {
            "image/png": "[encoded data removed]",
            "text/plain": [
              "<Figure size 432x288 with 1 Axes>"
            ]
          },
          "metadata": {
            "tags": []
          }
        }
      ]
    },
    {
      "cell_type": "code",
      "metadata": {
        "id": "jpPP4_77lDeB",
        "colab_type": "code",
        "colab": {
          "base_uri": "https://localhost:8080/",
          "height": 279
        },
        "outputId": "349a4852-dbec-4624-cb1b-75b9a4e65b08"
      },
      "source": [
        "\n",
        "plt.plot(history_acc_baseline['epoch'], label='Baseline')\n",
        "plt.plot(history_acc_curv['epoch'], label='with node-edge curvature')\n",
        "\n",
        "plt.plot([history_acc_baseline_val]*n_epochs, '--', color='blue', label='baseline val')\n",
        "plt.plot([history_acc_curv_val]*n_epochs, '--', color='orange', label='curv val')\n",
        "\n",
        "plt.ylabel('Accuracy')\n",
        "plt.xlabel('Epoch')\n",
        "plt.legend()\n",
        "plt.show()"
      ],
      "execution_count": null,
      "outputs": [
        {
          "output_type": "display_data",
          "data": {
            "image/png": "[encoded data removed]",
            "text/plain": [
              "<Figure size 432x288 with 1 Axes>"
            ]
          },
          "metadata": {
            "tags": []
          }
        }
      ]
    },
    {
      "cell_type": "code",
      "metadata": {
        "id": "45dZTJ0u0jrA",
        "colab_type": "code",
        "colab": {
          "base_uri": "https://localhost:8080/",
          "height": 281
        },
        "outputId": "2dab6303-ce0a-41b0-ade0-3c377c6fd401"
      },
      "source": [
        "plt.plot(history_loss_baseline['epoch'], label='Baseline')\n",
        "plt.plot(history_loss_curv['epoch'], label='with node-edge curvature')\n",
        "\n",
        "plt.plot([history_loss_baseline_val]*n_epochs, '--', color='blue', label='baseline val')\n",
        "plt.plot([history_loss_curv_val]*n_epochs, '--', color='orange', label='curv val')\n",
        "\n",
        "plt.ylabel('NLL loss')\n",
        "plt.xlabel('Epoch')\n",
        "plt.legend()\n",
        "plt.show()"
      ],
      "execution_count": null,
      "outputs": [
        {
          "output_type": "display_data",
          "data": {
            "image/png": "[encoded data removed]",
            "text/plain": [
              "<Figure size 432x288 with 1 Axes>"
            ]
          },
          "metadata": {
            "tags": []
          }
        }
      ]
    },
    {
      "cell_type": "code",
      "metadata": {
        "id": "ActerqngIo6r",
        "colab_type": "code",
        "colab": {
          "base_uri": "https://localhost:8080/",
          "height": 265
        },
        "outputId": "2b71195b-e85f-4c95-d6f9-8f97d98658db"
      },
      "source": [
        "weights = torch.cat([p.data.flatten() for p in curv_net.parameters()]).detach().cpu().numpy()\n",
        "plt.hist(weights,bins=100)\n",
        "plt.show()"
      ],
      "execution_count": null,
      "outputs": [
        {
          "output_type": "display_data",
          "data": {
            "image/png": "[encoded data removed]",
            "text/plain": [
              "<Figure size 432x288 with 1 Axes>"
            ]
          },
          "metadata": {
            "tags": []
          }
        }
      ]
    }
  ]
}
{
  "nbformat": 4,
  "nbformat_minor": 0,
  "metadata": {
    "kernelspec": {
      "display_name": "Python 3",
      "language": "python",
      "name": "python3"
    },
    "language_info": {
      "codemirror_mode": {
        "name": "ipython",
        "version": 3
      },
      "file_extension": ".py",
      "mimetype": "text/x-python",
      "name": "python",
      "nbconvert_exporter": "python",
      "pygments_lexer": "ipython3",
      "version": "3.7.4"
    },
    "pycharm": {
      "stem_cell": {
        "cell_type": "raw",
        "source": [],
        "metadata": {
          "collapsed": false
        }
      }
    },
    "colab": {
      "name": "graph_classification.ipynb",
      "provenance": [],
      "collapsed_sections": []
    },
    "accelerator": "GPU",
    "widgets": {
      "application/vnd.jupyter.widget-state+json": {
        "1a29bd07c5654d2b9e568cf1f0c6f76d": {
          "model_module": "@jupyter-widgets/controls",
          "model_name": "HBoxModel",
          "state": {
            "_view_name": "HBoxView",
            "_dom_classes": [],
            "_model_name": "HBoxModel",
            "_view_module": "@jupyter-widgets/controls",
            "_model_module_version": "1.5.0",
            "_view_count": null,
            "_view_module_version": "1.5.0",
            "box_style": "",
            "layout": "IPY_MODEL_d9cac476fcfc424782b06151c323eee4",
            "_model_module": "@jupyter-widgets/controls",
            "children": [
              "IPY_MODEL_af99ef3b83d04013b7420e6b57ca940f",
              "IPY_MODEL_5a99111cd58144b98d26d0ff254edd59"
            ]
          }
        },
        "d9cac476fcfc424782b06151c323eee4": {
          "model_module": "@jupyter-widgets/base",
          "model_name": "LayoutModel",
          "state": {
            "_view_name": "LayoutView",
            "grid_template_rows": null,
            "right": null,
            "justify_content": null,
            "_view_module": "@jupyter-widgets/base",
            "overflow": null,
            "_model_module_version": "1.2.0",
            "_view_count": null,
            "flex_flow": null,
            "width": null,
            "min_width": null,
            "border": null,
            "align_items": null,
            "bottom": null,
            "_model_module": "@jupyter-widgets/base",
            "top": null,
            "grid_column": null,
            "overflow_y": null,
            "overflow_x": null,
            "grid_auto_flow": null,
            "grid_area": null,
            "grid_template_columns": null,
            "flex": null,
            "_model_name": "LayoutModel",
            "justify_items": null,
            "grid_row": null,
            "max_height": null,
            "align_content": null,
            "visibility": null,
            "align_self": null,
            "height": null,
            "min_height": null,
            "padding": null,
            "grid_auto_rows": null,
            "grid_gap": null,
            "max_width": null,
            "order": null,
            "_view_module_version": "1.2.0",
            "grid_template_areas": null,
            "object_position": null,
            "object_fit": null,
            "grid_auto_columns": null,
            "margin": null,
            "display": null,
            "left": null
          }
        },
        "af99ef3b83d04013b7420e6b57ca940f": {
          "model_module": "@jupyter-widgets/controls",
          "model_name": "FloatProgressModel",
          "state": {
            "_view_name": "ProgressView",
            "style": "IPY_MODEL_6480cd6b59124500aecbc1aa4ed6268a",
            "_dom_classes": [],
            "description": "100%",
            "_model_name": "FloatProgressModel",
            "bar_style": "success",
            "max": 240,
            "_view_module": "@jupyter-widgets/controls",
            "_model_module_version": "1.5.0",
            "value": 240,
            "_view_count": null,
            "_view_module_version": "1.5.0",
            "orientation": "horizontal",
            "min": 0,
            "description_tooltip": null,
            "_model_module": "@jupyter-widgets/controls",
            "layout": "IPY_MODEL_8532b6c40c56409982e08be650fe0870"
          }
        },
        "5a99111cd58144b98d26d0ff254edd59": {
          "model_module": "@jupyter-widgets/controls",
          "model_name": "HTMLModel",
          "state": {
            "_view_name": "HTMLView",
            "style": "IPY_MODEL_b9b5b38a357a4367a7a54ef9f17f6930",
            "_dom_classes": [],
            "description": "",
            "_model_name": "HTMLModel",
            "placeholder": "​",
            "_view_module": "@jupyter-widgets/controls",
            "_model_module_version": "1.5.0",
            "value": " 240/240 [01:05&lt;00:00,  3.65it/s]",
            "_view_count": null,
            "_view_module_version": "1.5.0",
            "description_tooltip": null,
            "_model_module": "@jupyter-widgets/controls",
            "layout": "IPY_MODEL_aacb29270d3b4ea1bd4f2b8c3b668c9e"
          }
        },
        "6480cd6b59124500aecbc1aa4ed6268a": {
          "model_module": "@jupyter-widgets/controls",
          "model_name": "ProgressStyleModel",
          "state": {
            "_view_name": "StyleView",
            "_model_name": "ProgressStyleModel",
            "description_width": "initial",
            "_view_module": "@jupyter-widgets/base",
            "_model_module_version": "1.5.0",
            "_view_count": null,
            "_view_module_version": "1.2.0",
            "bar_color": null,
            "_model_module": "@jupyter-widgets/controls"
          }
        },
        "8532b6c40c56409982e08be650fe0870": {
          "model_module": "@jupyter-widgets/base",
          "model_name": "LayoutModel",
          "state": {
            "_view_name": "LayoutView",
            "grid_template_rows": null,
            "right": null,
            "justify_content": null,
            "_view_module": "@jupyter-widgets/base",
            "overflow": null,
            "_model_module_version": "1.2.0",
            "_view_count": null,
            "flex_flow": null,
            "width": null,
            "min_width": null,
            "border": null,
            "align_items": null,
            "bottom": null,
            "_model_module": "@jupyter-widgets/base",
            "top": null,
            "grid_column": null,
            "overflow_y": null,
            "overflow_x": null,
            "grid_auto_flow": null,
            "grid_area": null,
            "grid_template_columns": null,
            "flex": null,
            "_model_name": "LayoutModel",
            "justify_items": null,
            "grid_row": null,
            "max_height": null,
            "align_content": null,
            "visibility": null,
            "align_self": null,
            "height": null,
            "min_height": null,
            "padding": null,
            "grid_auto_rows": null,
            "grid_gap": null,
            "max_width": null,
            "order": null,
            "_view_module_version": "1.2.0",
            "grid_template_areas": null,
            "object_position": null,
            "object_fit": null,
            "grid_auto_columns": null,
            "margin": null,
            "display": null,
            "left": null
          }
        },
        "b9b5b38a357a4367a7a54ef9f17f6930": {
          "model_module": "@jupyter-widgets/controls",
          "model_name": "DescriptionStyleModel",
          "state": {
            "_view_name": "StyleView",
            "_model_name": "DescriptionStyleModel",
            "description_width": "",
            "_view_module": "@jupyter-widgets/base",
            "_model_module_version": "1.5.0",
            "_view_count": null,
            "_view_module_version": "1.2.0",
            "_model_module": "@jupyter-widgets/controls"
          }
        },
        "aacb29270d3b4ea1bd4f2b8c3b668c9e": {
          "model_module": "@jupyter-widgets/base",
          "model_name": "LayoutModel",
          "state": {
            "_view_name": "LayoutView",
            "grid_template_rows": null,
            "right": null,
            "justify_content": null,
            "_view_module": "@jupyter-widgets/base",
            "overflow": null,
            "_model_module_version": "1.2.0",
            "_view_count": null,
            "flex_flow": null,
            "width": null,
            "min_width": null,
            "border": null,
            "align_items": null,
            "bottom": null,
            "_model_module": "@jupyter-widgets/base",
            "top": null,
            "grid_column": null,
            "overflow_y": null,
            "overflow_x": null,
            "grid_auto_flow": null,
            "grid_area": null,
            "grid_template_columns": null,
            "flex": null,
            "_model_name": "LayoutModel",
            "justify_items": null,
            "grid_row": null,
            "max_height": null,
            "align_content": null,
            "visibility": null,
            "align_self": null,
            "height": null,
            "min_height": null,
            "padding": null,
            "grid_auto_rows": null,
            "grid_gap": null,
            "max_width": null,
            "order": null,
            "_view_module_version": "1.2.0",
            "grid_template_areas": null,
            "object_position": null,
            "object_fit": null,
            "grid_auto_columns": null,
            "margin": null,
            "display": null,
            "left": null
          }
        },
        "a9f8da887c9d49f39a49e8c29dcedbce": {
          "model_module": "@jupyter-widgets/controls",
          "model_name": "HBoxModel",
          "state": {
            "_view_name": "HBoxView",
            "_dom_classes": [],
            "_model_name": "HBoxModel",
            "_view_module": "@jupyter-widgets/controls",
            "_model_module_version": "1.5.0",
            "_view_count": null,
            "_view_module_version": "1.5.0",
            "box_style": "",
            "layout": "IPY_MODEL_57007b7f17294f4f8892a627526b2e60",
            "_model_module": "@jupyter-widgets/controls",
            "children": [
              "IPY_MODEL_f828079a23044aa0bfe322531207a152",
              "IPY_MODEL_0fdc313b5ffc4f238db36a5ffbd96c6c"
            ]
          }
        },
        "57007b7f17294f4f8892a627526b2e60": {
          "model_module": "@jupyter-widgets/base",
          "model_name": "LayoutModel",
          "state": {
            "_view_name": "LayoutView",
            "grid_template_rows": null,
            "right": null,
            "justify_content": null,
            "_view_module": "@jupyter-widgets/base",
            "overflow": null,
            "_model_module_version": "1.2.0",
            "_view_count": null,
            "flex_flow": null,
            "width": null,
            "min_width": null,
            "border": null,
            "align_items": null,
            "bottom": null,
            "_model_module": "@jupyter-widgets/base",
            "top": null,
            "grid_column": null,
            "overflow_y": null,
            "overflow_x": null,
            "grid_auto_flow": null,
            "grid_area": null,
            "grid_template_columns": null,
            "flex": null,
            "_model_name": "LayoutModel",
            "justify_items": null,
            "grid_row": null,
            "max_height": null,
            "align_content": null,
            "visibility": null,
            "align_self": null,
            "height": null,
            "min_height": null,
            "padding": null,
            "grid_auto_rows": null,
            "grid_gap": null,
            "max_width": null,
            "order": null,
            "_view_module_version": "1.2.0",
            "grid_template_areas": null,
            "object_position": null,
            "object_fit": null,
            "grid_auto_columns": null,
            "margin": null,
            "display": null,
            "left": null
          }
        },
        "f828079a23044aa0bfe322531207a152": {
          "model_module": "@jupyter-widgets/controls",
          "model_name": "FloatProgressModel",
          "state": {
            "_view_name": "ProgressView",
            "style": "IPY_MODEL_ff0453b1dd8c43b09295d767df462477",
            "_dom_classes": [],
            "description": "100%",
            "_model_name": "FloatProgressModel",
            "bar_style": "success",
            "max": 240,
            "_view_module": "@jupyter-widgets/controls",
            "_model_module_version": "1.5.0",
            "value": 240,
            "_view_count": null,
            "_view_module_version": "1.5.0",
            "orientation": "horizontal",
            "min": 0,
            "description_tooltip": null,
            "_model_module": "@jupyter-widgets/controls",
            "layout": "IPY_MODEL_724311906ea0458bbf4dc357f56a420f"
          }
        },
        "0fdc313b5ffc4f238db36a5ffbd96c6c": {
          "model_module": "@jupyter-widgets/controls",
          "model_name": "HTMLModel",
          "state": {
            "_view_name": "HTMLView",
            "style": "IPY_MODEL_b1b1cb86c04e4d55a005fb96cadf35b4",
            "_dom_classes": [],
            "description": "",
            "_model_name": "HTMLModel",
            "placeholder": "​",
            "_view_module": "@jupyter-widgets/controls",
            "_model_module_version": "1.5.0",
            "value": " 240/240 [01:20&lt;00:00,  2.98it/s]",
            "_view_count": null,
            "_view_module_version": "1.5.0",
            "description_tooltip": null,
            "_model_module": "@jupyter-widgets/controls",
            "layout": "IPY_MODEL_57217b6f1177478e827459c92143373c"
          }
        },
        "ff0453b1dd8c43b09295d767df462477": {
          "model_module": "@jupyter-widgets/controls",
          "model_name": "ProgressStyleModel",
          "state": {
            "_view_name": "StyleView",
            "_model_name": "ProgressStyleModel",
            "description_width": "initial",
            "_view_module": "@jupyter-widgets/base",
            "_model_module_version": "1.5.0",
            "_view_count": null,
            "_view_module_version": "1.2.0",
            "bar_color": null,
            "_model_module": "@jupyter-widgets/controls"
          }
        },
        "724311906ea0458bbf4dc357f56a420f": {
          "model_module": "@jupyter-widgets/base",
          "model_name": "LayoutModel",
          "state": {
            "_view_name": "LayoutView",
            "grid_template_rows": null,
            "right": null,
            "justify_content": null,
            "_view_module": "@jupyter-widgets/base",
            "overflow": null,
            "_model_module_version": "1.2.0",
            "_view_count": null,
            "flex_flow": null,
            "width": null,
            "min_width": null,
            "border": null,
            "align_items": null,
            "bottom": null,
            "_model_module": "@jupyter-widgets/base",
            "top": null,
            "grid_column": null,
            "overflow_y": null,
            "overflow_x": null,
            "grid_auto_flow": null,
            "grid_area": null,
            "grid_template_columns": null,
            "flex": null,
            "_model_name": "LayoutModel",
            "justify_items": null,
            "grid_row": null,
            "max_height": null,
            "align_content": null,
            "visibility": null,
            "align_self": null,
            "height": null,
            "min_height": null,
            "padding": null,
            "grid_auto_rows": null,
            "grid_gap": null,
            "max_width": null,
            "order": null,
            "_view_module_version": "1.2.0",
            "grid_template_areas": null,
            "object_position": null,
            "object_fit": null,
            "grid_auto_columns": null,
            "margin": null,
            "display": null,
            "left": null
          }
        },
        "b1b1cb86c04e4d55a005fb96cadf35b4": {
          "model_module": "@jupyter-widgets/controls",
          "model_name": "DescriptionStyleModel",
          "state": {
            "_view_name": "StyleView",
            "_model_name": "DescriptionStyleModel",
            "description_width": "",
            "_view_module": "@jupyter-widgets/base",
            "_model_module_version": "1.5.0",
            "_view_count": null,
            "_view_module_version": "1.2.0",
            "_model_module": "@jupyter-widgets/controls"
          }
        },
        "57217b6f1177478e827459c92143373c": {
          "model_module": "@jupyter-widgets/base",
          "model_name": "LayoutModel",
          "state": {
            "_view_name": "LayoutView",
            "grid_template_rows": null,
            "right": null,
            "justify_content": null,
            "_view_module": "@jupyter-widgets/base",
            "overflow": null,
            "_model_module_version": "1.2.0",
            "_view_count": null,
            "flex_flow": null,
            "width": null,
            "min_width": null,
            "border": null,
            "align_items": null,
            "bottom": null,
            "_model_module": "@jupyter-widgets/base",
            "top": null,
            "grid_column": null,
            "overflow_y": null,
            "overflow_x": null,
            "grid_auto_flow": null,
            "grid_area": null,
            "grid_template_columns": null,
            "flex": null,
            "_model_name": "LayoutModel",
            "justify_items": null,
            "grid_row": null,
            "max_height": null,
            "align_content": null,
            "visibility": null,
            "align_self": null,
            "height": null,
            "min_height": null,
            "padding": null,
            "grid_auto_rows": null,
            "grid_gap": null,
            "max_width": null,
            "order": null,
            "_view_module_version": "1.2.0",
            "grid_template_areas": null,
            "object_position": null,
            "object_fit": null,
            "grid_auto_columns": null,
            "margin": null,
            "display": null,
            "left": null
          }
        },
        "cbd5139db07043a29e6bbc2e4cc3120e": {
          "model_module": "@jupyter-widgets/controls",
          "model_name": "HBoxModel",
          "state": {
            "_view_name": "HBoxView",
            "_dom_classes": [],
            "_model_name": "HBoxModel",
            "_view_module": "@jupyter-widgets/controls",
            "_model_module_version": "1.5.0",
            "_view_count": null,
            "_view_module_version": "1.5.0",
            "box_style": "",
            "layout": "IPY_MODEL_09ec3066e8544832bee0b0657c6d81a0",
            "_model_module": "@jupyter-widgets/controls",
            "children": [
              "IPY_MODEL_ee455996eff5447aa1d103581b07f3b5",
              "IPY_MODEL_cc4609659ba64631818397f5dcae2a41"
            ]
          }
        },
        "09ec3066e8544832bee0b0657c6d81a0": {
          "model_module": "@jupyter-widgets/base",
          "model_name": "LayoutModel",
          "state": {
            "_view_name": "LayoutView",
            "grid_template_rows": null,
            "right": null,
            "justify_content": null,
            "_view_module": "@jupyter-widgets/base",
            "overflow": null,
            "_model_module_version": "1.2.0",
            "_view_count": null,
            "flex_flow": null,
            "width": null,
            "min_width": null,
            "border": null,
            "align_items": null,
            "bottom": null,
            "_model_module": "@jupyter-widgets/base",
            "top": null,
            "grid_column": null,
            "overflow_y": null,
            "overflow_x": null,
            "grid_auto_flow": null,
            "grid_area": null,
            "grid_template_columns": null,
            "flex": null,
            "_model_name": "LayoutModel",
            "justify_items": null,
            "grid_row": null,
            "max_height": null,
            "align_content": null,
            "visibility": null,
            "align_self": null,
            "height": null,
            "min_height": null,
            "padding": null,
            "grid_auto_rows": null,
            "grid_gap": null,
            "max_width": null,
            "order": null,
            "_view_module_version": "1.2.0",
            "grid_template_areas": null,
            "object_position": null,
            "object_fit": null,
            "grid_auto_columns": null,
            "margin": null,
            "display": null,
            "left": null
          }
        },
        "ee455996eff5447aa1d103581b07f3b5": {
          "model_module": "@jupyter-widgets/controls",
          "model_name": "FloatProgressModel",
          "state": {
            "_view_name": "ProgressView",
            "style": "IPY_MODEL_765586f26b954fccad3c344e8f2308af",
            "_dom_classes": [],
            "description": "100%",
            "_model_name": "FloatProgressModel",
            "bar_style": "success",
            "max": 240,
            "_view_module": "@jupyter-widgets/controls",
            "_model_module_version": "1.5.0",
            "value": 240,
            "_view_count": null,
            "_view_module_version": "1.5.0",
            "orientation": "horizontal",
            "min": 0,
            "description_tooltip": null,
            "_model_module": "@jupyter-widgets/controls",
            "layout": "IPY_MODEL_521bd8c8961e43e2bdc5b30afbe7e30a"
          }
        },
        "cc4609659ba64631818397f5dcae2a41": {
          "model_module": "@jupyter-widgets/controls",
          "model_name": "HTMLModel",
          "state": {
            "_view_name": "HTMLView",
            "style": "IPY_MODEL_018dcdccb65348d1b67abc5018c30a7f",
            "_dom_classes": [],
            "description": "",
            "_model_name": "HTMLModel",
            "placeholder": "​",
            "_view_module": "@jupyter-widgets/controls",
            "_model_module_version": "1.5.0",
            "value": " 240/240 [00:42&lt;00:00,  5.71it/s]",
            "_view_count": null,
            "_view_module_version": "1.5.0",
            "description_tooltip": null,
            "_model_module": "@jupyter-widgets/controls",
            "layout": "IPY_MODEL_334e7388e6e54559bf821af636903b68"
          }
        },
        "765586f26b954fccad3c344e8f2308af": {
          "model_module": "@jupyter-widgets/controls",
          "model_name": "ProgressStyleModel",
          "state": {
            "_view_name": "StyleView",
            "_model_name": "ProgressStyleModel",
            "description_width": "initial",
            "_view_module": "@jupyter-widgets/base",
            "_model_module_version": "1.5.0",
            "_view_count": null,
            "_view_module_version": "1.2.0",
            "bar_color": null,
            "_model_module": "@jupyter-widgets/controls"
          }
        },
        "521bd8c8961e43e2bdc5b30afbe7e30a": {
          "model_module": "@jupyter-widgets/base",
          "model_name": "LayoutModel",
          "state": {
            "_view_name": "LayoutView",
            "grid_template_rows": null,
            "right": null,
            "justify_content": null,
            "_view_module": "@jupyter-widgets/base",
            "overflow": null,
            "_model_module_version": "1.2.0",
            "_view_count": null,
            "flex_flow": null,
            "width": null,
            "min_width": null,
            "border": null,
            "align_items": null,
            "bottom": null,
            "_model_module": "@jupyter-widgets/base",
            "top": null,
            "grid_column": null,
            "overflow_y": null,
            "overflow_x": null,
            "grid_auto_flow": null,
            "grid_area": null,
            "grid_template_columns": null,
            "flex": null,
            "_model_name": "LayoutModel",
            "justify_items": null,
            "grid_row": null,
            "max_height": null,
            "align_content": null,
            "visibility": null,
            "align_self": null,
            "height": null,
            "min_height": null,
            "padding": null,
            "grid_auto_rows": null,
            "grid_gap": null,
            "max_width": null,
            "order": null,
            "_view_module_version": "1.2.0",
            "grid_template_areas": null,
            "object_position": null,
            "object_fit": null,
            "grid_auto_columns": null,
            "margin": null,
            "display": null,
            "left": null
          }
        },
        "018dcdccb65348d1b67abc5018c30a7f": {
          "model_module": "@jupyter-widgets/controls",
          "model_name": "DescriptionStyleModel",
          "state": {
            "_view_name": "StyleView",
            "_model_name": "DescriptionStyleModel",
            "description_width": "",
            "_view_module": "@jupyter-widgets/base",
            "_model_module_version": "1.5.0",
            "_view_count": null,
            "_view_module_version": "1.2.0",
            "_model_module": "@jupyter-widgets/controls"
          }
        },
        "334e7388e6e54559bf821af636903b68": {
          "model_module": "@jupyter-widgets/base",
          "model_name": "LayoutModel",
          "state": {
            "_view_name": "LayoutView",
            "grid_template_rows": null,
            "right": null,
            "justify_content": null,
            "_view_module": "@jupyter-widgets/base",
            "overflow": null,
            "_model_module_version": "1.2.0",
            "_view_count": null,
            "flex_flow": null,
            "width": null,
            "min_width": null,
            "border": null,
            "align_items": null,
            "bottom": null,
            "_model_module": "@jupyter-widgets/base",
            "top": null,
            "grid_column": null,
            "overflow_y": null,
            "overflow_x": null,
            "grid_auto_flow": null,
            "grid_area": null,
            "grid_template_columns": null,
            "flex": null,
            "_model_name": "LayoutModel",
            "justify_items": null,
            "grid_row": null,
            "max_height": null,
            "align_content": null,
            "visibility": null,
            "align_self": null,
            "height": null,
            "min_height": null,
            "padding": null,
            "grid_auto_rows": null,
            "grid_gap": null,
            "max_width": null,
            "order": null,
            "_view_module_version": "1.2.0",
            "grid_template_areas": null,
            "object_position": null,
            "object_fit": null,
            "grid_auto_columns": null,
            "margin": null,
            "display": null,
            "left": null
          }
        },
        "616ef96bcc6c4eb3a3d84aee02b3a06e": {
          "model_module": "@jupyter-widgets/controls",
          "model_name": "HBoxModel",
          "state": {
            "_view_name": "HBoxView",
            "_dom_classes": [],
            "_model_name": "HBoxModel",
            "_view_module": "@jupyter-widgets/controls",
            "_model_module_version": "1.5.0",
            "_view_count": null,
            "_view_module_version": "1.5.0",
            "box_style": "",
            "layout": "IPY_MODEL_a32bbd85633b401788ceeca31e285173",
            "_model_module": "@jupyter-widgets/controls",
            "children": [
              "IPY_MODEL_fe888e06fb794484996fd07605f1aeab",
              "IPY_MODEL_76d7fa97549f4ca1ac7b4729addf8c5f"
            ]
          }
        },
        "a32bbd85633b401788ceeca31e285173": {
          "model_module": "@jupyter-widgets/base",
          "model_name": "LayoutModel",
          "state": {
            "_view_name": "LayoutView",
            "grid_template_rows": null,
            "right": null,
            "justify_content": null,
            "_view_module": "@jupyter-widgets/base",
            "overflow": null,
            "_model_module_version": "1.2.0",
            "_view_count": null,
            "flex_flow": null,
            "width": null,
            "min_width": null,
            "border": null,
            "align_items": null,
            "bottom": null,
            "_model_module": "@jupyter-widgets/base",
            "top": null,
            "grid_column": null,
            "overflow_y": null,
            "overflow_x": null,
            "grid_auto_flow": null,
            "grid_area": null,
            "grid_template_columns": null,
            "flex": null,
            "_model_name": "LayoutModel",
            "justify_items": null,
            "grid_row": null,
            "max_height": null,
            "align_content": null,
            "visibility": null,
            "align_self": null,
            "height": null,
            "min_height": null,
            "padding": null,
            "grid_auto_rows": null,
            "grid_gap": null,
            "max_width": null,
            "order": null,
            "_view_module_version": "1.2.0",
            "grid_template_areas": null,
            "object_position": null,
            "object_fit": null,
            "grid_auto_columns": null,
            "margin": null,
            "display": null,
            "left": null
          }
        },
        "fe888e06fb794484996fd07605f1aeab": {
          "model_module": "@jupyter-widgets/controls",
          "model_name": "FloatProgressModel",
          "state": {
            "_view_name": "ProgressView",
            "style": "IPY_MODEL_c1de8515eb664146a357f1638fde8138",
            "_dom_classes": [],
            "description": "100%",
            "_model_name": "FloatProgressModel",
            "bar_style": "success",
            "max": 240,
            "_view_module": "@jupyter-widgets/controls",
            "_model_module_version": "1.5.0",
            "value": 240,
            "_view_count": null,
            "_view_module_version": "1.5.0",
            "orientation": "horizontal",
            "min": 0,
            "description_tooltip": null,
            "_model_module": "@jupyter-widgets/controls",
            "layout": "IPY_MODEL_bddd3273d74e47c9b9a2768af67751dd"
          }
        },
        "76d7fa97549f4ca1ac7b4729addf8c5f": {
          "model_module": "@jupyter-widgets/controls",
          "model_name": "HTMLModel",
          "state": {
            "_view_name": "HTMLView",
            "style": "IPY_MODEL_b6c1448e8b6d494f81638ae06f67a928",
            "_dom_classes": [],
            "description": "",
            "_model_name": "HTMLModel",
            "placeholder": "​",
            "_view_module": "@jupyter-widgets/controls",
            "_model_module_version": "1.5.0",
            "value": " 240/240 [01:57&lt;00:00,  2.05it/s]",
            "_view_count": null,
            "_view_module_version": "1.5.0",
            "description_tooltip": null,
            "_model_module": "@jupyter-widgets/controls",
            "layout": "IPY_MODEL_525ff120f7404be78b810e782c79dc2a"
          }
        },
        "c1de8515eb664146a357f1638fde8138": {
          "model_module": "@jupyter-widgets/controls",
          "model_name": "ProgressStyleModel",
          "state": {
            "_view_name": "StyleView",
            "_model_name": "ProgressStyleModel",
            "description_width": "initial",
            "_view_module": "@jupyter-widgets/base",
            "_model_module_version": "1.5.0",
            "_view_count": null,
            "_view_module_version": "1.2.0",
            "bar_color": null,
            "_model_module": "@jupyter-widgets/controls"
          }
        },
        "bddd3273d74e47c9b9a2768af67751dd": {
          "model_module": "@jupyter-widgets/base",
          "model_name": "LayoutModel",
          "state": {
            "_view_name": "LayoutView",
            "grid_template_rows": null,
            "right": null,
            "justify_content": null,
            "_view_module": "@jupyter-widgets/base",
            "overflow": null,
            "_model_module_version": "1.2.0",
            "_view_count": null,
            "flex_flow": null,
            "width": null,
            "min_width": null,
            "border": null,
            "align_items": null,
            "bottom": null,
            "_model_module": "@jupyter-widgets/base",
            "top": null,
            "grid_column": null,
            "overflow_y": null,
            "overflow_x": null,
            "grid_auto_flow": null,
            "grid_area": null,
            "grid_template_columns": null,
            "flex": null,
            "_model_name": "LayoutModel",
            "justify_items": null,
            "grid_row": null,
            "max_height": null,
            "align_content": null,
            "visibility": null,
            "align_self": null,
            "height": null,
            "min_height": null,
            "padding": null,
            "grid_auto_rows": null,
            "grid_gap": null,
            "max_width": null,
            "order": null,
            "_view_module_version": "1.2.0",
            "grid_template_areas": null,
            "object_position": null,
            "object_fit": null,
            "grid_auto_columns": null,
            "margin": null,
            "display": null,
            "left": null
          }
        },
        "b6c1448e8b6d494f81638ae06f67a928": {
          "model_module": "@jupyter-widgets/controls",
          "model_name": "DescriptionStyleModel",
          "state": {
            "_view_name": "StyleView",
            "_model_name": "DescriptionStyleModel",
            "description_width": "",
            "_view_module": "@jupyter-widgets/base",
            "_model_module_version": "1.5.0",
            "_view_count": null,
            "_view_module_version": "1.2.0",
            "_model_module": "@jupyter-widgets/controls"
          }
        },
        "525ff120f7404be78b810e782c79dc2a": {
          "model_module": "@jupyter-widgets/base",
          "model_name": "LayoutModel",
          "state": {
            "_view_name": "LayoutView",
            "grid_template_rows": null,
            "right": null,
            "justify_content": null,
            "_view_module": "@jupyter-widgets/base",
            "overflow": null,
            "_model_module_version": "1.2.0",
            "_view_count": null,
            "flex_flow": null,
            "width": null,
            "min_width": null,
            "border": null,
            "align_items": null,
            "bottom": null,
            "_model_module": "@jupyter-widgets/base",
            "top": null,
            "grid_column": null,
            "overflow_y": null,
            "overflow_x": null,
            "grid_auto_flow": null,
            "grid_area": null,
            "grid_template_columns": null,
            "flex": null,
            "_model_name": "LayoutModel",
            "justify_items": null,
            "grid_row": null,
            "max_height": null,
            "align_content": null,
            "visibility": null,
            "align_self": null,
            "height": null,
            "min_height": null,
            "padding": null,
            "grid_auto_rows": null,
            "grid_gap": null,
            "max_width": null,
            "order": null,
            "_view_module_version": "1.2.0",
            "grid_template_areas": null,
            "object_position": null,
            "object_fit": null,
            "grid_auto_columns": null,
            "margin": null,
            "display": null,
            "left": null
          }
        },
        "610241f67d0c4ea8a66a1932a4b1ad5e": {
          "model_module": "@jupyter-widgets/controls",
          "model_name": "HBoxModel",
          "state": {
            "_view_name": "HBoxView",
            "_dom_classes": [],
            "_model_name": "HBoxModel",
            "_view_module": "@jupyter-widgets/controls",
            "_model_module_version": "1.5.0",
            "_view_count": null,
            "_view_module_version": "1.5.0",
            "box_style": "",
            "layout": "IPY_MODEL_3568a95396b8488eb8fd4694f4501df9",
            "_model_module": "@jupyter-widgets/controls",
            "children": [
              "IPY_MODEL_27adb1274210498c8f0b431891d66a0f",
              "IPY_MODEL_42afe0905019422f89f15cb414a047f5"
            ]
          }
        },
        "3568a95396b8488eb8fd4694f4501df9": {
          "model_module": "@jupyter-widgets/base",
          "model_name": "LayoutModel",
          "state": {
            "_view_name": "LayoutView",
            "grid_template_rows": null,
            "right": null,
            "justify_content": null,
            "_view_module": "@jupyter-widgets/base",
            "overflow": null,
            "_model_module_version": "1.2.0",
            "_view_count": null,
            "flex_flow": null,
            "width": null,
            "min_width": null,
            "border": null,
            "align_items": null,
            "bottom": null,
            "_model_module": "@jupyter-widgets/base",
            "top": null,
            "grid_column": null,
            "overflow_y": null,
            "overflow_x": null,
            "grid_auto_flow": null,
            "grid_area": null,
            "grid_template_columns": null,
            "flex": null,
            "_model_name": "LayoutModel",
            "justify_items": null,
            "grid_row": null,
            "max_height": null,
            "align_content": null,
            "visibility": null,
            "align_self": null,
            "height": null,
            "min_height": null,
            "padding": null,
            "grid_auto_rows": null,
            "grid_gap": null,
            "max_width": null,
            "order": null,
            "_view_module_version": "1.2.0",
            "grid_template_areas": null,
            "object_position": null,
            "object_fit": null,
            "grid_auto_columns": null,
            "margin": null,
            "display": null,
            "left": null
          }
        },
        "27adb1274210498c8f0b431891d66a0f": {
          "model_module": "@jupyter-widgets/controls",
          "model_name": "FloatProgressModel",
          "state": {
            "_view_name": "ProgressView",
            "style": "IPY_MODEL_1e9ed6b72b1e48b1af8dfb44f637b0b0",
            "_dom_classes": [],
            "description": "100%",
            "_model_name": "FloatProgressModel",
            "bar_style": "success",
            "max": 60,
            "_view_module": "@jupyter-widgets/controls",
            "_model_module_version": "1.5.0",
            "value": 60,
            "_view_count": null,
            "_view_module_version": "1.5.0",
            "orientation": "horizontal",
            "min": 0,
            "description_tooltip": null,
            "_model_module": "@jupyter-widgets/controls",
            "layout": "IPY_MODEL_08086b0543054731ac9a9c77956ce09d"
          }
        },
        "42afe0905019422f89f15cb414a047f5": {
          "model_module": "@jupyter-widgets/controls",
          "model_name": "HTMLModel",
          "state": {
            "_view_name": "HTMLView",
            "style": "IPY_MODEL_3f66df1fb57241b19a2022bcca20a92a",
            "_dom_classes": [],
            "description": "",
            "_model_name": "HTMLModel",
            "placeholder": "​",
            "_view_module": "@jupyter-widgets/controls",
            "_model_module_version": "1.5.0",
            "value": " 60/60 [09:53&lt;00:00,  9.89s/it]",
            "_view_count": null,
            "_view_module_version": "1.5.0",
            "description_tooltip": null,
            "_model_module": "@jupyter-widgets/controls",
            "layout": "IPY_MODEL_bd3aa411cf4c48d3b7a4f44e2e21f3ee"
          }
        },
        "1e9ed6b72b1e48b1af8dfb44f637b0b0": {
          "model_module": "@jupyter-widgets/controls",
          "model_name": "ProgressStyleModel",
          "state": {
            "_view_name": "StyleView",
            "_model_name": "ProgressStyleModel",
            "description_width": "initial",
            "_view_module": "@jupyter-widgets/base",
            "_model_module_version": "1.5.0",
            "_view_count": null,
            "_view_module_version": "1.2.0",
            "bar_color": null,
            "_model_module": "@jupyter-widgets/controls"
          }
        },
        "08086b0543054731ac9a9c77956ce09d": {
          "model_module": "@jupyter-widgets/base",
          "model_name": "LayoutModel",
          "state": {
            "_view_name": "LayoutView",
            "grid_template_rows": null,
            "right": null,
            "justify_content": null,
            "_view_module": "@jupyter-widgets/base",
            "overflow": null,
            "_model_module_version": "1.2.0",
            "_view_count": null,
            "flex_flow": null,
            "width": null,
            "min_width": null,
            "border": null,
            "align_items": null,
            "bottom": null,
            "_model_module": "@jupyter-widgets/base",
            "top": null,
            "grid_column": null,
            "overflow_y": null,
            "overflow_x": null,
            "grid_auto_flow": null,
            "grid_area": null,
            "grid_template_columns": null,
            "flex": null,
            "_model_name": "LayoutModel",
            "justify_items": null,
            "grid_row": null,
            "max_height": null,
            "align_content": null,
            "visibility": null,
            "align_self": null,
            "height": null,
            "min_height": null,
            "padding": null,
            "grid_auto_rows": null,
            "grid_gap": null,
            "max_width": null,
            "order": null,
            "_view_module_version": "1.2.0",
            "grid_template_areas": null,
            "object_position": null,
            "object_fit": null,
            "grid_auto_columns": null,
            "margin": null,
            "display": null,
            "left": null
          }
        },
        "3f66df1fb57241b19a2022bcca20a92a": {
          "model_module": "@jupyter-widgets/controls",
          "model_name": "DescriptionStyleModel",
          "state": {
            "_view_name": "StyleView",
            "_model_name": "DescriptionStyleModel",
            "description_width": "",
            "_view_module": "@jupyter-widgets/base",
            "_model_module_version": "1.5.0",
            "_view_count": null,
            "_view_module_version": "1.2.0",
            "_model_module": "@jupyter-widgets/controls"
          }
        },
        "bd3aa411cf4c48d3b7a4f44e2e21f3ee": {
          "model_module": "@jupyter-widgets/base",
          "model_name": "LayoutModel",
          "state": {
            "_view_name": "LayoutView",
            "grid_template_rows": null,
            "right": null,
            "justify_content": null,
            "_view_module": "@jupyter-widgets/base",
            "overflow": null,
            "_model_module_version": "1.2.0",
            "_view_count": null,
            "flex_flow": null,
            "width": null,
            "min_width": null,
            "border": null,
            "align_items": null,
            "bottom": null,
            "_model_module": "@jupyter-widgets/base",
            "top": null,
            "grid_column": null,
            "overflow_y": null,
            "overflow_x": null,
            "grid_auto_flow": null,
            "grid_area": null,
            "grid_template_columns": null,
            "flex": null,
            "_model_name": "LayoutModel",
            "justify_items": null,
            "grid_row": null,
            "max_height": null,
            "align_content": null,
            "visibility": null,
            "align_self": null,
            "height": null,
            "min_height": null,
            "padding": null,
            "grid_auto_rows": null,
            "grid_gap": null,
            "max_width": null,
            "order": null,
            "_view_module_version": "1.2.0",
            "grid_template_areas": null,
            "object_position": null,
            "object_fit": null,
            "grid_auto_columns": null,
            "margin": null,
            "display": null,
            "left": null
          }
        },
        "05e7d87fbd6448a09c140f54655c8ccd": {
          "model_module": "@jupyter-widgets/controls",
          "model_name": "HBoxModel",
          "state": {
            "_view_name": "HBoxView",
            "_dom_classes": [],
            "_model_name": "HBoxModel",
            "_view_module": "@jupyter-widgets/controls",
            "_model_module_version": "1.5.0",
            "_view_count": null,
            "_view_module_version": "1.5.0",
            "box_style": "",
            "layout": "IPY_MODEL_ea0fd752e7694a38976e4c3613ef5630",
            "_model_module": "@jupyter-widgets/controls",
            "children": [
              "IPY_MODEL_92965986544048ee8a95349986891ec4",
              "IPY_MODEL_b57b92f57da5412f9bcab8d3fce6035b"
            ]
          }
        },
        "ea0fd752e7694a38976e4c3613ef5630": {
          "model_module": "@jupyter-widgets/base",
          "model_name": "LayoutModel",
          "state": {
            "_view_name": "LayoutView",
            "grid_template_rows": null,
            "right": null,
            "justify_content": null,
            "_view_module": "@jupyter-widgets/base",
            "overflow": null,
            "_model_module_version": "1.2.0",
            "_view_count": null,
            "flex_flow": null,
            "width": null,
            "min_width": null,
            "border": null,
            "align_items": null,
            "bottom": null,
            "_model_module": "@jupyter-widgets/base",
            "top": null,
            "grid_column": null,
            "overflow_y": null,
            "overflow_x": null,
            "grid_auto_flow": null,
            "grid_area": null,
            "grid_template_columns": null,
            "flex": null,
            "_model_name": "LayoutModel",
            "justify_items": null,
            "grid_row": null,
            "max_height": null,
            "align_content": null,
            "visibility": null,
            "align_self": null,
            "height": null,
            "min_height": null,
            "padding": null,
            "grid_auto_rows": null,
            "grid_gap": null,
            "max_width": null,
            "order": null,
            "_view_module_version": "1.2.0",
            "grid_template_areas": null,
            "object_position": null,
            "object_fit": null,
            "grid_auto_columns": null,
            "margin": null,
            "display": null,
            "left": null
          }
        },
        "92965986544048ee8a95349986891ec4": {
          "model_module": "@jupyter-widgets/controls",
          "model_name": "FloatProgressModel",
          "state": {
            "_view_name": "ProgressView",
            "style": "IPY_MODEL_59ba8db2092b445aa3d5603647372692",
            "_dom_classes": [],
            "description": "100%",
            "_model_name": "FloatProgressModel",
            "bar_style": "success",
            "max": 60,
            "_view_module": "@jupyter-widgets/controls",
            "_model_module_version": "1.5.0",
            "value": 60,
            "_view_count": null,
            "_view_module_version": "1.5.0",
            "orientation": "horizontal",
            "min": 0,
            "description_tooltip": null,
            "_model_module": "@jupyter-widgets/controls",
            "layout": "IPY_MODEL_9bd65df411b94fa29e969194babd408b"
          }
        },
        "b57b92f57da5412f9bcab8d3fce6035b": {
          "model_module": "@jupyter-widgets/controls",
          "model_name": "HTMLModel",
          "state": {
            "_view_name": "HTMLView",
            "style": "IPY_MODEL_88ee523340334e9b9f680d65f64d154c",
            "_dom_classes": [],
            "description": "",
            "_model_name": "HTMLModel",
            "placeholder": "​",
            "_view_module": "@jupyter-widgets/controls",
            "_model_module_version": "1.5.0",
            "value": " 60/60 [12:01&lt;00:00, 12.02s/it]",
            "_view_count": null,
            "_view_module_version": "1.5.0",
            "description_tooltip": null,
            "_model_module": "@jupyter-widgets/controls",
            "layout": "IPY_MODEL_5bd3d08515114f15aef88f29e9cefc64"
          }
        },
        "59ba8db2092b445aa3d5603647372692": {
          "model_module": "@jupyter-widgets/controls",
          "model_name": "ProgressStyleModel",
          "state": {
            "_view_name": "StyleView",
            "_model_name": "ProgressStyleModel",
            "description_width": "initial",
            "_view_module": "@jupyter-widgets/base",
            "_model_module_version": "1.5.0",
            "_view_count": null,
            "_view_module_version": "1.2.0",
            "bar_color": null,
            "_model_module": "@jupyter-widgets/controls"
          }
        },
        "9bd65df411b94fa29e969194babd408b": {
          "model_module": "@jupyter-widgets/base",
          "model_name": "LayoutModel",
          "state": {
            "_view_name": "LayoutView",
            "grid_template_rows": null,
            "right": null,
            "justify_content": null,
            "_view_module": "@jupyter-widgets/base",
            "overflow": null,
            "_model_module_version": "1.2.0",
            "_view_count": null,
            "flex_flow": null,
            "width": null,
            "min_width": null,
            "border": null,
            "align_items": null,
            "bottom": null,
            "_model_module": "@jupyter-widgets/base",
            "top": null,
            "grid_column": null,
            "overflow_y": null,
            "overflow_x": null,
            "grid_auto_flow": null,
            "grid_area": null,
            "grid_template_columns": null,
            "flex": null,
            "_model_name": "LayoutModel",
            "justify_items": null,
            "grid_row": null,
            "max_height": null,
            "align_content": null,
            "visibility": null,
            "align_self": null,
            "height": null,
            "min_height": null,
            "padding": null,
            "grid_auto_rows": null,
            "grid_gap": null,
            "max_width": null,
            "order": null,
            "_view_module_version": "1.2.0",
            "grid_template_areas": null,
            "object_position": null,
            "object_fit": null,
            "grid_auto_columns": null,
            "margin": null,
            "display": null,
            "left": null
          }
        },
        "88ee523340334e9b9f680d65f64d154c": {
          "model_module": "@jupyter-widgets/controls",
          "model_name": "DescriptionStyleModel",
          "state": {
            "_view_name": "StyleView",
            "_model_name": "DescriptionStyleModel",
            "description_width": "",
            "_view_module": "@jupyter-widgets/base",
            "_model_module_version": "1.5.0",
            "_view_count": null,
            "_view_module_version": "1.2.0",
            "_model_module": "@jupyter-widgets/controls"
          }
        },
        "5bd3d08515114f15aef88f29e9cefc64": {
          "model_module": "@jupyter-widgets/base",
          "model_name": "LayoutModel",
          "state": {
            "_view_name": "LayoutView",
            "grid_template_rows": null,
            "right": null,
            "justify_content": null,
            "_view_module": "@jupyter-widgets/base",
            "overflow": null,
            "_model_module_version": "1.2.0",
            "_view_count": null,
            "flex_flow": null,
            "width": null,
            "min_width": null,
            "border": null,
            "align_items": null,
            "bottom": null,
            "_model_module": "@jupyter-widgets/base",
            "top": null,
            "grid_column": null,
            "overflow_y": null,
            "overflow_x": null,
            "grid_auto_flow": null,
            "grid_area": null,
            "grid_template_columns": null,
            "flex": null,
            "_model_name": "LayoutModel",
            "justify_items": null,
            "grid_row": null,
            "max_height": null,
            "align_content": null,
            "visibility": null,
            "align_self": null,
            "height": null,
            "min_height": null,
            "padding": null,
            "grid_auto_rows": null,
            "grid_gap": null,
            "max_width": null,
            "order": null,
            "_view_module_version": "1.2.0",
            "grid_template_areas": null,
            "object_position": null,
            "object_fit": null,
            "grid_auto_columns": null,
            "margin": null,
            "display": null,
            "left": null
          }
        }
      }
    }
  },
  "cells": [
    {
      "cell_type": "code",
      "metadata": {
        "id": "KCEsqe3u2xzz",
        "colab_type": "code",
        "colab": {
          "base_uri": "https://localhost:8080/",
          "height": 125
        },
        "outputId": "3a7d9fc7-b99e-490e-c8d2-cf4bf865ddf1"
      },
      "source": [
        "from google.colab import drive\n",
        "drive.mount('/gdrive')"
      ],
      "execution_count": 2,
      "outputs": [
        {
          "output_type": "stream",
          "text": [
            "Go to this URL in a browser: https://accounts.google.com/o/oauth2/auth?client_id=947318989803-6bn6qk8qdgf4n4g3pfee6491hc0brc4i.apps.googleusercontent.com&redirect_uri=urn%3aietf%3awg%3aoauth%3a2.0%3aoob&response_type=code&scope=email%20https%3a%2f%2fwww.googleapis.com%2fauth%2fdocs.test%20https%3a%2f%2fwww.googleapis.com%2fauth%2fdrive%20https%3a%2f%2fwww.googleapis.com%2fauth%2fdrive.photos.readonly%20https%3a%2f%2fwww.googleapis.com%2fauth%2fpeopleapi.readonly\n",
            "\n",
            "Enter your authorization code:\n",
            "··········\n",
            "Mounted at /gdrive\n"
          ],
          "name": "stdout"
        }
      ]
    },
    {
      "cell_type": "code",
      "metadata": {
        "id": "Xk-s9l1D3-YD",
        "colab_type": "code",
        "colab": {
          "base_uri": "https://localhost:8080/",
          "height": 34
        },
        "outputId": "9073964f-0623-4f36-83f3-cbbb3ef6d910"
      },
      "source": [
        "cd ../gdrive/My\\ Drive/Colab\\ Notebooks/Graph\\ Curvature\\ Networks"
      ],
      "execution_count": 3,
      "outputs": [
        {
          "output_type": "stream",
          "text": [
            "/gdrive/My Drive/Colab Notebooks/Graph Curvature Networks\n"
          ],
          "name": "stdout"
        }
      ]
    },
    {
      "cell_type": "code",
      "metadata": {
        "id": "0WT1ddWhxdYw",
        "colab_type": "code",
        "colab": {}
      },
      "source": [
        "# colab setting\n",
        "!pip install GraphRicciCurvature\n",
        "!pip install grakel\n",
        "\n",
        "import networkx as nx\n",
        "import numpy as np\n",
        "import math\n",
        "import os\n",
        "import importlib\n",
        "from IPython.display import clear_output\n",
        "from IPython.core.debugger import set_trace\n",
        "import pandas as pd\n",
        "from collections import defaultdict\n",
        "\n",
        "\n",
        "from sklearn.linear_model import LogisticRegression\n",
        "from sklearn.ensemble import RandomForestClassifier\n",
        "from sklearn.neighbors import KNeighborsClassifier\n",
        "from sklearn.model_selection import cross_val_score\n",
        "from sklearn.metrics import accuracy_score, f1_score\n",
        "from sklearn.model_selection import train_test_split\n",
        "from sklearn.preprocessing import StandardScaler\n",
        "from sklearn.model_selection import GridSearchCV\n",
        "\n",
        "from tqdm import tqdm_notebook\n",
        "\n",
        "# matplotlib setting\n",
        "%matplotlib inline\n",
        "import matplotlib.pyplot as plt\n",
        "\n",
        "# to print logs in jupyter notebook\n",
        "import logging\n",
        "logging.basicConfig(format='%(levelname)s:%(message)s', level=logging.ERROR)\n",
        "\n",
        "# load GraphRicciCuravture package\n",
        "from GraphRicciCurvature.OllivierRicci import OllivierRicci\n",
        "from GraphRicciCurvature.FormanRicci import FormanRicci\n",
        "clear_output()"
      ],
      "execution_count": 4,
      "outputs": []
    },
    {
      "cell_type": "code",
      "metadata": {
        "id": "hrTImyccdQBq",
        "colab_type": "code",
        "colab": {}
      },
      "source": [
        "!pip install torch-scatter==latest+cu101 -f https://pytorch-geometric.com/whl/torch-1.5.0.html\n",
        "!pip install torch-sparse==latest+cu101 -f https://pytorch-geometric.com/whl/torch-1.5.0.html\n",
        "!pip install torch-cluster==latest+cu101 -f https://pytorch-geometric.com/whl/torch-1.5.0.html\n",
        "!pip install torch-spline-conv==latest+cu101 -f https://pytorch-geometric.com/whl/torch-1.5.0.html\n",
        "!pip install torch-geometric\n",
        "clear_output()"
      ],
      "execution_count": 5,
      "outputs": []
    },
    {
      "cell_type": "code",
      "metadata": {
        "id": "J_y1900mzmOq",
        "colab_type": "code",
        "colab": {}
      },
      "source": [
        "def make_data(G, y):\n",
        "    x = from_networkx(G)\n",
        "    x.y = y \n",
        "    return x"
      ],
      "execution_count": 6,
      "outputs": []
    },
    {
      "cell_type": "code",
      "metadata": {
        "id": "2TFRX1aVqcHm",
        "colab_type": "code",
        "colab": {}
      },
      "source": [
        "# from http://www3.cs.stonybrook.edu/~chni/\n",
        "def FormannCurvature(G, weighted=False, EPS=1e-15, default_node_curvature=None):\n",
        "    G = G.copy()\n",
        "    for (v1, v2) in G.edges():\n",
        "        if not weighted:\n",
        "            if G.is_directed():\n",
        "                v1_nbr = set(list(G.predecessors(v1)) + list(G.successors(v1)))\n",
        "                v2_nbr = set(list(G.predecessors(v2)) + list(G.successors(v2)))\n",
        "            else:\n",
        "                v1_nbr = set(G.neighbors(v1))\n",
        "                v1_nbr.remove(v2)\n",
        "                v2_nbr = set(G.neighbors(v2))\n",
        "                v2_nbr.remove(v1)\n",
        "            face = v1_nbr & v2_nbr\n",
        "            prl_nbr = (v1_nbr | v2_nbr) - face\n",
        "            G[v1][v2][\"formanCurvature\"] = len(face) + 2 - len(prl_nbr)\n",
        "        else:\n",
        "            w_e = G[v1][v2]['weight'] + np.sqrt(EPS)\n",
        "            w_i = 1.\n",
        "            w_j = 1.\n",
        "            S_i = sum([w_i/np.sqrt(v['weight']*w_e + EPS) if k!=v2 else 0. \\\n",
        "                       for k,v in G[v1].items()])\n",
        "            S_j = sum([w_j/np.sqrt(v['weight']*w_e + EPS) if k!=v1 else 0. \\\n",
        "                      for k,v in G[v2].items()])\n",
        "            curv = w_e*( (w_i/w_e) + (w_j/w_e) - S_i - S_j)\n",
        "            G[v1][v2][\"formanCurvature\"] = curv\n",
        "            assert not np.isnan(curv).any()\n",
        "\n",
        "    # Node Forman curvature\n",
        "    for n in G.nodes():\n",
        "        fcsum = 0  # sum of the neighbor Forman curvature\n",
        "        if G.degree(n) != 0:\n",
        "            for nbr in G.neighbors(n):\n",
        "                if 'formanCurvature' in G[n][nbr]:\n",
        "                    fcsum += G[n][nbr]['formanCurvature']\n",
        "            # assign the node Forman curvature to be the average of node's adjacency edges\n",
        "            G.nodes[n]['formanCurvature'] = fcsum / G.degree(n)\n",
        "        else:\n",
        "            G.nodes[n]['formanCurvature'] = default_node_curvature\n",
        "\n",
        "                \n",
        "    return G"
      ],
      "execution_count": 7,
      "outputs": []
    },
    {
      "cell_type": "markdown",
      "metadata": {
        "id": "v7lOC6dgZrYl",
        "colab_type": "text"
      },
      "source": [
        "# CurvConv architecture"
      ]
    },
    {
      "cell_type": "code",
      "metadata": {
        "id": "SFQ97EWPZpUb",
        "colab_type": "code",
        "colab": {}
      },
      "source": [
        "import torch\n",
        "from torch import nn\n",
        "import torch.nn.functional as F\n",
        "import torch_geometric.transforms as T\n",
        "from torch.utils.data import Dataset\n",
        "from torch_geometric.data import Data, DataLoader\n",
        "from torch_geometric.datasets import Planetoid, Amazon, Coauthor\n",
        "\n",
        "from torch_geometric.nn import MessagePassing, GlobalAttention, GCNConv \n",
        "from torch_geometric.nn import EdgeConv, ECConv\n",
        "from torch.nn import LeakyReLU,init,Linear, Sequential\n",
        "\n",
        "from torch_geometric.utils import softmax, degree, add_self_loops, remove_self_loops\n",
        "from torch_geometric.utils.convert import from_networkx, to_networkx\n",
        "\n",
        "device = torch.device('cuda' if torch.cuda.is_available() else 'cpu')\n",
        "_=torch.manual_seed(42)"
      ],
      "execution_count": 53,
      "outputs": []
    },
    {
      "cell_type": "code",
      "metadata": {
        "id": "5hMiMc1DXnks",
        "colab_type": "code",
        "colab": {}
      },
      "source": [
        "################################\n",
        "# DEFINE CURVATURE CONVOLUTION #\n",
        "################################\n",
        "class curvGN(MessagePassing):\n",
        "    def __init__(self, in_channels, out_channels, edge_dim=1, bias=True):\n",
        "        super(curvGN, self).__init__(aggr='add')\n",
        "        self.lin = Linear(in_channels, out_channels)\n",
        "        widths = [edge_dim, out_channels]\n",
        "        self.w_mlp_out = create_wmlp(widths, out_channels, True)\n",
        "\n",
        "    def forward(self, x, edge_index, w_mul):\n",
        "        # edge_index, _ = add_self_loops(edge_index, num_nodes=x.size(0))\n",
        "        x = self.lin(x)\n",
        "        out_weight = self.w_mlp_out(w_mul)\n",
        "        out_weight = softmax(out_weight, edge_index[0])\n",
        "\n",
        "        return self.propagate(edge_index,  x=x, out_weight=out_weight), out_weight\n",
        "\n",
        "    def message(self, x_j, out_weight):\n",
        "        return out_weight*x_j\n",
        "\n",
        "    def update(self, aggr_out):\n",
        "        # aggr_out has shape [N, out_channels]\n",
        "        # Step 5: Return new node embeddings.\n",
        "        return aggr_out\n",
        "\n",
        "def create_wmlp(widths, nfeato, lbias):\n",
        "    mlp_modules=[]\n",
        "    for k in range(len(widths)-1):\n",
        "        mlp_modules.append(Linear(widths[k], widths[k+1], bias=False))\n",
        "        mlp_modules.append(LeakyReLU(0.2, True))\n",
        "    mlp_modules.append(Linear(widths[len(widths)-1], nfeato, bias=lbias))\n",
        "\n",
        "    return Sequential(*mlp_modules)\n"
      ],
      "execution_count": 56,
      "outputs": []
    },
    {
      "cell_type": "code",
      "metadata": {
        "id": "MgUt_4i5mYpr",
        "colab_type": "code",
        "colab": {}
      },
      "source": [
        "###################\n",
        "# DEFINE NETWORKS #\n",
        "###################\n",
        "class NetСurvWithReadout(torch.nn.Module):\n",
        "    def __init__(self, num_features, num_classes, hidden=64, edge_dim=1, use_dropout=True):\n",
        "\n",
        "        super(NetСurvWithReadout, self).__init__()\n",
        "        self.use_dropout = use_dropout\n",
        "        self.conv1 = curvGN(num_features, hidden, edge_dim=edge_dim)\n",
        "        self.conv2 = curvGN(hidden, hidden, edge_dim=edge_dim)\n",
        "        self.conv3 = curvGN(hidden, hidden, edge_dim=edge_dim)\n",
        "        self.conv4 = curvGN(hidden, hidden, edge_dim=edge_dim)\n",
        "        self.global_attention = GlobalAttention(gate_nn=nn.Linear(hidden,1), \n",
        "                                                nn=nn.Linear(hidden,hidden))\n",
        "        self.linear = nn.Linear(hidden,num_classes)\n",
        "\n",
        "    def forward(self, data):\n",
        "        x, edge_index, batch, w_mul = data.x, data.edge_index, data.batch, data.edge_attr\n",
        "\n",
        "        x, _ = self.conv1(x, edge_index, w_mul)\n",
        "        x = F.elu(x)\n",
        "        x, _ = self.conv2(x, edge_index, w_mul)\n",
        "        x = F.elu(x)\n",
        "        if self.use_dropout:\n",
        "            x = F.dropout(x, training=self.training)\n",
        "        x, _ = self.conv3(x, edge_index, w_mul)\n",
        "        x = F.elu(x)\n",
        "        x, _ = self.conv4(x, edge_index, w_mul)\n",
        "        x = F.elu(x)\n",
        "\n",
        "        #readout\n",
        "        readout = self.global_attention(x, batch) \n",
        "        x = self.linear(readout)\n",
        "\n",
        "        return F.log_softmax(x, dim=-1)\n",
        "\n",
        "class NetWithReadout(torch.nn.Module):\n",
        "    def __init__(self, num_features, num_classes, hidden=64, use_dropout=True):\n",
        "        super(NetWithReadout, self).__init__()\n",
        "\n",
        "        self.use_dropout = use_dropout\n",
        "        self.conv1 = GCNConv(num_features, hidden)\n",
        "        self.conv2 = GCNConv(hidden, hidden)\n",
        "        self.conv3 = GCNConv(hidden, hidden)\n",
        "        self.conv4 = GCNConv(hidden, hidden)\n",
        "        self.global_attention = GlobalAttention(gate_nn=nn.Linear(hidden,1), \n",
        "                                                nn=nn.Linear(hidden,hidden))\n",
        "        self.linear = nn.Linear(hidden,num_classes)\n",
        "\n",
        "    def forward(self, data):\n",
        "        x, edge_index, batch = data.x, data.edge_index, data.batch\n",
        "\n",
        "        x = self.conv1(x, edge_index)\n",
        "        x = F.elu(x)\n",
        "        x = self.conv2(x, edge_index)\n",
        "        x = F.elu(x)\n",
        "        if self.use_dropout:\n",
        "            x = F.dropout(x, training=self.training)\n",
        "        x = self.conv3(x, edge_index)\n",
        "        x = F.elu(x)\n",
        "        x = self.conv4(x, edge_index)\n",
        "        x = F.elu(x)\n",
        "\n",
        "        #readout\n",
        "        readout = self.global_attention(x, batch) \n",
        "        x = self.linear(readout)\n",
        "\n",
        "        return F.log_softmax(x, dim=-1)\n",
        "    "
      ],
      "execution_count": 57,
      "outputs": []
    },
    {
      "cell_type": "markdown",
      "metadata": {
        "id": "bxUdFqKSaudb",
        "colab_type": "text"
      },
      "source": [
        "## Training"
      ]
    },
    {
      "cell_type": "code",
      "metadata": {
        "id": "xtPrPIm5SPNY",
        "colab_type": "code",
        "colab": {}
      },
      "source": [
        "def train_model(model, \n",
        "                dataloader,\n",
        "                n_epochs=150):\n",
        "\n",
        "    optimizer = torch.optim.Adam(model.parameters(), lr=0.001, weight_decay=5e-4)\n",
        "\n",
        "    history_acc = defaultdict(list)\n",
        "    history_loss = defaultdict(list)\n",
        "    \n",
        "    for epoch in tqdm_notebook(range(n_epochs)):\n",
        "        loss_history = []\n",
        "        acc_history = []\n",
        "        model.train()\n",
        "        for i, batch in enumerate(dataloader):\n",
        "\n",
        "            batch = batch.to(device)\n",
        "            model.train()\n",
        "            optimizer.zero_grad()\n",
        "            out = model(batch)\n",
        "\n",
        "            target = torch.LongTensor(batch.y).to(device)\n",
        "            loss = F.nll_loss(out, target) \n",
        "            loss.backward()\n",
        "            optimizer.step()\n",
        "            loss_history.append(loss.item())\n",
        "            acc = (out.argmax(-1) == target).sum() / float(len(target))\n",
        "            acc_history.append(acc.item())\n",
        "\n",
        "        # end of the epoch\n",
        "        history_loss['epoch'].append(np.mean(loss_history))\n",
        "        history_loss['all'] += loss_history\n",
        "        history_acc['epoch'].append(np.mean(acc_history))\n",
        "        history_acc['all'] += acc_history\n",
        "\n",
        "        # model.eval()\n",
        "        # pred = out/\n",
        "        # _, pred = pred.max(dim=1)\n",
        "        # y_pred = pred[data.test_mask].detach().cpu().numpy()\n",
        "        # y_true = data.y[data.test_mask].detach().cpu().numpy()\n",
        "        # # correct = float(pred[data.test_mask].eq(data.y[data.test_mask]).sum().item())\n",
        "        # acc = f1_metric(y_true, y_pred)\n",
        "        # # acc = correct / data.test_mask.sum().item()\n",
        "        # acc_history.append(acc)\n",
        "\n",
        "    return history_loss, history_acc"
      ],
      "execution_count": 84,
      "outputs": []
    },
    {
      "cell_type": "markdown",
      "metadata": {
        "id": "f3NCqlMc28ff",
        "colab_type": "text"
      },
      "source": [
        "# Graph classification: MUTAG"
      ]
    },
    {
      "cell_type": "code",
      "metadata": {
        "id": "H1xAxWD-29uy",
        "colab_type": "code",
        "colab": {
          "base_uri": "https://localhost:8080/",
          "height": 125
        },
        "outputId": "931b36af-6ef3-421a-d944-e6e80d2e837c"
      },
      "source": [
        "import grakel\n",
        "from grakel import GraphKernel\n",
        "from grakel.kernels import VertexHistogram, ShortestPath, WeisfeilerLehman, EdgeHistogram, CoreFramework, PropagationAttr\n",
        "from grakel.datasets import fetch_dataset\n",
        "\n",
        "mutag = fetch_dataset(\"MUTAG\", verbose=False, as_graphs=False)\n",
        "mutag_G = fetch_dataset(\"MUTAG\", verbose=False, as_graphs=True)\n",
        "X_mutag, y_mutag = mutag.data, mutag.target\n",
        "y_mutag.shape"
      ],
      "execution_count": null,
      "outputs": [
        {
          "output_type": "stream",
          "text": [
            "/usr/local/lib/python3.6/dist-packages/sklearn/externals/joblib/__init__.py:15: FutureWarning: sklearn.externals.joblib is deprecated in 0.21 and will be removed in 0.23. Please import this functionality directly from joblib, which can be installed with: pip install joblib. If this warning is raised when loading pickled models, you may need to re-serialize those models with scikit-learn 0.21+.\n",
            "  warnings.warn(msg, category=FutureWarning)\n",
            "/usr/local/lib/python3.6/dist-packages/sklearn/utils/deprecation.py:144: FutureWarning: The sklearn.datasets.lfw module is  deprecated in version 0.22 and will be removed in version 0.24. The corresponding classes / functions should instead be imported from sklearn.datasets. Anything that cannot be imported from sklearn.datasets is now part of the private API.\n",
            "  warnings.warn(message, FutureWarning)\n"
          ],
          "name": "stderr"
        },
        {
          "output_type": "execute_result",
          "data": {
            "text/plain": [
              "(188,)"
            ]
          },
          "metadata": {
            "tags": []
          },
          "execution_count": 9
        }
      ]
    },
    {
      "cell_type": "code",
      "metadata": {
        "id": "5bCawhHhFfNs",
        "colab_type": "code",
        "colab": {
          "base_uri": "https://localhost:8080/",
          "height": 264
        },
        "outputId": "ca2f1789-5be0-4f9e-c489-0fe8733b6ec5"
      },
      "source": [
        "num_classes = len(np.unique(y_mutag))\n",
        "plt.hist(y_mutag,bins=num_classes)\n",
        "plt.show()\n",
        "y = y_mutag.copy()\n",
        "y[y == -1] = 0"
      ],
      "execution_count": null,
      "outputs": [
        {
          "output_type": "display_data",
          "data": {
            "image/png": "[encoded data removed]",
            "text/plain": [
              "<Figure size 432x288 with 1 Axes>"
            ]
          },
          "metadata": {
            "tags": [],
            "needs_background": "light"
          }
        }
      ]
    },
    {
      "cell_type": "code",
      "metadata": {
        "id": "9bq3pG8l0wvN",
        "colab_type": "code",
        "colab": {
          "base_uri": "https://localhost:8080/",
          "height": 318
        },
        "outputId": "0088f812-de7a-4b39-ef7b-5502d45770d4"
      },
      "source": [
        "X_mutag_nx = []\n",
        "for (edges, nodes, edges_labels) in X_mutag: \n",
        "    g = nx.DiGraph()\n",
        "    \n",
        "    combined_nodes_list = [(node, {'x':[float(nodes[node])]}) for node in nodes] \n",
        "    g.add_nodes_from(combined_nodes_list)\n",
        "\n",
        "    combined_edges_list = [(edge[0], edge[1], {'edge_attr':float(edges_labels[edge])}) for edge in edges] \n",
        "    g.add_edges_from(combined_edges_list)\n",
        "    \n",
        "    X_mutag_nx.append(g)\n",
        "nx.draw(X_mutag_nx[0], with_labels=True, font_weight='bold')"
      ],
      "execution_count": null,
      "outputs": [
        {
          "output_type": "display_data",
          "data": {
            "image/png": "[encoded data removed]",
            "text/plain": [
              "<Figure size 432x288 with 1 Axes>"
            ]
          },
          "metadata": {
            "tags": []
          }
        }
      ]
    },
    {
      "cell_type": "code",
      "metadata": {
        "id": "XvY-u5X5CTq3",
        "colab_type": "code",
        "colab": {
          "base_uri": "https://localhost:8080/",
          "height": 34
        },
        "outputId": "1c5514d5-7050-4f15-f7f8-170be46721a5"
      },
      "source": [
        "g_nx = X_mutag_nx[0]\n",
        "g_nx.number_of_edges()"
      ],
      "execution_count": null,
      "outputs": [
        {
          "output_type": "execute_result",
          "data": {
            "text/plain": [
              "38"
            ]
          },
          "metadata": {
            "tags": []
          },
          "execution_count": 131
        }
      ]
    },
    {
      "cell_type": "code",
      "metadata": {
        "id": "4SiNz3VwCfq-",
        "colab_type": "code",
        "colab": {
          "base_uri": "https://localhost:8080/",
          "height": 34
        },
        "outputId": "fc7edf13-da3f-437a-d309-b14b4dcfd6a1"
      },
      "source": [
        "g_gk = mutag_G.data[0]\n",
        "len(g_gk.get_edges())"
      ],
      "execution_count": null,
      "outputs": [
        {
          "output_type": "execute_result",
          "data": {
            "text/plain": [
              "38"
            ]
          },
          "metadata": {
            "tags": []
          },
          "execution_count": 132
        }
      ]
    },
    {
      "cell_type": "code",
      "metadata": {
        "id": "oFZWjKZQ0w9R",
        "colab_type": "code",
        "colab": {}
      },
      "source": [
        "edges_curvatures = defaultdict(list)\n",
        "nodes_curvatures = defaultdict(list)\n",
        "\n",
        "for data_nx in tqdm_notebook(X_mutag_nx):\n",
        "    weighted_edges = False \n",
        "\n",
        "    orc = OllivierRicci(data_nx,  alpha=0.5, verbose=\"ERROR\", nbr_topk=100)\n",
        "    _ = orc.compute_ricci_curvature()\n",
        "    G_orc = orc.G.copy()\n",
        "    try:\n",
        "        ricci_curvatures_olliver = {(v1,v2):G_orc[v1][v2]['ricciCurvature'] for v1,v2 in list(G_orc.edges)}\n",
        "        ricci_curvatures_olliver_nodes = {i:G_orc.nodes[i]['ricciCurvature'] for i in list(G_orc.nodes)}\n",
        "      \n",
        "        G_frc = FormannCurvature(data_nx, weighted=weighted_edges)\n",
        "        ricci_curvatures_formann = {(v1,v2):G_frc[v1][v2]['formanCurvature'] for v1,v2 in list(G_frc.edges)}\n",
        "        ricci_curvatures_formann_nodes = {i:G_frc.nodes[i]['formanCurvature'] for i in list(G_frc.nodes)} \n",
        "    except:\n",
        "        set_trace()\n",
        "\n",
        "    edges_curvatures['Olliver'].append(ricci_curvatures_olliver)\n",
        "    edges_curvatures['Formann'].append(ricci_curvatures_formann)\n",
        "\n",
        "    nodes_curvatures['Olliver'].append(ricci_curvatures_olliver_nodes)\n",
        "    nodes_curvatures['Formann'].append(ricci_curvatures_formann_nodes)\n",
        "\n",
        "    # edges_weights =  nx.get_edge_attributes(data_nx, \"weight\")\n",
        "clear_output()    "
      ],
      "execution_count": null,
      "outputs": []
    },
    {
      "cell_type": "code",
      "metadata": {
        "id": "E0TTzUdWBPfr",
        "colab_type": "code",
        "colab": {
          "base_uri": "https://localhost:8080/",
          "height": 296
        },
        "outputId": "86d7a44b-8c7c-4798-aaf5-942faa785f71"
      },
      "source": [
        "fig, axes = plt.subplots(ncols = 2, nrows=2)\n",
        "\n",
        "curvature_types = ['Olliver', 'Formann']\n",
        "for i,curvature_type in enumerate(curvature_types):\n",
        "  all_edges_curvatures = []\n",
        "  all_nodes_curvatures = []\n",
        "  for (graph_curvs, nodes_curvs) in zip(edges_curvatures[curvature_type], \n",
        "                                      nodes_curvatures[curvature_type]):\n",
        "      all_edges_curvatures += list(graph_curvs.values())\n",
        "      all_nodes_curvatures += list(nodes_curvs.values())\n",
        "  \n",
        "  axes[i,0].hist(all_edges_curvatures,bins=50)\n",
        "  axes[i,0].set_title(f'Edges curvatures {curvature_type}')\n",
        "  axes[i,1].hist(all_nodes_curvatures,bins=50)\n",
        "  axes[i,1].set_title(f'Nodes curvatures {curvature_type}')\n",
        "\n",
        "plt.tight_layout()\n",
        "plt.show()"
      ],
      "execution_count": null,
      "outputs": [
        {
          "output_type": "display_data",
          "data": {
            "image/png": "[encoded data removed]",
            "text/plain": [
              "<Figure size 432x288 with 4 Axes>"
            ]
          },
          "metadata": {
            "tags": [],
            "needs_background": "light"
          }
        }
      ]
    },
    {
      "cell_type": "code",
      "metadata": {
        "id": "qTA4S5LJ2NTX",
        "colab_type": "code",
        "colab": {}
      },
      "source": [
        "# with edge curvatures\n",
        "X_mutag_nx_curvature = []\n",
        "for i,graph in enumerate(X_mutag_nx):\n",
        "    g = graph.copy()\n",
        "    for edge in g.edges:\n",
        "        g[edge[0]][edge[1]]['edge_attr'] = [np.float(edges_curvatures['Olliver'][i][edge])]\n",
        "    X_mutag_nx_curvature.append(g)    \n",
        "\n",
        "# with constant edge curvatures\n",
        "X_mutag_nx_CONST_curvature = []\n",
        "for i,graph in enumerate(X_mutag_nx):\n",
        "    g = graph.copy()\n",
        "    for edge in g.edges:\n",
        "        g[edge[0]][edge[1]]['edge_attr'] = [np.float(1e-15)]\n",
        "    X_mutag_nx_CONST_curvature.append(g)        \n",
        "\n",
        "# with both edge an nodes curvatures\n",
        "X_mutag_nx_node_curvature = []\n",
        "for i,graph in enumerate(X_mutag_nx):\n",
        "    g = graph.copy()\n",
        "    for edge in g.edges:\n",
        "        g[edge[0]][edge[1]]['edge_attr'] = [np.float(edges_curvatures['Olliver'][i][edge])]\n",
        "    for node in g.nodes:\n",
        "        label = g.nodes[node]['x']\n",
        "        g.nodes[node]['x'] = [np.float(nodes_curvatures['Olliver'][i][node]),\n",
        "                              np.float(nodes_curvatures['Formann'][i][node]),\n",
        "                              np.float(label[0])]    \n",
        "    X_mutag_nx_node_curvature.append(g)      "
      ],
      "execution_count": null,
      "outputs": []
    },
    {
      "cell_type": "code",
      "metadata": {
        "id": "nxp4XFupYLOK",
        "colab_type": "code",
        "colab": {
          "base_uri": "https://localhost:8080/",
          "height": 318
        },
        "outputId": "da46e993-07ab-41b1-a8f5-242a53d584c1"
      },
      "source": [
        "g_nx_c = X_mutag_nx_node_curvature[0]\n",
        "nx.draw(g_nx_c, with_labels=True, font_weight='bold')"
      ],
      "execution_count": null,
      "outputs": [
        {
          "output_type": "display_data",
          "data": {
            "image/png": "[encoded data removed]",
            "text/plain": [
              "<Figure size 432x288 with 1 Axes>"
            ]
          },
          "metadata": {
            "tags": []
          }
        }
      ]
    },
    {
      "cell_type": "code",
      "metadata": {
        "id": "H9N9WVrqdkC-",
        "colab_type": "code",
        "colab": {}
      },
      "source": [
        "data_mutag = [make_data(G,y) for G,y in zip(X_mutag_nx_curvature, y)]\n",
        "data_mutag_node_curv = [make_data(G,y) for G,y in zip(X_mutag_nx_node_curvature, y)]\n",
        "data_mutag_CONST_curv = [make_data(G,y) for G,y in zip(X_mutag_nx_CONST_curvature, y)]"
      ],
      "execution_count": null,
      "outputs": []
    },
    {
      "cell_type": "code",
      "metadata": {
        "id": "H4UnInlw7mLX",
        "colab_type": "code",
        "colab": {}
      },
      "source": [
        "dataloader = DataLoader(data_mutag, batch_size=32)\n",
        "dataloader_node_curv = DataLoader(data_mutag_node_curv, batch_size=32)\n",
        "dataloader_CONST_curv = DataLoader(data_mutag_CONST_curv, batch_size=32)"
      ],
      "execution_count": null,
      "outputs": []
    },
    {
      "cell_type": "code",
      "metadata": {
        "id": "GBM0VDr_fpK_",
        "colab_type": "code",
        "colab": {
          "base_uri": "https://localhost:8080/",
          "height": 264
        },
        "outputId": "da4a3b9e-15dc-4943-81d1-ecf1e50b0139"
      },
      "source": [
        "for batch in dataloader:\n",
        "    break\n",
        "\n",
        "plt.hist(batch.edge_attr.flatten().tolist())\n",
        "plt.show()"
      ],
      "execution_count": null,
      "outputs": [
        {
          "output_type": "display_data",
          "data": {
            "image/png": "[encoded data removed]",
            "text/plain": [
              "<Figure size 432x288 with 1 Axes>"
            ]
          },
          "metadata": {
            "tags": [],
            "needs_background": "light"
          }
        }
      ]
    },
    {
      "cell_type": "code",
      "metadata": {
        "id": "jwYMMkhwR9Vc",
        "colab_type": "code",
        "colab": {
          "base_uri": "https://localhost:8080/",
          "height": 120,
          "referenced_widgets": [
            "1a29bd07c5654d2b9e568cf1f0c6f76d",
            "d9cac476fcfc424782b06151c323eee4",
            "af99ef3b83d04013b7420e6b57ca940f",
            "5a99111cd58144b98d26d0ff254edd59",
            "6480cd6b59124500aecbc1aa4ed6268a",
            "8532b6c40c56409982e08be650fe0870",
            "b9b5b38a357a4367a7a54ef9f17f6930",
            "aacb29270d3b4ea1bd4f2b8c3b668c9e"
          ]
        },
        "outputId": "c07c9926-52fa-40eb-84f5-291d2818cb5d"
      },
      "source": [
        "net = NetWithReadout(num_features=1, num_classes=num_classes, hidden=64).to(device)\n",
        "_, loss_history_baseline = train_model(net, \n",
        "                                       dataloader, \n",
        "                                       n_epochs=240)"
      ],
      "execution_count": null,
      "outputs": [
        {
          "output_type": "stream",
          "text": [
            "/usr/local/lib/python3.6/dist-packages/ipykernel_launcher.py:10: TqdmDeprecationWarning: This function will be removed in tqdm==5.0.0\n",
            "Please use `tqdm.notebook.tqdm` instead of `tqdm.tqdm_notebook`\n",
            "  # Remove the CWD from sys.path while we load stuff.\n"
          ],
          "name": "stderr"
        },
        {
          "output_type": "display_data",
          "data": {
            "application/vnd.jupyter.widget-view+json": {
              "model_id": "1a29bd07c5654d2b9e568cf1f0c6f76d",
              "version_minor": 0,
              "version_major": 2
            },
            "text/plain": [
              "HBox(children=(FloatProgress(value=0.0, max=240.0), HTML(value='')))"
            ]
          },
          "metadata": {
            "tags": []
          }
        },
        {
          "output_type": "stream",
          "text": [
            "\n"
          ],
          "name": "stdout"
        }
      ]
    },
    {
      "cell_type": "code",
      "metadata": {
        "id": "aFo7DZ7ug_x3",
        "colab_type": "code",
        "colab": {
          "base_uri": "https://localhost:8080/",
          "height": 120,
          "referenced_widgets": [
            "a9f8da887c9d49f39a49e8c29dcedbce",
            "57007b7f17294f4f8892a627526b2e60",
            "f828079a23044aa0bfe322531207a152",
            "0fdc313b5ffc4f238db36a5ffbd96c6c",
            "ff0453b1dd8c43b09295d767df462477",
            "724311906ea0458bbf4dc357f56a420f",
            "b1b1cb86c04e4d55a005fb96cadf35b4",
            "57217b6f1177478e827459c92143373c"
          ]
        },
        "outputId": "f04a740f-8f68-45ed-a0b8-c8aa0cfbd642"
      },
      "source": [
        "curv_net = NetСurvWithReadout(num_features=1, num_classes=num_classes ,hidden=64).to(device)\n",
        "_, loss_history_curv = train_model(curv_net, \n",
        "                                  dataloader,\n",
        "                                  n_epochs=240)"
      ],
      "execution_count": null,
      "outputs": [
        {
          "output_type": "stream",
          "text": [
            "/usr/local/lib/python3.6/dist-packages/ipykernel_launcher.py:10: TqdmDeprecationWarning: This function will be removed in tqdm==5.0.0\n",
            "Please use `tqdm.notebook.tqdm` instead of `tqdm.tqdm_notebook`\n",
            "  # Remove the CWD from sys.path while we load stuff.\n"
          ],
          "name": "stderr"
        },
        {
          "output_type": "display_data",
          "data": {
            "application/vnd.jupyter.widget-view+json": {
              "model_id": "a9f8da887c9d49f39a49e8c29dcedbce",
              "version_minor": 0,
              "version_major": 2
            },
            "text/plain": [
              "HBox(children=(FloatProgress(value=0.0, max=240.0), HTML(value='')))"
            ]
          },
          "metadata": {
            "tags": []
          }
        },
        {
          "output_type": "stream",
          "text": [
            "\n"
          ],
          "name": "stdout"
        }
      ]
    },
    {
      "cell_type": "code",
      "metadata": {
        "id": "A1IcpMPMjIlQ",
        "colab_type": "code",
        "colab": {
          "base_uri": "https://localhost:8080/",
          "height": 120,
          "referenced_widgets": [
            "cbd5139db07043a29e6bbc2e4cc3120e",
            "09ec3066e8544832bee0b0657c6d81a0",
            "ee455996eff5447aa1d103581b07f3b5",
            "cc4609659ba64631818397f5dcae2a41",
            "765586f26b954fccad3c344e8f2308af",
            "521bd8c8961e43e2bdc5b30afbe7e30a",
            "018dcdccb65348d1b67abc5018c30a7f",
            "334e7388e6e54559bf821af636903b68"
          ]
        },
        "outputId": "0cd31c70-4ef7-425a-b1ac-13821d757128"
      },
      "source": [
        "curv_net = NetСurvWithReadout(num_features=3, num_classes=num_classes ,hidden=64).to(device)\n",
        "_, loss_history_edge_node_curv = train_model(curv_net, \n",
        "                                              dataloader_node_curv,\n",
        "                                              n_epochs=240)"
      ],
      "execution_count": null,
      "outputs": [
        {
          "output_type": "stream",
          "text": [
            "/usr/local/lib/python3.6/dist-packages/ipykernel_launcher.py:10: TqdmDeprecationWarning: This function will be removed in tqdm==5.0.0\n",
            "Please use `tqdm.notebook.tqdm` instead of `tqdm.tqdm_notebook`\n",
            "  # Remove the CWD from sys.path while we load stuff.\n"
          ],
          "name": "stderr"
        },
        {
          "output_type": "display_data",
          "data": {
            "application/vnd.jupyter.widget-view+json": {
              "model_id": "cbd5139db07043a29e6bbc2e4cc3120e",
              "version_minor": 0,
              "version_major": 2
            },
            "text/plain": [
              "HBox(children=(FloatProgress(value=0.0, max=240.0), HTML(value='')))"
            ]
          },
          "metadata": {
            "tags": []
          }
        },
        {
          "output_type": "stream",
          "text": [
            "\n"
          ],
          "name": "stdout"
        }
      ]
    },
    {
      "cell_type": "code",
      "metadata": {
        "id": "HSDRhNJMoWzp",
        "colab_type": "code",
        "colab": {
          "base_uri": "https://localhost:8080/",
          "height": 120,
          "referenced_widgets": [
            "616ef96bcc6c4eb3a3d84aee02b3a06e",
            "a32bbd85633b401788ceeca31e285173",
            "fe888e06fb794484996fd07605f1aeab",
            "76d7fa97549f4ca1ac7b4729addf8c5f",
            "c1de8515eb664146a357f1638fde8138",
            "bddd3273d74e47c9b9a2768af67751dd",
            "b6c1448e8b6d494f81638ae06f67a928",
            "525ff120f7404be78b810e782c79dc2a"
          ]
        },
        "outputId": "586b9174-ef1d-49bb-8f98-9338f4e39c8b"
      },
      "source": [
        "curv_net = NetСurvWithReadout(num_features=1, num_classes=num_classes ,hidden=64).to(device)\n",
        "_, loss_history_CONST_curv = train_model(curv_net, \n",
        "                                          dataloader_CONST_curv,\n",
        "                                          n_epochs=240)"
      ],
      "execution_count": null,
      "outputs": [
        {
          "output_type": "stream",
          "text": [
            "/usr/local/lib/python3.6/dist-packages/ipykernel_launcher.py:10: TqdmDeprecationWarning: This function will be removed in tqdm==5.0.0\n",
            "Please use `tqdm.notebook.tqdm` instead of `tqdm.tqdm_notebook`\n",
            "  # Remove the CWD from sys.path while we load stuff.\n"
          ],
          "name": "stderr"
        },
        {
          "output_type": "display_data",
          "data": {
            "application/vnd.jupyter.widget-view+json": {
              "model_id": "616ef96bcc6c4eb3a3d84aee02b3a06e",
              "version_minor": 0,
              "version_major": 2
            },
            "text/plain": [
              "HBox(children=(FloatProgress(value=0.0, max=240.0), HTML(value='')))"
            ]
          },
          "metadata": {
            "tags": []
          }
        },
        {
          "output_type": "stream",
          "text": [
            "\n"
          ],
          "name": "stdout"
        }
      ]
    },
    {
      "cell_type": "code",
      "metadata": {
        "id": "5XrB68_3jOFt",
        "colab_type": "code",
        "colab": {
          "base_uri": "https://localhost:8080/",
          "height": 278
        },
        "outputId": "9aaa785a-19c8-42c6-93e7-e9384dc8f8d8"
      },
      "source": [
        "plt.plot(loss_history_baseline, label = 'baseline')\n",
        "plt.plot(loss_history_curv, label = 'edge curv')\n",
        "plt.plot(loss_history_CONST_curv, label = 'CONST edge curv')\n",
        "plt.plot(loss_history_edge_node_curv, label = 'node-edge curv')\n",
        "plt.xlabel('epoch')\n",
        "plt.ylabel('NLL loss')\n",
        "plt.legend()\n",
        "plt.show()"
      ],
      "execution_count": null,
      "outputs": [
        {
          "output_type": "display_data",
          "data": {
            "image/png": "[encoded data removed]",
            "text/plain": [
              "<Figure size 432x288 with 1 Axes>"
            ]
          },
          "metadata": {
            "tags": [],
            "needs_background": "light"
          }
        }
      ]
    },
    {
      "cell_type": "markdown",
      "metadata": {
        "id": "49ovbWWTsjxJ",
        "colab_type": "text"
      },
      "source": [
        "# ABIDE-1"
      ]
    },
    {
      "cell_type": "markdown",
      "metadata": {
        "id": "rXjjqla4-xQX",
        "colab_type": "text"
      },
      "source": [
        "##### 1) One-hot encode each node?"
      ]
    },
    {
      "cell_type": "code",
      "metadata": {
        "id": "zkppU-sjKBHF",
        "colab_type": "code",
        "colab": {}
      },
      "source": [
        "def get_curvatures(data_nx, weighted_edges = False, compute_olliver=False):\n",
        "    \n",
        "    results = defaultdict(dict)\n",
        "\n",
        "    if compute_olliver:\n",
        "        orc = OllivierRicci(data_nx, alpha=0.5, verbose=\"ERROR\", nbr_topk=10)\n",
        "        _ = orc.compute_ricci_curvature()\n",
        "        G_orc = orc.G.copy()\n",
        "        try:\n",
        "            ricci_curvatures_olliver = {(v1,v2):G_orc[v1][v2]['ricciCurvature'] for v1,v2 in list(G_orc.edges)}\n",
        "            ricci_curvatures_olliver_nodes = {i:G_orc.nodes[i]['ricciCurvature'] for i in list(G_orc.nodes)} \n",
        "        except:\n",
        "            set_trace()\n",
        "        results['Olliver']['edges'] = ricci_curvatures_olliver\n",
        "        results['Olliver']['nodes'] = ricci_curvatures_olliver_nodes\n",
        "\n",
        "    G_frc = FormannCurvature(data_nx, weighted=weighted_edges, default_node_curvature=3)\n",
        "    ricci_curvatures_formann = {(v1,v2):G_frc[v1][v2]['formanCurvature'] for v1,v2 in list(G_frc.edges)}\n",
        "    ricci_curvatures_formann_nodes = {i:G_frc.nodes[i]['formanCurvature'] for i in list(G_frc.nodes)}\n",
        "\n",
        "    results['Formann']['edges'] = ricci_curvatures_formann\n",
        "    results['Formann']['nodes'] = ricci_curvatures_formann_nodes\n",
        "\n",
        "    clear_output() \n",
        "\n",
        "    return results"
      ],
      "execution_count": 12,
      "outputs": []
    },
    {
      "cell_type": "code",
      "metadata": {
        "id": "dUvDbzSsn4qx",
        "colab_type": "code",
        "colab": {}
      },
      "source": [
        "class ABIDEDataset(Dataset):\n",
        "    def __init__(self, numpy_data_folder='ABIDE', numpy_target_path='ABIDE1/target.npy', atlas_type='AAL', compute_curvature=True, curvatures_path=None):\n",
        "        super(ABIDEDataset, self).__init__()\n",
        "\n",
        "        self.numpy_data = np.load(f'{numpy_data_folder}/ABIDE1_{atlas_type}.npy')\n",
        "        self.numpy_target = np.load(numpy_target_path)\n",
        "        self.compute_curvature = compute_curvature\n",
        "\n",
        "        if self.compute_curvature:\n",
        "            if curvatures_path is not None:\n",
        "                print ('Load pre-computed curvatures...')\n",
        "                self.curv_abide = np.load(curvatures_path, allow_pickle=True).tolist()\n",
        "            else:\n",
        "                print ('Compute curvatures...')\n",
        "                N = self.numpy_data.shape[-1]\n",
        "                E = np.eye(N)\n",
        "                graphs = [nx.from_numpy_matrix(self.numpy_data[i]-E).to_directed() for i in range(self.numpy_data.shape[0])]\n",
        "                pool = ThreadPool(mp.cpu_count())\n",
        "                self.curv_abide = pool.map(get_curvatures, graphs)\n",
        "                np.save(f'curv_abide_{atlas_type}', curv_abide)\n",
        "                pool.close()\n",
        "                pool.join()\n",
        "                del graphs\n",
        "        print ('Done!')\n",
        "\n",
        "        self.dirname = f'ABIDE_torch_geom_data_{atlas_type}' + ('_curv' if self.compute_curvature else '')\n",
        "        if not os.path.isdir(self.dirname):\n",
        "            print ('Making pytorch-data directory...')\n",
        "            os.mkdir(self.dirname)\n",
        "            N = self.numpy_data.shape[-1]\n",
        "            E = np.eye(N)\n",
        "            for i in range(self.__len__()):\n",
        "                g = nx.from_numpy_matrix(self.numpy_data[i]-E).to_directed()\n",
        "                target = self.numpy_target[i]\n",
        "                # fill graph features \n",
        "                for edge in g.edges:\n",
        "                    g[edge[0]][edge[1]]['edge_attr'] = [np.float(self.curv_abide[i]['Formann']['edges'][edge]), # curvature\n",
        "                                                        np.float(g[edge[0]][edge[1]]['weight'])] # correllation\n",
        "                for node in g.nodes:\n",
        "                    onehot = np.zeros(N, dtype=np.float)\n",
        "                    onehot[node] = 1.\n",
        "                    node_curvature = np.float(self.curv_abide[i]['Formann']['nodes'][node])\n",
        "                    g.nodes[node]['x'] =  np.concatenate([onehot, [node_curvature]]).tolist()\n",
        "\n",
        "                # make pytorch-geom data\n",
        "                data = make_data(g,target)\n",
        "                torch.save(data, 'data_%06d'%i )\n",
        "            print ('Done!')\n",
        "\n",
        "        self.items = [os.path.join(self.dirname, data_name) for data_name in sorted(os.listdir(self.dirname))]\n",
        "\n",
        "    def __len__(self):\n",
        "        return self.numpy_data.shape[0]\n",
        "\n",
        "    def __getitem__(self, i):\n",
        "        data = torch.load(self.items[i])\n",
        "\n",
        "        return data\n"
      ],
      "execution_count": 39,
      "outputs": []
    },
    {
      "cell_type": "code",
      "metadata": {
        "id": "QtNKC8bSyGyT",
        "colab_type": "code",
        "colab": {
          "base_uri": "https://localhost:8080/",
          "height": 52
        },
        "outputId": "c74af3e5-26d3-4381-fb9e-c09a7a1fe98d"
      },
      "source": [
        "dataset = ABIDEDataset(numpy_data_folder='ABIDE1', \n",
        "                       atlas_type='AAL', \n",
        "                       compute_curvature=True, \n",
        "                       curvatures_path='curv_abide_AAL.npy')\n",
        "num_classes = len(np.unique(dataset.numpy_target))\n",
        "dataloader_abide_both = DataLoader(dataset, batch_size=32, shuffle=True)"
      ],
      "execution_count": 40,
      "outputs": [
        {
          "output_type": "stream",
          "text": [
            "Load pre-computed curvatures...\n",
            "Done!\n"
          ],
          "name": "stdout"
        }
      ]
    },
    {
      "cell_type": "code",
      "metadata": {
        "id": "c1v6kC3wzeTT",
        "colab_type": "code",
        "colab": {
          "base_uri": "https://localhost:8080/",
          "height": 264
        },
        "outputId": "717b6501-e9c8-429d-e5c0-d93b2bbe38fc"
      },
      "source": [
        "for batch in dataloader_abide_both:\n",
        "    break\n",
        "plt.hist(batch.edge_attr.flatten().tolist(), bins=50)\n",
        "plt.show()"
      ],
      "execution_count": 45,
      "outputs": [
        {
          "output_type": "display_data",
          "data": {
            "image/png": "[encoded data removed]",
            "text/plain": [
              "<Figure size 432x288 with 1 Axes>"
            ]
          },
          "metadata": {
            "tags": []
          }
        }
      ]
    },
    {
      "cell_type": "code",
      "metadata": {
        "id": "w_Dlw7eMsFxl",
        "colab_type": "code",
        "colab": {
          "base_uri": "https://localhost:8080/",
          "height": 120,
          "referenced_widgets": [
            "610241f67d0c4ea8a66a1932a4b1ad5e",
            "3568a95396b8488eb8fd4694f4501df9",
            "27adb1274210498c8f0b431891d66a0f",
            "42afe0905019422f89f15cb414a047f5",
            "1e9ed6b72b1e48b1af8dfb44f637b0b0",
            "08086b0543054731ac9a9c77956ce09d",
            "3f66df1fb57241b19a2022bcca20a92a",
            "bd3aa411cf4c48d3b7a4f44e2e21f3ee"
          ]
        },
        "outputId": "ef4c8335-6c54-4fc5-b579-9e4c894c125a"
      },
      "source": [
        "net = NetWithReadout(num_features=117, num_classes=num_classes, hidden=64).to(device)\n",
        "history_loss_baseline, history_acc_baseline = train_model(net, \n",
        "                                                          dataloader_abide_both,\n",
        "                                                          n_epochs=60)"
      ],
      "execution_count": 90,
      "outputs": [
        {
          "output_type": "stream",
          "text": [
            "/usr/local/lib/python3.6/dist-packages/ipykernel_launcher.py:10: TqdmDeprecationWarning: This function will be removed in tqdm==5.0.0\n",
            "Please use `tqdm.notebook.tqdm` instead of `tqdm.tqdm_notebook`\n",
            "  # Remove the CWD from sys.path while we load stuff.\n"
          ],
          "name": "stderr"
        },
        {
          "output_type": "display_data",
          "data": {
            "application/vnd.jupyter.widget-view+json": {
              "model_id": "610241f67d0c4ea8a66a1932a4b1ad5e",
              "version_minor": 0,
              "version_major": 2
            },
            "text/plain": [
              "HBox(children=(FloatProgress(value=0.0, max=60.0), HTML(value='')))"
            ]
          },
          "metadata": {
            "tags": []
          }
        },
        {
          "output_type": "stream",
          "text": [
            "\n"
          ],
          "name": "stdout"
        }
      ]
    },
    {
      "cell_type": "code",
      "metadata": {
        "id": "JPdMiHD8sIga",
        "colab_type": "code",
        "colab": {
          "base_uri": "https://localhost:8080/",
          "height": 120,
          "referenced_widgets": [
            "05e7d87fbd6448a09c140f54655c8ccd",
            "ea0fd752e7694a38976e4c3613ef5630",
            "92965986544048ee8a95349986891ec4",
            "b57b92f57da5412f9bcab8d3fce6035b",
            "59ba8db2092b445aa3d5603647372692",
            "9bd65df411b94fa29e969194babd408b",
            "88ee523340334e9b9f680d65f64d154c",
            "5bd3d08515114f15aef88f29e9cefc64"
          ]
        },
        "outputId": "b19e3c82-ce41-4f77-d5b7-6c47d4d28a8c"
      },
      "source": [
        "curv_net = NetСurvWithReadout(num_features=117, num_classes=num_classes, edge_dim=2, hidden=128).to(device)\n",
        "history_loss_curv, history_acc_curv = train_model(curv_net, \n",
        "                                                  dataloader_abide_both,\n",
        "                                                  n_epochs=60)"
      ],
      "execution_count": 94,
      "outputs": [
        {
          "output_type": "stream",
          "text": [
            "/usr/local/lib/python3.6/dist-packages/ipykernel_launcher.py:10: TqdmDeprecationWarning: This function will be removed in tqdm==5.0.0\n",
            "Please use `tqdm.notebook.tqdm` instead of `tqdm.tqdm_notebook`\n",
            "  # Remove the CWD from sys.path while we load stuff.\n"
          ],
          "name": "stderr"
        },
        {
          "output_type": "display_data",
          "data": {
            "application/vnd.jupyter.widget-view+json": {
              "model_id": "05e7d87fbd6448a09c140f54655c8ccd",
              "version_minor": 0,
              "version_major": 2
            },
            "text/plain": [
              "HBox(children=(FloatProgress(value=0.0, max=60.0), HTML(value='')))"
            ]
          },
          "metadata": {
            "tags": []
          }
        },
        {
          "output_type": "stream",
          "text": [
            "\n"
          ],
          "name": "stdout"
        }
      ]
    },
    {
      "cell_type": "code",
      "metadata": {
        "id": "jpPP4_77lDeB",
        "colab_type": "code",
        "colab": {
          "base_uri": "https://localhost:8080/",
          "height": 282
        },
        "outputId": "cc54b86c-2a1f-40c7-bb22-ddf768cb5266"
      },
      "source": [
        "plt.plot(history_acc_baseline['epoch'])\n",
        "plt.plot(history_acc_curv['epoch'])"
      ],
      "execution_count": 97,
      "outputs": [
        {
          "output_type": "execute_result",
          "data": {
            "text/plain": [
              "[<matplotlib.lines.Line2D at 0x7fb5a7f4b208>]"
            ]
          },
          "metadata": {
            "tags": []
          },
          "execution_count": 97
        },
        {
          "output_type": "display_data",
          "data": {
            "image/png": "[encoded data removed]",
            "text/plain": [
              "<Figure size 432x288 with 1 Axes>"
            ]
          },
          "metadata": {
            "tags": []
          }
        }
      ]
    },
    {
      "cell_type": "code",
      "metadata": {
        "id": "45dZTJ0u0jrA",
        "colab_type": "code",
        "colab": {
          "base_uri": "https://localhost:8080/",
          "height": 282
        },
        "outputId": "37e398be-00eb-4f75-89df-8f696d55998e"
      },
      "source": [
        "plt.plot(history_loss_baseline['epoch'])\n",
        "plt.plot(history_loss_curv['epoch'])"
      ],
      "execution_count": 96,
      "outputs": [
        {
          "output_type": "execute_result",
          "data": {
            "text/plain": [
              "[<matplotlib.lines.Line2D at 0x7fb5a80bb160>]"
            ]
          },
          "metadata": {
            "tags": []
          },
          "execution_count": 96
        },
        {
          "output_type": "display_data",
          "data": {
            "image/png": "[encoded data removed]",
            "text/plain": [
              "<Figure size 432x288 with 1 Axes>"
            ]
          },
          "metadata": {
            "tags": []
          }
        }
      ]
    },
    {
      "cell_type": "code",
      "metadata": {
        "id": "xzvg5Q6BC5gl",
        "colab_type": "code",
        "colab": {}
      },
      "source": [
        ""
      ],
      "execution_count": null,
      "outputs": []
    }
  ]
}
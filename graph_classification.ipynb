{
  "nbformat": 4,
  "nbformat_minor": 0,
  "metadata": {
    "kernelspec": {
      "display_name": "Python 3",
      "language": "python",
      "name": "python3"
    },
    "language_info": {
      "codemirror_mode": {
        "name": "ipython",
        "version": 3
      },
      "file_extension": ".py",
      "mimetype": "text/x-python",
      "name": "python",
      "nbconvert_exporter": "python",
      "pygments_lexer": "ipython3",
      "version": "3.7.4"
    },
    "pycharm": {
      "stem_cell": {
        "cell_type": "raw",
        "source": [],
        "metadata": {
          "collapsed": false
        }
      }
    },
    "colab": {
      "name": "graph_classification.ipynb",
      "provenance": [],
      "collapsed_sections": []
    },
    "accelerator": "GPU",
    "widgets": {
      "application/vnd.jupyter.widget-state+json": {
        "80e06a3cc1e94926becc9ae398030be9": {
          "model_module": "@jupyter-widgets/controls",
          "model_name": "HBoxModel",
          "state": {
            "_view_name": "HBoxView",
            "_dom_classes": [],
            "_model_name": "HBoxModel",
            "_view_module": "@jupyter-widgets/controls",
            "_model_module_version": "1.5.0",
            "_view_count": null,
            "_view_module_version": "1.5.0",
            "box_style": "",
            "layout": "IPY_MODEL_a1745a6232ea4f58a168c9c635aec47f",
            "_model_module": "@jupyter-widgets/controls",
            "children": [
              "IPY_MODEL_fdddd867583348a8ac929dbb675b2468",
              "IPY_MODEL_4e2c124eac6048c38b312150c79a8773"
            ]
          }
        },
        "a1745a6232ea4f58a168c9c635aec47f": {
          "model_module": "@jupyter-widgets/base",
          "model_name": "LayoutModel",
          "state": {
            "_view_name": "LayoutView",
            "grid_template_rows": null,
            "right": null,
            "justify_content": null,
            "_view_module": "@jupyter-widgets/base",
            "overflow": null,
            "_model_module_version": "1.2.0",
            "_view_count": null,
            "flex_flow": null,
            "width": null,
            "min_width": null,
            "border": null,
            "align_items": null,
            "bottom": null,
            "_model_module": "@jupyter-widgets/base",
            "top": null,
            "grid_column": null,
            "overflow_y": null,
            "overflow_x": null,
            "grid_auto_flow": null,
            "grid_area": null,
            "grid_template_columns": null,
            "flex": null,
            "_model_name": "LayoutModel",
            "justify_items": null,
            "grid_row": null,
            "max_height": null,
            "align_content": null,
            "visibility": null,
            "align_self": null,
            "height": null,
            "min_height": null,
            "padding": null,
            "grid_auto_rows": null,
            "grid_gap": null,
            "max_width": null,
            "order": null,
            "_view_module_version": "1.2.0",
            "grid_template_areas": null,
            "object_position": null,
            "object_fit": null,
            "grid_auto_columns": null,
            "margin": null,
            "display": null,
            "left": null
          }
        },
        "fdddd867583348a8ac929dbb675b2468": {
          "model_module": "@jupyter-widgets/controls",
          "model_name": "FloatProgressModel",
          "state": {
            "_view_name": "ProgressView",
            "style": "IPY_MODEL_ac7d6f2167fd46e8a68f7e1054b09d89",
            "_dom_classes": [],
            "description": "100%",
            "_model_name": "FloatProgressModel",
            "bar_style": "success",
            "max": 120,
            "_view_module": "@jupyter-widgets/controls",
            "_model_module_version": "1.5.0",
            "value": 120,
            "_view_count": null,
            "_view_module_version": "1.5.0",
            "orientation": "horizontal",
            "min": 0,
            "description_tooltip": null,
            "_model_module": "@jupyter-widgets/controls",
            "layout": "IPY_MODEL_f09fc4ceb8c041229662fbfe10398c68"
          }
        },
        "4e2c124eac6048c38b312150c79a8773": {
          "model_module": "@jupyter-widgets/controls",
          "model_name": "HTMLModel",
          "state": {
            "_view_name": "HTMLView",
            "style": "IPY_MODEL_3c09536dbd0d4586b42b5c217f65ec13",
            "_dom_classes": [],
            "description": "",
            "_model_name": "HTMLModel",
            "placeholder": "​",
            "_view_module": "@jupyter-widgets/controls",
            "_model_module_version": "1.5.0",
            "value": " 120/120 [01:13&lt;00:00,  1.62it/s]",
            "_view_count": null,
            "_view_module_version": "1.5.0",
            "description_tooltip": null,
            "_model_module": "@jupyter-widgets/controls",
            "layout": "IPY_MODEL_deba9be7e4cd4bf4a32bf5fef1a33eff"
          }
        },
        "ac7d6f2167fd46e8a68f7e1054b09d89": {
          "model_module": "@jupyter-widgets/controls",
          "model_name": "ProgressStyleModel",
          "state": {
            "_view_name": "StyleView",
            "_model_name": "ProgressStyleModel",
            "description_width": "initial",
            "_view_module": "@jupyter-widgets/base",
            "_model_module_version": "1.5.0",
            "_view_count": null,
            "_view_module_version": "1.2.0",
            "bar_color": null,
            "_model_module": "@jupyter-widgets/controls"
          }
        },
        "f09fc4ceb8c041229662fbfe10398c68": {
          "model_module": "@jupyter-widgets/base",
          "model_name": "LayoutModel",
          "state": {
            "_view_name": "LayoutView",
            "grid_template_rows": null,
            "right": null,
            "justify_content": null,
            "_view_module": "@jupyter-widgets/base",
            "overflow": null,
            "_model_module_version": "1.2.0",
            "_view_count": null,
            "flex_flow": null,
            "width": null,
            "min_width": null,
            "border": null,
            "align_items": null,
            "bottom": null,
            "_model_module": "@jupyter-widgets/base",
            "top": null,
            "grid_column": null,
            "overflow_y": null,
            "overflow_x": null,
            "grid_auto_flow": null,
            "grid_area": null,
            "grid_template_columns": null,
            "flex": null,
            "_model_name": "LayoutModel",
            "justify_items": null,
            "grid_row": null,
            "max_height": null,
            "align_content": null,
            "visibility": null,
            "align_self": null,
            "height": null,
            "min_height": null,
            "padding": null,
            "grid_auto_rows": null,
            "grid_gap": null,
            "max_width": null,
            "order": null,
            "_view_module_version": "1.2.0",
            "grid_template_areas": null,
            "object_position": null,
            "object_fit": null,
            "grid_auto_columns": null,
            "margin": null,
            "display": null,
            "left": null
          }
        },
        "3c09536dbd0d4586b42b5c217f65ec13": {
          "model_module": "@jupyter-widgets/controls",
          "model_name": "DescriptionStyleModel",
          "state": {
            "_view_name": "StyleView",
            "_model_name": "DescriptionStyleModel",
            "description_width": "",
            "_view_module": "@jupyter-widgets/base",
            "_model_module_version": "1.5.0",
            "_view_count": null,
            "_view_module_version": "1.2.0",
            "_model_module": "@jupyter-widgets/controls"
          }
        },
        "deba9be7e4cd4bf4a32bf5fef1a33eff": {
          "model_module": "@jupyter-widgets/base",
          "model_name": "LayoutModel",
          "state": {
            "_view_name": "LayoutView",
            "grid_template_rows": null,
            "right": null,
            "justify_content": null,
            "_view_module": "@jupyter-widgets/base",
            "overflow": null,
            "_model_module_version": "1.2.0",
            "_view_count": null,
            "flex_flow": null,
            "width": null,
            "min_width": null,
            "border": null,
            "align_items": null,
            "bottom": null,
            "_model_module": "@jupyter-widgets/base",
            "top": null,
            "grid_column": null,
            "overflow_y": null,
            "overflow_x": null,
            "grid_auto_flow": null,
            "grid_area": null,
            "grid_template_columns": null,
            "flex": null,
            "_model_name": "LayoutModel",
            "justify_items": null,
            "grid_row": null,
            "max_height": null,
            "align_content": null,
            "visibility": null,
            "align_self": null,
            "height": null,
            "min_height": null,
            "padding": null,
            "grid_auto_rows": null,
            "grid_gap": null,
            "max_width": null,
            "order": null,
            "_view_module_version": "1.2.0",
            "grid_template_areas": null,
            "object_position": null,
            "object_fit": null,
            "grid_auto_columns": null,
            "margin": null,
            "display": null,
            "left": null
          }
        },
        "1e0c2d5c05f843778d69a2d5b34631f9": {
          "model_module": "@jupyter-widgets/controls",
          "model_name": "HBoxModel",
          "state": {
            "_view_name": "HBoxView",
            "_dom_classes": [],
            "_model_name": "HBoxModel",
            "_view_module": "@jupyter-widgets/controls",
            "_model_module_version": "1.5.0",
            "_view_count": null,
            "_view_module_version": "1.5.0",
            "box_style": "",
            "layout": "IPY_MODEL_8981feb18e7145baa17954a2617bf9a3",
            "_model_module": "@jupyter-widgets/controls",
            "children": [
              "IPY_MODEL_fe299e5d032f40e58280e4d2eafa0423",
              "IPY_MODEL_663febdfd3d54a499bc8a3a5a5381335"
            ]
          }
        },
        "8981feb18e7145baa17954a2617bf9a3": {
          "model_module": "@jupyter-widgets/base",
          "model_name": "LayoutModel",
          "state": {
            "_view_name": "LayoutView",
            "grid_template_rows": null,
            "right": null,
            "justify_content": null,
            "_view_module": "@jupyter-widgets/base",
            "overflow": null,
            "_model_module_version": "1.2.0",
            "_view_count": null,
            "flex_flow": null,
            "width": null,
            "min_width": null,
            "border": null,
            "align_items": null,
            "bottom": null,
            "_model_module": "@jupyter-widgets/base",
            "top": null,
            "grid_column": null,
            "overflow_y": null,
            "overflow_x": null,
            "grid_auto_flow": null,
            "grid_area": null,
            "grid_template_columns": null,
            "flex": null,
            "_model_name": "LayoutModel",
            "justify_items": null,
            "grid_row": null,
            "max_height": null,
            "align_content": null,
            "visibility": null,
            "align_self": null,
            "height": null,
            "min_height": null,
            "padding": null,
            "grid_auto_rows": null,
            "grid_gap": null,
            "max_width": null,
            "order": null,
            "_view_module_version": "1.2.0",
            "grid_template_areas": null,
            "object_position": null,
            "object_fit": null,
            "grid_auto_columns": null,
            "margin": null,
            "display": null,
            "left": null
          }
        },
        "fe299e5d032f40e58280e4d2eafa0423": {
          "model_module": "@jupyter-widgets/controls",
          "model_name": "FloatProgressModel",
          "state": {
            "_view_name": "ProgressView",
            "style": "IPY_MODEL_e770a3a353b249b19965a314d3a2d6dc",
            "_dom_classes": [],
            "description": "100%",
            "_model_name": "FloatProgressModel",
            "bar_style": "success",
            "max": 120,
            "_view_module": "@jupyter-widgets/controls",
            "_model_module_version": "1.5.0",
            "value": 120,
            "_view_count": null,
            "_view_module_version": "1.5.0",
            "orientation": "horizontal",
            "min": 0,
            "description_tooltip": null,
            "_model_module": "@jupyter-widgets/controls",
            "layout": "IPY_MODEL_a31f40b6f1744e06a57f6add963670d9"
          }
        },
        "663febdfd3d54a499bc8a3a5a5381335": {
          "model_module": "@jupyter-widgets/controls",
          "model_name": "HTMLModel",
          "state": {
            "_view_name": "HTMLView",
            "style": "IPY_MODEL_003eb6746f8f4e9ab2e71bfc3c6a25bc",
            "_dom_classes": [],
            "description": "",
            "_model_name": "HTMLModel",
            "placeholder": "​",
            "_view_module": "@jupyter-widgets/controls",
            "_model_module_version": "1.5.0",
            "value": " 120/120 [00:15&lt;00:00,  7.76it/s]",
            "_view_count": null,
            "_view_module_version": "1.5.0",
            "description_tooltip": null,
            "_model_module": "@jupyter-widgets/controls",
            "layout": "IPY_MODEL_0da69bb0640a44acb8139ccef45a3585"
          }
        },
        "e770a3a353b249b19965a314d3a2d6dc": {
          "model_module": "@jupyter-widgets/controls",
          "model_name": "ProgressStyleModel",
          "state": {
            "_view_name": "StyleView",
            "_model_name": "ProgressStyleModel",
            "description_width": "initial",
            "_view_module": "@jupyter-widgets/base",
            "_model_module_version": "1.5.0",
            "_view_count": null,
            "_view_module_version": "1.2.0",
            "bar_color": null,
            "_model_module": "@jupyter-widgets/controls"
          }
        },
        "a31f40b6f1744e06a57f6add963670d9": {
          "model_module": "@jupyter-widgets/base",
          "model_name": "LayoutModel",
          "state": {
            "_view_name": "LayoutView",
            "grid_template_rows": null,
            "right": null,
            "justify_content": null,
            "_view_module": "@jupyter-widgets/base",
            "overflow": null,
            "_model_module_version": "1.2.0",
            "_view_count": null,
            "flex_flow": null,
            "width": null,
            "min_width": null,
            "border": null,
            "align_items": null,
            "bottom": null,
            "_model_module": "@jupyter-widgets/base",
            "top": null,
            "grid_column": null,
            "overflow_y": null,
            "overflow_x": null,
            "grid_auto_flow": null,
            "grid_area": null,
            "grid_template_columns": null,
            "flex": null,
            "_model_name": "LayoutModel",
            "justify_items": null,
            "grid_row": null,
            "max_height": null,
            "align_content": null,
            "visibility": null,
            "align_self": null,
            "height": null,
            "min_height": null,
            "padding": null,
            "grid_auto_rows": null,
            "grid_gap": null,
            "max_width": null,
            "order": null,
            "_view_module_version": "1.2.0",
            "grid_template_areas": null,
            "object_position": null,
            "object_fit": null,
            "grid_auto_columns": null,
            "margin": null,
            "display": null,
            "left": null
          }
        },
        "003eb6746f8f4e9ab2e71bfc3c6a25bc": {
          "model_module": "@jupyter-widgets/controls",
          "model_name": "DescriptionStyleModel",
          "state": {
            "_view_name": "StyleView",
            "_model_name": "DescriptionStyleModel",
            "description_width": "",
            "_view_module": "@jupyter-widgets/base",
            "_model_module_version": "1.5.0",
            "_view_count": null,
            "_view_module_version": "1.2.0",
            "_model_module": "@jupyter-widgets/controls"
          }
        },
        "0da69bb0640a44acb8139ccef45a3585": {
          "model_module": "@jupyter-widgets/base",
          "model_name": "LayoutModel",
          "state": {
            "_view_name": "LayoutView",
            "grid_template_rows": null,
            "right": null,
            "justify_content": null,
            "_view_module": "@jupyter-widgets/base",
            "overflow": null,
            "_model_module_version": "1.2.0",
            "_view_count": null,
            "flex_flow": null,
            "width": null,
            "min_width": null,
            "border": null,
            "align_items": null,
            "bottom": null,
            "_model_module": "@jupyter-widgets/base",
            "top": null,
            "grid_column": null,
            "overflow_y": null,
            "overflow_x": null,
            "grid_auto_flow": null,
            "grid_area": null,
            "grid_template_columns": null,
            "flex": null,
            "_model_name": "LayoutModel",
            "justify_items": null,
            "grid_row": null,
            "max_height": null,
            "align_content": null,
            "visibility": null,
            "align_self": null,
            "height": null,
            "min_height": null,
            "padding": null,
            "grid_auto_rows": null,
            "grid_gap": null,
            "max_width": null,
            "order": null,
            "_view_module_version": "1.2.0",
            "grid_template_areas": null,
            "object_position": null,
            "object_fit": null,
            "grid_auto_columns": null,
            "margin": null,
            "display": null,
            "left": null
          }
        },
        "23b9a39a07734c7bb8036838e6befbc3": {
          "model_module": "@jupyter-widgets/controls",
          "model_name": "HBoxModel",
          "state": {
            "_view_name": "HBoxView",
            "_dom_classes": [],
            "_model_name": "HBoxModel",
            "_view_module": "@jupyter-widgets/controls",
            "_model_module_version": "1.5.0",
            "_view_count": null,
            "_view_module_version": "1.5.0",
            "box_style": "",
            "layout": "IPY_MODEL_9b5406f5b38b4b7a93d0a88ceeaeb7a8",
            "_model_module": "@jupyter-widgets/controls",
            "children": [
              "IPY_MODEL_643541772cb84f179710c3a4610b7796",
              "IPY_MODEL_4581d392ca454e7da238df249ab3482f"
            ]
          }
        },
        "9b5406f5b38b4b7a93d0a88ceeaeb7a8": {
          "model_module": "@jupyter-widgets/base",
          "model_name": "LayoutModel",
          "state": {
            "_view_name": "LayoutView",
            "grid_template_rows": null,
            "right": null,
            "justify_content": null,
            "_view_module": "@jupyter-widgets/base",
            "overflow": null,
            "_model_module_version": "1.2.0",
            "_view_count": null,
            "flex_flow": null,
            "width": null,
            "min_width": null,
            "border": null,
            "align_items": null,
            "bottom": null,
            "_model_module": "@jupyter-widgets/base",
            "top": null,
            "grid_column": null,
            "overflow_y": null,
            "overflow_x": null,
            "grid_auto_flow": null,
            "grid_area": null,
            "grid_template_columns": null,
            "flex": null,
            "_model_name": "LayoutModel",
            "justify_items": null,
            "grid_row": null,
            "max_height": null,
            "align_content": null,
            "visibility": null,
            "align_self": null,
            "height": null,
            "min_height": null,
            "padding": null,
            "grid_auto_rows": null,
            "grid_gap": null,
            "max_width": null,
            "order": null,
            "_view_module_version": "1.2.0",
            "grid_template_areas": null,
            "object_position": null,
            "object_fit": null,
            "grid_auto_columns": null,
            "margin": null,
            "display": null,
            "left": null
          }
        },
        "643541772cb84f179710c3a4610b7796": {
          "model_module": "@jupyter-widgets/controls",
          "model_name": "FloatProgressModel",
          "state": {
            "_view_name": "ProgressView",
            "style": "IPY_MODEL_badb07ee4b6341dfb0855ae1f037e005",
            "_dom_classes": [],
            "description": "100%",
            "_model_name": "FloatProgressModel",
            "bar_style": "success",
            "max": 60,
            "_view_module": "@jupyter-widgets/controls",
            "_model_module_version": "1.5.0",
            "value": 60,
            "_view_count": null,
            "_view_module_version": "1.5.0",
            "orientation": "horizontal",
            "min": 0,
            "description_tooltip": null,
            "_model_module": "@jupyter-widgets/controls",
            "layout": "IPY_MODEL_7af4e74154014dc3a7ded2e249532e6c"
          }
        },
        "4581d392ca454e7da238df249ab3482f": {
          "model_module": "@jupyter-widgets/controls",
          "model_name": "HTMLModel",
          "state": {
            "_view_name": "HTMLView",
            "style": "IPY_MODEL_c88b836e670b42629fda7c211ef57283",
            "_dom_classes": [],
            "description": "",
            "_model_name": "HTMLModel",
            "placeholder": "​",
            "_view_module": "@jupyter-widgets/controls",
            "_model_module_version": "1.5.0",
            "value": " 60/60 [04:52&lt;00:00,  4.87s/it]",
            "_view_count": null,
            "_view_module_version": "1.5.0",
            "description_tooltip": null,
            "_model_module": "@jupyter-widgets/controls",
            "layout": "IPY_MODEL_1327acf1fe4d4319b3d91882c378d570"
          }
        },
        "badb07ee4b6341dfb0855ae1f037e005": {
          "model_module": "@jupyter-widgets/controls",
          "model_name": "ProgressStyleModel",
          "state": {
            "_view_name": "StyleView",
            "_model_name": "ProgressStyleModel",
            "description_width": "initial",
            "_view_module": "@jupyter-widgets/base",
            "_model_module_version": "1.5.0",
            "_view_count": null,
            "_view_module_version": "1.2.0",
            "bar_color": null,
            "_model_module": "@jupyter-widgets/controls"
          }
        },
        "7af4e74154014dc3a7ded2e249532e6c": {
          "model_module": "@jupyter-widgets/base",
          "model_name": "LayoutModel",
          "state": {
            "_view_name": "LayoutView",
            "grid_template_rows": null,
            "right": null,
            "justify_content": null,
            "_view_module": "@jupyter-widgets/base",
            "overflow": null,
            "_model_module_version": "1.2.0",
            "_view_count": null,
            "flex_flow": null,
            "width": null,
            "min_width": null,
            "border": null,
            "align_items": null,
            "bottom": null,
            "_model_module": "@jupyter-widgets/base",
            "top": null,
            "grid_column": null,
            "overflow_y": null,
            "overflow_x": null,
            "grid_auto_flow": null,
            "grid_area": null,
            "grid_template_columns": null,
            "flex": null,
            "_model_name": "LayoutModel",
            "justify_items": null,
            "grid_row": null,
            "max_height": null,
            "align_content": null,
            "visibility": null,
            "align_self": null,
            "height": null,
            "min_height": null,
            "padding": null,
            "grid_auto_rows": null,
            "grid_gap": null,
            "max_width": null,
            "order": null,
            "_view_module_version": "1.2.0",
            "grid_template_areas": null,
            "object_position": null,
            "object_fit": null,
            "grid_auto_columns": null,
            "margin": null,
            "display": null,
            "left": null
          }
        },
        "c88b836e670b42629fda7c211ef57283": {
          "model_module": "@jupyter-widgets/controls",
          "model_name": "DescriptionStyleModel",
          "state": {
            "_view_name": "StyleView",
            "_model_name": "DescriptionStyleModel",
            "description_width": "",
            "_view_module": "@jupyter-widgets/base",
            "_model_module_version": "1.5.0",
            "_view_count": null,
            "_view_module_version": "1.2.0",
            "_model_module": "@jupyter-widgets/controls"
          }
        },
        "1327acf1fe4d4319b3d91882c378d570": {
          "model_module": "@jupyter-widgets/base",
          "model_name": "LayoutModel",
          "state": {
            "_view_name": "LayoutView",
            "grid_template_rows": null,
            "right": null,
            "justify_content": null,
            "_view_module": "@jupyter-widgets/base",
            "overflow": null,
            "_model_module_version": "1.2.0",
            "_view_count": null,
            "flex_flow": null,
            "width": null,
            "min_width": null,
            "border": null,
            "align_items": null,
            "bottom": null,
            "_model_module": "@jupyter-widgets/base",
            "top": null,
            "grid_column": null,
            "overflow_y": null,
            "overflow_x": null,
            "grid_auto_flow": null,
            "grid_area": null,
            "grid_template_columns": null,
            "flex": null,
            "_model_name": "LayoutModel",
            "justify_items": null,
            "grid_row": null,
            "max_height": null,
            "align_content": null,
            "visibility": null,
            "align_self": null,
            "height": null,
            "min_height": null,
            "padding": null,
            "grid_auto_rows": null,
            "grid_gap": null,
            "max_width": null,
            "order": null,
            "_view_module_version": "1.2.0",
            "grid_template_areas": null,
            "object_position": null,
            "object_fit": null,
            "grid_auto_columns": null,
            "margin": null,
            "display": null,
            "left": null
          }
        },
        "6109de4def7749f8bf5a78d2b188995a": {
          "model_module": "@jupyter-widgets/controls",
          "model_name": "HBoxModel",
          "state": {
            "_view_name": "HBoxView",
            "_dom_classes": [],
            "_model_name": "HBoxModel",
            "_view_module": "@jupyter-widgets/controls",
            "_model_module_version": "1.5.0",
            "_view_count": null,
            "_view_module_version": "1.5.0",
            "box_style": "",
            "layout": "IPY_MODEL_9d0d65e681b1406a8ac784660750b65f",
            "_model_module": "@jupyter-widgets/controls",
            "children": [
              "IPY_MODEL_2060368d9b87464ab835ede11d111b05",
              "IPY_MODEL_c3f758e4fdaf42b79b452d3f5813d4d5"
            ]
          }
        },
        "9d0d65e681b1406a8ac784660750b65f": {
          "model_module": "@jupyter-widgets/base",
          "model_name": "LayoutModel",
          "state": {
            "_view_name": "LayoutView",
            "grid_template_rows": null,
            "right": null,
            "justify_content": null,
            "_view_module": "@jupyter-widgets/base",
            "overflow": null,
            "_model_module_version": "1.2.0",
            "_view_count": null,
            "flex_flow": null,
            "width": null,
            "min_width": null,
            "border": null,
            "align_items": null,
            "bottom": null,
            "_model_module": "@jupyter-widgets/base",
            "top": null,
            "grid_column": null,
            "overflow_y": null,
            "overflow_x": null,
            "grid_auto_flow": null,
            "grid_area": null,
            "grid_template_columns": null,
            "flex": null,
            "_model_name": "LayoutModel",
            "justify_items": null,
            "grid_row": null,
            "max_height": null,
            "align_content": null,
            "visibility": null,
            "align_self": null,
            "height": null,
            "min_height": null,
            "padding": null,
            "grid_auto_rows": null,
            "grid_gap": null,
            "max_width": null,
            "order": null,
            "_view_module_version": "1.2.0",
            "grid_template_areas": null,
            "object_position": null,
            "object_fit": null,
            "grid_auto_columns": null,
            "margin": null,
            "display": null,
            "left": null
          }
        },
        "2060368d9b87464ab835ede11d111b05": {
          "model_module": "@jupyter-widgets/controls",
          "model_name": "FloatProgressModel",
          "state": {
            "_view_name": "ProgressView",
            "style": "IPY_MODEL_a12e5e6a8ef64eaf84d9cd7b9ad87250",
            "_dom_classes": [],
            "description": "100%",
            "_model_name": "FloatProgressModel",
            "bar_style": "success",
            "max": 60,
            "_view_module": "@jupyter-widgets/controls",
            "_model_module_version": "1.5.0",
            "value": 60,
            "_view_count": null,
            "_view_module_version": "1.5.0",
            "orientation": "horizontal",
            "min": 0,
            "description_tooltip": null,
            "_model_module": "@jupyter-widgets/controls",
            "layout": "IPY_MODEL_b017ff0ed3264ecf921f6334ace99277"
          }
        },
        "c3f758e4fdaf42b79b452d3f5813d4d5": {
          "model_module": "@jupyter-widgets/controls",
          "model_name": "HTMLModel",
          "state": {
            "_view_name": "HTMLView",
            "style": "IPY_MODEL_9685775638d64377b3c6747d660b9d99",
            "_dom_classes": [],
            "description": "",
            "_model_name": "HTMLModel",
            "placeholder": "​",
            "_view_module": "@jupyter-widgets/controls",
            "_model_module_version": "1.5.0",
            "value": " 60/60 [02:47&lt;00:00,  2.79s/it]",
            "_view_count": null,
            "_view_module_version": "1.5.0",
            "description_tooltip": null,
            "_model_module": "@jupyter-widgets/controls",
            "layout": "IPY_MODEL_83342656d938410bb58cd5ca916c5486"
          }
        },
        "a12e5e6a8ef64eaf84d9cd7b9ad87250": {
          "model_module": "@jupyter-widgets/controls",
          "model_name": "ProgressStyleModel",
          "state": {
            "_view_name": "StyleView",
            "_model_name": "ProgressStyleModel",
            "description_width": "initial",
            "_view_module": "@jupyter-widgets/base",
            "_model_module_version": "1.5.0",
            "_view_count": null,
            "_view_module_version": "1.2.0",
            "bar_color": null,
            "_model_module": "@jupyter-widgets/controls"
          }
        },
        "b017ff0ed3264ecf921f6334ace99277": {
          "model_module": "@jupyter-widgets/base",
          "model_name": "LayoutModel",
          "state": {
            "_view_name": "LayoutView",
            "grid_template_rows": null,
            "right": null,
            "justify_content": null,
            "_view_module": "@jupyter-widgets/base",
            "overflow": null,
            "_model_module_version": "1.2.0",
            "_view_count": null,
            "flex_flow": null,
            "width": null,
            "min_width": null,
            "border": null,
            "align_items": null,
            "bottom": null,
            "_model_module": "@jupyter-widgets/base",
            "top": null,
            "grid_column": null,
            "overflow_y": null,
            "overflow_x": null,
            "grid_auto_flow": null,
            "grid_area": null,
            "grid_template_columns": null,
            "flex": null,
            "_model_name": "LayoutModel",
            "justify_items": null,
            "grid_row": null,
            "max_height": null,
            "align_content": null,
            "visibility": null,
            "align_self": null,
            "height": null,
            "min_height": null,
            "padding": null,
            "grid_auto_rows": null,
            "grid_gap": null,
            "max_width": null,
            "order": null,
            "_view_module_version": "1.2.0",
            "grid_template_areas": null,
            "object_position": null,
            "object_fit": null,
            "grid_auto_columns": null,
            "margin": null,
            "display": null,
            "left": null
          }
        },
        "9685775638d64377b3c6747d660b9d99": {
          "model_module": "@jupyter-widgets/controls",
          "model_name": "DescriptionStyleModel",
          "state": {
            "_view_name": "StyleView",
            "_model_name": "DescriptionStyleModel",
            "description_width": "",
            "_view_module": "@jupyter-widgets/base",
            "_model_module_version": "1.5.0",
            "_view_count": null,
            "_view_module_version": "1.2.0",
            "_model_module": "@jupyter-widgets/controls"
          }
        },
        "83342656d938410bb58cd5ca916c5486": {
          "model_module": "@jupyter-widgets/base",
          "model_name": "LayoutModel",
          "state": {
            "_view_name": "LayoutView",
            "grid_template_rows": null,
            "right": null,
            "justify_content": null,
            "_view_module": "@jupyter-widgets/base",
            "overflow": null,
            "_model_module_version": "1.2.0",
            "_view_count": null,
            "flex_flow": null,
            "width": null,
            "min_width": null,
            "border": null,
            "align_items": null,
            "bottom": null,
            "_model_module": "@jupyter-widgets/base",
            "top": null,
            "grid_column": null,
            "overflow_y": null,
            "overflow_x": null,
            "grid_auto_flow": null,
            "grid_area": null,
            "grid_template_columns": null,
            "flex": null,
            "_model_name": "LayoutModel",
            "justify_items": null,
            "grid_row": null,
            "max_height": null,
            "align_content": null,
            "visibility": null,
            "align_self": null,
            "height": null,
            "min_height": null,
            "padding": null,
            "grid_auto_rows": null,
            "grid_gap": null,
            "max_width": null,
            "order": null,
            "_view_module_version": "1.2.0",
            "grid_template_areas": null,
            "object_position": null,
            "object_fit": null,
            "grid_auto_columns": null,
            "margin": null,
            "display": null,
            "left": null
          }
        }
      }
    }
  },
  "cells": [
    {
      "cell_type": "code",
      "metadata": {
        "id": "KCEsqe3u2xzz",
        "colab_type": "code",
        "colab": {
          "base_uri": "https://localhost:8080/",
          "height": 34
        },
        "outputId": "a0a9db46-8433-40bd-fecd-d0aa5db89036"
      },
      "source": [
        "from google.colab import drive\n",
        "drive.mount('/gdrive')"
      ],
      "execution_count": 73,
      "outputs": [
        {
          "output_type": "stream",
          "text": [
            "Drive already mounted at /gdrive; to attempt to forcibly remount, call drive.mount(\"/gdrive\", force_remount=True).\n"
          ],
          "name": "stdout"
        }
      ]
    },
    {
      "cell_type": "code",
      "metadata": {
        "id": "Xk-s9l1D3-YD",
        "colab_type": "code",
        "colab": {
          "base_uri": "https://localhost:8080/",
          "height": 51
        },
        "outputId": "635b4966-ea9a-4554-dbe4-436a9046ae43"
      },
      "source": [
        "cd ../gdrive/My\\ Drive/Colab\\ Notebooks/Graph\\ Curvature\\ Networks"
      ],
      "execution_count": 74,
      "outputs": [
        {
          "output_type": "stream",
          "text": [
            "[Errno 2] No such file or directory: '../gdrive/My Drive/Colab Notebooks/Graph Curvature Networks'\n",
            "/gdrive/My Drive/Colab Notebooks/Graph Curvature Networks\n"
          ],
          "name": "stdout"
        }
      ]
    },
    {
      "cell_type": "code",
      "metadata": {
        "id": "0WT1ddWhxdYw",
        "colab_type": "code",
        "colab": {}
      },
      "source": [
        "# colab setting\n",
        "!pip install GraphRicciCurvature\n",
        "!pip install grakel\n",
        "\n",
        "import networkx as nx\n",
        "import numpy as np\n",
        "import math\n",
        "import os\n",
        "import importlib\n",
        "from IPython.display import clear_output\n",
        "from IPython.core.debugger import set_trace\n",
        "import pandas as pd\n",
        "from collections import defaultdict\n",
        "\n",
        "\n",
        "from sklearn.linear_model import LogisticRegression\n",
        "from sklearn.ensemble import RandomForestClassifier\n",
        "from sklearn.neighbors import KNeighborsClassifier\n",
        "from sklearn.model_selection import cross_val_score\n",
        "from sklearn.metrics import accuracy_score, f1_score\n",
        "from sklearn.model_selection import train_test_split\n",
        "from sklearn.preprocessing import StandardScaler\n",
        "from sklearn.model_selection import GridSearchCV\n",
        "\n",
        "from tqdm import tqdm_notebook\n",
        "\n",
        "# matplotlib setting\n",
        "%matplotlib inline\n",
        "import matplotlib.pyplot as plt\n",
        "\n",
        "# to print logs in jupyter notebook\n",
        "import logging\n",
        "logging.basicConfig(format='%(levelname)s:%(message)s', level=logging.ERROR)\n",
        "\n",
        "# load GraphRicciCuravture package\n",
        "from GraphRicciCurvature.OllivierRicci import OllivierRicci\n",
        "from GraphRicciCurvature.FormanRicci import FormanRicci\n",
        "clear_output()"
      ],
      "execution_count": 75,
      "outputs": []
    },
    {
      "cell_type": "code",
      "metadata": {
        "id": "hrTImyccdQBq",
        "colab_type": "code",
        "colab": {}
      },
      "source": [
        "!pip install torch-scatter==latest+cu101 -f https://pytorch-geometric.com/whl/torch-1.5.0.html\n",
        "!pip install torch-sparse==latest+cu101 -f https://pytorch-geometric.com/whl/torch-1.5.0.html\n",
        "!pip install torch-cluster==latest+cu101 -f https://pytorch-geometric.com/whl/torch-1.5.0.html\n",
        "!pip install torch-spline-conv==latest+cu101 -f https://pytorch-geometric.com/whl/torch-1.5.0.html\n",
        "!pip install torch-geometric\n",
        "clear_output()"
      ],
      "execution_count": 76,
      "outputs": []
    },
    {
      "cell_type": "code",
      "metadata": {
        "id": "J_y1900mzmOq",
        "colab_type": "code",
        "colab": {}
      },
      "source": [
        "def make_data(G, y):\n",
        "    x = from_networkx(G)\n",
        "    x.y = y \n",
        "    return x"
      ],
      "execution_count": 77,
      "outputs": []
    },
    {
      "cell_type": "code",
      "metadata": {
        "id": "2TFRX1aVqcHm",
        "colab_type": "code",
        "colab": {}
      },
      "source": [
        "# from http://www3.cs.stonybrook.edu/~chni/\n",
        "def FormannCurvature(G, weighted=False, EPS=1e-15, default_node_curvature=None):\n",
        "    G = G.copy()\n",
        "    for (v1, v2) in G.edges():\n",
        "        if not weighted:\n",
        "            if G.is_directed():\n",
        "                v1_nbr = set(list(G.predecessors(v1)) + list(G.successors(v1)))\n",
        "                v2_nbr = set(list(G.predecessors(v2)) + list(G.successors(v2)))\n",
        "            else:\n",
        "                v1_nbr = set(G.neighbors(v1))\n",
        "                v1_nbr.remove(v2)\n",
        "                v2_nbr = set(G.neighbors(v2))\n",
        "                v2_nbr.remove(v1)\n",
        "            face = v1_nbr & v2_nbr\n",
        "            prl_nbr = (v1_nbr | v2_nbr) - face\n",
        "            G[v1][v2][\"formanCurvature\"] = len(face) + 2 - len(prl_nbr)\n",
        "        else:\n",
        "            w_e = G[v1][v2]['weight'] + np.sqrt(EPS)\n",
        "            w_i = 1.\n",
        "            w_j = 1.\n",
        "            S_i = sum([w_i/np.sqrt(v['weight']*w_e + EPS) if k!=v2 else 0. \\\n",
        "                       for k,v in G[v1].items()])\n",
        "            S_j = sum([w_j/np.sqrt(v['weight']*w_e + EPS) if k!=v1 else 0. \\\n",
        "                      for k,v in G[v2].items()])\n",
        "            curv = w_e*( (w_i/w_e) + (w_j/w_e) - S_i - S_j)\n",
        "            G[v1][v2][\"formanCurvature\"] = curv\n",
        "            assert not np.isnan(curv).any()\n",
        "\n",
        "    # Node Forman curvature\n",
        "    for n in G.nodes():\n",
        "        fcsum = 0  # sum of the neighbor Forman curvature\n",
        "        if G.degree(n) != 0:\n",
        "            for nbr in G.neighbors(n):\n",
        "                if 'formanCurvature' in G[n][nbr]:\n",
        "                    fcsum += G[n][nbr]['formanCurvature']\n",
        "            # assign the node Forman curvature to be the average of node's adjacency edges\n",
        "            G.nodes[n]['formanCurvature'] = fcsum / G.degree(n)\n",
        "        else:\n",
        "            G.nodes[n]['formanCurvature'] = default_node_curvature\n",
        "\n",
        "                \n",
        "    return G"
      ],
      "execution_count": 78,
      "outputs": []
    },
    {
      "cell_type": "markdown",
      "metadata": {
        "id": "v7lOC6dgZrYl",
        "colab_type": "text"
      },
      "source": [
        "# CurvConv architecture"
      ]
    },
    {
      "cell_type": "code",
      "metadata": {
        "id": "SFQ97EWPZpUb",
        "colab_type": "code",
        "colab": {}
      },
      "source": [
        "import torch\n",
        "from torch import nn\n",
        "import torch.nn.functional as F\n",
        "import torch_geometric.transforms as T\n",
        "from torch.utils.data import Dataset\n",
        "from torch_geometric.data import Data, DataLoader\n",
        "from torch_geometric.datasets import Planetoid, Amazon, Coauthor\n",
        "\n",
        "from torch_geometric.nn import MessagePassing, GlobalAttention, GCNConv \n",
        "from torch_geometric.nn import EdgeConv, ECConv\n",
        "from torch.nn import LeakyReLU,init,Linear, Sequential\n",
        "\n",
        "from torch_geometric.utils import softmax, degree, add_self_loops, remove_self_loops\n",
        "from torch_geometric.utils.convert import from_networkx, to_networkx\n",
        "\n",
        "device = torch.device('cuda' if torch.cuda.is_available() else 'cpu')\n",
        "_=torch.manual_seed(42)"
      ],
      "execution_count": 79,
      "outputs": []
    },
    {
      "cell_type": "code",
      "metadata": {
        "id": "5hMiMc1DXnks",
        "colab_type": "code",
        "colab": {}
      },
      "source": [
        "################################\n",
        "# DEFINE CURVATURE CONVOLUTION #\n",
        "################################\n",
        "class curvGN(MessagePassing):\n",
        "    def __init__(self, in_channels, out_channels, edge_dim=1, bias=True):\n",
        "        super(curvGN, self).__init__(aggr='add')\n",
        "        self.lin = Linear(in_channels, out_channels)\n",
        "        widths = [edge_dim, out_channels]\n",
        "        self.w_mlp_out = create_wmlp(widths, out_channels, True)\n",
        "\n",
        "    def forward(self, x, edge_index, w_mul):\n",
        "        # edge_index, _ = add_self_loops(edge_index, num_nodes=x.size(0))\n",
        "        x = self.lin(x)\n",
        "        out_weight = self.w_mlp_out(w_mul)\n",
        "        out_weight = softmax(out_weight, edge_index[0])\n",
        "\n",
        "        return self.propagate(edge_index,  x=x, out_weight=out_weight), out_weight\n",
        "\n",
        "    def message(self, x_j, out_weight):\n",
        "        return out_weight*x_j\n",
        "\n",
        "    def update(self, aggr_out):\n",
        "        # aggr_out has shape [N, out_channels]\n",
        "        # Step 5: Return new node embeddings.\n",
        "        return aggr_out\n",
        "\n",
        "def create_wmlp(widths, nfeato, lbias):\n",
        "    mlp_modules=[]\n",
        "    for k in range(len(widths)-1):\n",
        "        mlp_modules.append(Linear(widths[k], widths[k+1], bias=False))\n",
        "        mlp_modules.append(LeakyReLU(0.2, True))\n",
        "    mlp_modules.append(Linear(widths[len(widths)-1], nfeato, bias=lbias))\n",
        "\n",
        "    return Sequential(*mlp_modules)\n"
      ],
      "execution_count": 80,
      "outputs": []
    },
    {
      "cell_type": "code",
      "metadata": {
        "id": "MgUt_4i5mYpr",
        "colab_type": "code",
        "colab": {}
      },
      "source": [
        "###################\n",
        "# DEFINE NETWORKS #\n",
        "###################\n",
        "class NetСurvWithReadout(torch.nn.Module):\n",
        "    def __init__(self, num_features, num_classes, hidden=64, edge_dim=1, use_dropout=True):\n",
        "\n",
        "        super(NetСurvWithReadout, self).__init__()\n",
        "        self.use_dropout = use_dropout\n",
        "        self.conv1 = curvGN(num_features, hidden, edge_dim=edge_dim)\n",
        "        self.conv2 = curvGN(hidden, hidden, edge_dim=edge_dim)\n",
        "        self.conv3 = curvGN(hidden, hidden, edge_dim=edge_dim)\n",
        "        self.conv4 = curvGN(hidden, hidden, edge_dim=edge_dim)\n",
        "        self.global_attention = GlobalAttention(gate_nn=nn.Linear(hidden,1), \n",
        "                                                nn=nn.Linear(hidden,hidden))\n",
        "        self.linear = nn.Linear(hidden,num_classes)\n",
        "\n",
        "    def forward(self, data):\n",
        "        x, edge_index, batch, w_mul = data.x, data.edge_index, data.batch, data.edge_attr\n",
        "\n",
        "        x, _ = self.conv1(x, edge_index, w_mul)\n",
        "        x = F.elu(x)\n",
        "        x, _ = self.conv2(x, edge_index, w_mul)\n",
        "        x = F.elu(x)\n",
        "        if self.use_dropout:\n",
        "            x = F.dropout(x, training=self.training)\n",
        "        x, _ = self.conv3(x, edge_index, w_mul)\n",
        "        x = F.elu(x)\n",
        "        x, _ = self.conv4(x, edge_index, w_mul)\n",
        "        x = F.elu(x)\n",
        "\n",
        "        #readout\n",
        "        readout = self.global_attention(x, batch) \n",
        "        x = self.linear(readout)\n",
        "\n",
        "        return F.log_softmax(x, dim=-1)\n",
        "\n",
        "class NetWithReadout(torch.nn.Module):\n",
        "    def __init__(self, num_features, num_classes, hidden=64, use_dropout=True):\n",
        "        super(NetWithReadout, self).__init__()\n",
        "\n",
        "        self.use_dropout = use_dropout\n",
        "        self.conv1 = GCNConv(num_features, hidden)\n",
        "        self.conv2 = GCNConv(hidden, hidden)\n",
        "        self.conv3 = GCNConv(hidden, hidden)\n",
        "        self.conv4 = GCNConv(hidden, hidden)\n",
        "        self.global_attention = GlobalAttention(gate_nn=nn.Linear(hidden,1), \n",
        "                                                nn=nn.Linear(hidden,hidden))\n",
        "        self.linear = nn.Linear(hidden,num_classes)\n",
        "\n",
        "    def forward(self, data):\n",
        "        x, edge_index, batch = data.x, data.edge_index, data.batch\n",
        "\n",
        "        x = self.conv1(x, edge_index)\n",
        "        x = F.elu(x)\n",
        "        x = self.conv2(x, edge_index)\n",
        "        x = F.elu(x)\n",
        "        if self.use_dropout:\n",
        "            x = F.dropout(x, training=self.training)\n",
        "        x = self.conv3(x, edge_index)\n",
        "        x = F.elu(x)\n",
        "        x = self.conv4(x, edge_index)\n",
        "        x = F.elu(x)\n",
        "\n",
        "        #readout\n",
        "        readout = self.global_attention(x, batch) \n",
        "        x = self.linear(readout)\n",
        "\n",
        "        return F.log_softmax(x, dim=-1)\n",
        "    "
      ],
      "execution_count": 81,
      "outputs": []
    },
    {
      "cell_type": "markdown",
      "metadata": {
        "id": "bxUdFqKSaudb",
        "colab_type": "text"
      },
      "source": [
        "## Training"
      ]
    },
    {
      "cell_type": "code",
      "metadata": {
        "id": "xtPrPIm5SPNY",
        "colab_type": "code",
        "colab": {}
      },
      "source": [
        "def train_model(model, \n",
        "                dataloader,\n",
        "                n_epochs=150):\n",
        "\n",
        "    optimizer = torch.optim.Adam(model.parameters(), lr=0.001, weight_decay=5e-4)\n",
        "\n",
        "    history_acc = defaultdict(list)\n",
        "    history_loss = defaultdict(list)\n",
        "    \n",
        "    for epoch in tqdm_notebook(range(n_epochs)):\n",
        "        loss_history = []\n",
        "        acc_history = []\n",
        "        model.train()\n",
        "        for i, batch in enumerate(dataloader):\n",
        "\n",
        "            batch = batch.to(device)\n",
        "            model.train()\n",
        "            optimizer.zero_grad()\n",
        "            out = model(batch)\n",
        "\n",
        "            target = torch.LongTensor(batch.y).to(device)\n",
        "            loss = F.nll_loss(out, target) \n",
        "            loss.backward()\n",
        "            optimizer.step()\n",
        "            loss_history.append(loss.item())\n",
        "            acc = (out.argmax(-1) == target).sum() / float(len(target))\n",
        "            acc_history.append(acc.item())\n",
        "\n",
        "        # end of the epoch\n",
        "        history_loss['epoch'].append(np.mean(loss_history))\n",
        "        history_loss['all'] += loss_history\n",
        "        history_acc['epoch'].append(np.mean(acc_history))\n",
        "        history_acc['all'] += acc_history\n",
        "\n",
        "        # model.eval()\n",
        "        # pred = out/\n",
        "        # _, pred = pred.max(dim=1)\n",
        "        # y_pred = pred[data.test_mask].detach().cpu().numpy()\n",
        "        # y_true = data.y[data.test_mask].detach().cpu().numpy()\n",
        "        # # correct = float(pred[data.test_mask].eq(data.y[data.test_mask]).sum().item())\n",
        "        # acc = f1_metric(y_true, y_pred)\n",
        "        # # acc = correct / data.test_mask.sum().item()\n",
        "        # acc_history.append(acc)\n",
        "\n",
        "    return history_loss, history_acc"
      ],
      "execution_count": 82,
      "outputs": []
    },
    {
      "cell_type": "markdown",
      "metadata": {
        "id": "f3NCqlMc28ff",
        "colab_type": "text"
      },
      "source": [
        "# Graph classification: MUTAG"
      ]
    },
    {
      "cell_type": "code",
      "metadata": {
        "id": "H1xAxWD-29uy",
        "colab_type": "code",
        "colab": {
          "base_uri": "https://localhost:8080/",
          "height": 125
        },
        "outputId": "80698d5c-5555-42a6-e3a3-960d79ddfcad"
      },
      "source": [
        "import grakel\n",
        "from grakel import GraphKernel\n",
        "from grakel.kernels import VertexHistogram, ShortestPath, WeisfeilerLehman, EdgeHistogram, CoreFramework, PropagationAttr\n",
        "from grakel.datasets import fetch_dataset\n",
        "\n",
        "mutag = fetch_dataset(\"MUTAG\", verbose=False, as_graphs=False)\n",
        "mutag_G = fetch_dataset(\"MUTAG\", verbose=False, as_graphs=True)\n",
        "X_mutag, y_mutag = mutag.data, mutag.target\n",
        "y_mutag.shape"
      ],
      "execution_count": null,
      "outputs": [
        {
          "output_type": "stream",
          "text": [
            "/usr/local/lib/python3.6/dist-packages/sklearn/externals/joblib/__init__.py:15: FutureWarning: sklearn.externals.joblib is deprecated in 0.21 and will be removed in 0.23. Please import this functionality directly from joblib, which can be installed with: pip install joblib. If this warning is raised when loading pickled models, you may need to re-serialize those models with scikit-learn 0.21+.\n",
            "  warnings.warn(msg, category=FutureWarning)\n",
            "/usr/local/lib/python3.6/dist-packages/sklearn/utils/deprecation.py:144: FutureWarning: The sklearn.datasets.lfw module is  deprecated in version 0.22 and will be removed in version 0.24. The corresponding classes / functions should instead be imported from sklearn.datasets. Anything that cannot be imported from sklearn.datasets is now part of the private API.\n",
            "  warnings.warn(message, FutureWarning)\n"
          ],
          "name": "stderr"
        },
        {
          "output_type": "execute_result",
          "data": {
            "text/plain": [
              "(188,)"
            ]
          },
          "metadata": {
            "tags": []
          },
          "execution_count": 10
        }
      ]
    },
    {
      "cell_type": "code",
      "metadata": {
        "id": "5bCawhHhFfNs",
        "colab_type": "code",
        "colab": {
          "base_uri": "https://localhost:8080/",
          "height": 264
        },
        "outputId": "e44e1f4e-a8c8-4105-9967-cbaa05f0d651"
      },
      "source": [
        "num_classes = len(np.unique(y_mutag))\n",
        "plt.hist(y_mutag,bins=num_classes)\n",
        "plt.show()\n",
        "y = y_mutag.copy()\n",
        "y[y == -1] = 0"
      ],
      "execution_count": null,
      "outputs": [
        {
          "output_type": "display_data",
          "data": {
            "image/png": "[encoded data removed]",
            "text/plain": [
              "<Figure size 432x288 with 1 Axes>"
            ]
          },
          "metadata": {
            "tags": []
          }
        }
      ]
    },
    {
      "cell_type": "code",
      "metadata": {
        "id": "-KckjTyRciY2",
        "colab_type": "code",
        "colab": {}
      },
      "source": [
        "edges_types = []\n",
        "nodes_types = []\n",
        "for _,nodes, edges_labels in X_mutag:\n",
        "    nodes_types += list(nodes.values())\n",
        "    edges_types += list(edges_labels.values())\n",
        "\n",
        "n_nodes_types = len(np.unique(nodes_types))\n",
        "n_edges_types = len(np.unique(edges_types))\n",
        "\n",
        "node2index = dict(zip(np.arange(n_nodes_types), \n",
        "                      np.unique(nodes_types)))\n",
        "edge2index = dict(zip(np.arange(n_edges_types), \n",
        "                      np.unique(edges_types)))"
      ],
      "execution_count": null,
      "outputs": []
    },
    {
      "cell_type": "code",
      "metadata": {
        "id": "9bq3pG8l0wvN",
        "colab_type": "code",
        "colab": {
          "base_uri": "https://localhost:8080/",
          "height": 318
        },
        "outputId": "ce7f5574-ce49-481c-b1c1-a6b5c7de46b5"
      },
      "source": [
        "def one_hot(x, mapping):\n",
        "    return np.eye(n_nodes_types)[node2index[x]].tolist()\n",
        "\n",
        "X_mutag_nx = []\n",
        "for (edges, nodes, edges_labels) in X_mutag: \n",
        "    g = nx.DiGraph()\n",
        "    \n",
        "    combined_nodes_list = [(node, {'x':one_hot(nodes[node], mapping=node2index)}) for node in nodes] \n",
        "    g.add_nodes_from(combined_nodes_list)\n",
        "\n",
        "    combined_edges_list = [(edge[0], edge[1], {'edge_attr': one_hot(edges_labels[edge], mapping=edge2index)}) for edge in edges] \n",
        "    g.add_edges_from(combined_edges_list)\n",
        "    \n",
        "    X_mutag_nx.append(g)\n",
        "nx.draw(X_mutag_nx[0], with_labels=True, font_weight='bold')"
      ],
      "execution_count": null,
      "outputs": [
        {
          "output_type": "display_data",
          "data": {
            "image/png": "[encoded data removed]",
            "text/plain": [
              "<Figure size 432x288 with 1 Axes>"
            ]
          },
          "metadata": {
            "tags": []
          }
        }
      ]
    },
    {
      "cell_type": "code",
      "metadata": {
        "id": "XvY-u5X5CTq3",
        "colab_type": "code",
        "colab": {
          "base_uri": "https://localhost:8080/",
          "height": 34
        },
        "outputId": "5f65310d-4a4d-4011-bff0-c7a3ab98df61"
      },
      "source": [
        "g_nx = X_mutag_nx[0]\n",
        "g_nx.number_of_edges()"
      ],
      "execution_count": null,
      "outputs": [
        {
          "output_type": "execute_result",
          "data": {
            "text/plain": [
              "38"
            ]
          },
          "metadata": {
            "tags": []
          },
          "execution_count": 34
        }
      ]
    },
    {
      "cell_type": "code",
      "metadata": {
        "id": "4SiNz3VwCfq-",
        "colab_type": "code",
        "colab": {
          "base_uri": "https://localhost:8080/",
          "height": 34
        },
        "outputId": "9db12716-bc40-4f91-c3e9-a27f712549f1"
      },
      "source": [
        "g_gk = mutag_G.data[0]\n",
        "len(g_gk.get_edges())"
      ],
      "execution_count": null,
      "outputs": [
        {
          "output_type": "execute_result",
          "data": {
            "text/plain": [
              "38"
            ]
          },
          "metadata": {
            "tags": []
          },
          "execution_count": 35
        }
      ]
    },
    {
      "cell_type": "code",
      "metadata": {
        "id": "oFZWjKZQ0w9R",
        "colab_type": "code",
        "colab": {}
      },
      "source": [
        "edges_curvatures = defaultdict(list)\n",
        "nodes_curvatures = defaultdict(list)\n",
        "\n",
        "for data_nx in tqdm_notebook(X_mutag_nx):\n",
        "    weighted_edges = False \n",
        "\n",
        "    orc = OllivierRicci(data_nx,  alpha=0.5, verbose=\"ERROR\", nbr_topk=100)\n",
        "    _ = orc.compute_ricci_curvature()\n",
        "    G_orc = orc.G.copy()\n",
        "    try:\n",
        "        ricci_curvatures_olliver = {(v1,v2):G_orc[v1][v2]['ricciCurvature'] for v1,v2 in list(G_orc.edges)}\n",
        "        ricci_curvatures_olliver_nodes = {i:G_orc.nodes[i]['ricciCurvature'] for i in list(G_orc.nodes)}\n",
        "      \n",
        "        G_frc = FormannCurvature(data_nx, weighted=weighted_edges)\n",
        "        ricci_curvatures_formann = {(v1,v2):G_frc[v1][v2]['formanCurvature'] for v1,v2 in list(G_frc.edges)}\n",
        "        ricci_curvatures_formann_nodes = {i:G_frc.nodes[i]['formanCurvature'] for i in list(G_frc.nodes)} \n",
        "    except:\n",
        "        set_trace()\n",
        "\n",
        "    edges_curvatures['Olliver'].append(ricci_curvatures_olliver)\n",
        "    edges_curvatures['Formann'].append(ricci_curvatures_formann)\n",
        "\n",
        "    nodes_curvatures['Olliver'].append(ricci_curvatures_olliver_nodes)\n",
        "    nodes_curvatures['Formann'].append(ricci_curvatures_formann_nodes)\n",
        "\n",
        "    # edges_weights =  nx.get_edge_attributes(data_nx, \"weight\")\n",
        "clear_output()    "
      ],
      "execution_count": null,
      "outputs": []
    },
    {
      "cell_type": "code",
      "metadata": {
        "id": "E0TTzUdWBPfr",
        "colab_type": "code",
        "colab": {
          "base_uri": "https://localhost:8080/",
          "height": 296
        },
        "outputId": "cb178d5a-ed89-4dc9-dfea-276442692d74"
      },
      "source": [
        "fig, axes = plt.subplots(ncols = 2, nrows=2)\n",
        "\n",
        "curvature_types = ['Olliver', 'Formann']\n",
        "for i,curvature_type in enumerate(curvature_types):\n",
        "  all_edges_curvatures = []\n",
        "  all_nodes_curvatures = []\n",
        "  for (graph_curvs, nodes_curvs) in zip(edges_curvatures[curvature_type], \n",
        "                                      nodes_curvatures[curvature_type]):\n",
        "      all_edges_curvatures += list(graph_curvs.values())\n",
        "      all_nodes_curvatures += list(nodes_curvs.values())\n",
        "  \n",
        "  axes[i,0].hist(all_edges_curvatures,bins=50)\n",
        "  axes[i,0].set_title(f'Edges curvatures {curvature_type}')\n",
        "  axes[i,1].hist(all_nodes_curvatures,bins=50)\n",
        "  axes[i,1].set_title(f'Nodes curvatures {curvature_type}')\n",
        "\n",
        "plt.tight_layout()\n",
        "plt.show()"
      ],
      "execution_count": null,
      "outputs": [
        {
          "output_type": "display_data",
          "data": {
            "image/png": "[encoded data removed]",
            "text/plain": [
              "<Figure size 432x288 with 4 Axes>"
            ]
          },
          "metadata": {
            "tags": []
          }
        }
      ]
    },
    {
      "cell_type": "code",
      "metadata": {
        "id": "qTA4S5LJ2NTX",
        "colab_type": "code",
        "colab": {}
      },
      "source": [
        "# with both edge an nodes curvatures\n",
        "X_mutag_nx_node_curvature = []\n",
        "for i,graph in enumerate(X_mutag_nx):\n",
        "    g = graph.copy()\n",
        "    for edge in g.edges:\n",
        "        one_hot_labels = g[edge[0]][edge[1]]['edge_attr']\n",
        "        g[edge[0]][edge[1]]['edge_attr'] = one_hot_labels + [np.float(edges_curvatures['Olliver'][i][edge])]\n",
        "    for node in g.nodes:\n",
        "        one_hot_labels = g.nodes[node]['x']\n",
        "        g.nodes[node]['x'] = one_hot_labels + [np.float(nodes_curvatures['Olliver'][i][node]),\n",
        "                                               np.float(nodes_curvatures['Formann'][i][node])]    \n",
        "    X_mutag_nx_node_curvature.append(g)      "
      ],
      "execution_count": null,
      "outputs": []
    },
    {
      "cell_type": "code",
      "metadata": {
        "id": "nxp4XFupYLOK",
        "colab_type": "code",
        "colab": {
          "base_uri": "https://localhost:8080/",
          "height": 318
        },
        "outputId": "f0613b34-6170-4292-89dc-b6789a7f243a"
      },
      "source": [
        "g_nx_c = X_mutag_nx_node_curvature[0]\n",
        "nx.draw(g_nx_c, with_labels=True, font_weight='bold')"
      ],
      "execution_count": null,
      "outputs": [
        {
          "output_type": "display_data",
          "data": {
            "image/png": "[encoded data removed]",
            "text/plain": [
              "<Figure size 432x288 with 1 Axes>"
            ]
          },
          "metadata": {
            "tags": []
          }
        }
      ]
    },
    {
      "cell_type": "code",
      "metadata": {
        "id": "H9N9WVrqdkC-",
        "colab_type": "code",
        "colab": {}
      },
      "source": [
        "data_mutag = [make_data(G,y) for G,y in zip(X_mutag_nx, y)]\n",
        "data_mutag_node_curv = [make_data(G,y) for G,y in zip(X_mutag_nx_node_curvature, y)]"
      ],
      "execution_count": null,
      "outputs": []
    },
    {
      "cell_type": "code",
      "metadata": {
        "id": "H4UnInlw7mLX",
        "colab_type": "code",
        "colab": {}
      },
      "source": [
        "dataloader = DataLoader(data_mutag, batch_size=32)\n",
        "dataloader_node_curv = DataLoader(data_mutag_node_curv, batch_size=32)"
      ],
      "execution_count": null,
      "outputs": []
    },
    {
      "cell_type": "code",
      "metadata": {
        "id": "GBM0VDr_fpK_",
        "colab_type": "code",
        "colab": {}
      },
      "source": [
        "for batch in dataloader:\n",
        "    break\n",
        "for batch_curv in dataloader_node_curv:\n",
        "    break"
      ],
      "execution_count": null,
      "outputs": []
    },
    {
      "cell_type": "code",
      "metadata": {
        "id": "jwYMMkhwR9Vc",
        "colab_type": "code",
        "colab": {
          "base_uri": "https://localhost:8080/",
          "height": 120,
          "referenced_widgets": [
            "80e06a3cc1e94926becc9ae398030be9",
            "a1745a6232ea4f58a168c9c635aec47f",
            "fdddd867583348a8ac929dbb675b2468",
            "4e2c124eac6048c38b312150c79a8773",
            "ac7d6f2167fd46e8a68f7e1054b09d89",
            "f09fc4ceb8c041229662fbfe10398c68",
            "3c09536dbd0d4586b42b5c217f65ec13",
            "deba9be7e4cd4bf4a32bf5fef1a33eff"
          ]
        },
        "outputId": "6b31e291-5e7d-4213-e719-5eb8af1d11cc"
      },
      "source": [
        "net = NetWithReadout(num_features=batch.x.shape[-1], \n",
        "                     num_classes=num_classes, \n",
        "                     hidden=64).to(device)\n",
        "history_loss_baseline, history_acc_baseline = train_model(net, \n",
        "                                                          dataloader, \n",
        "                                                          n_epochs=120)"
      ],
      "execution_count": null,
      "outputs": [
        {
          "output_type": "stream",
          "text": [
            "/usr/local/lib/python3.6/dist-packages/ipykernel_launcher.py:10: TqdmDeprecationWarning: This function will be removed in tqdm==5.0.0\n",
            "Please use `tqdm.notebook.tqdm` instead of `tqdm.tqdm_notebook`\n",
            "  # Remove the CWD from sys.path while we load stuff.\n"
          ],
          "name": "stderr"
        },
        {
          "output_type": "display_data",
          "data": {
            "application/vnd.jupyter.widget-view+json": {
              "model_id": "80e06a3cc1e94926becc9ae398030be9",
              "version_minor": 0,
              "version_major": 2
            },
            "text/plain": [
              "HBox(children=(FloatProgress(value=0.0, max=120.0), HTML(value='')))"
            ]
          },
          "metadata": {
            "tags": []
          }
        },
        {
          "output_type": "stream",
          "text": [
            "\n"
          ],
          "name": "stdout"
        }
      ]
    },
    {
      "cell_type": "code",
      "metadata": {
        "id": "aFo7DZ7ug_x3",
        "colab_type": "code",
        "colab": {
          "base_uri": "https://localhost:8080/",
          "height": 120,
          "referenced_widgets": [
            "1e0c2d5c05f843778d69a2d5b34631f9",
            "8981feb18e7145baa17954a2617bf9a3",
            "fe299e5d032f40e58280e4d2eafa0423",
            "663febdfd3d54a499bc8a3a5a5381335",
            "e770a3a353b249b19965a314d3a2d6dc",
            "a31f40b6f1744e06a57f6add963670d9",
            "003eb6746f8f4e9ab2e71bfc3c6a25bc",
            "0da69bb0640a44acb8139ccef45a3585"
          ]
        },
        "outputId": "0bc2e46d-9586-4b9a-d597-b39155c26616"
      },
      "source": [
        "curv_net = NetСurvWithReadout(num_features=batch_curv.x.shape[-1], \n",
        "                              num_classes=num_classes, \n",
        "                              edge_dim=batch_curv.edge_attr.shape[-1], \n",
        "                              hidden=64).to(device)\n",
        "history_loss_curv, history_acc_curv = train_model(curv_net, \n",
        "                                                  dataloader_node_curv,\n",
        "                                                  n_epochs=120)"
      ],
      "execution_count": null,
      "outputs": [
        {
          "output_type": "stream",
          "text": [
            "/usr/local/lib/python3.6/dist-packages/ipykernel_launcher.py:10: TqdmDeprecationWarning: This function will be removed in tqdm==5.0.0\n",
            "Please use `tqdm.notebook.tqdm` instead of `tqdm.tqdm_notebook`\n",
            "  # Remove the CWD from sys.path while we load stuff.\n"
          ],
          "name": "stderr"
        },
        {
          "output_type": "display_data",
          "data": {
            "application/vnd.jupyter.widget-view+json": {
              "model_id": "1e0c2d5c05f843778d69a2d5b34631f9",
              "version_minor": 0,
              "version_major": 2
            },
            "text/plain": [
              "HBox(children=(FloatProgress(value=0.0, max=120.0), HTML(value='')))"
            ]
          },
          "metadata": {
            "tags": []
          }
        },
        {
          "output_type": "stream",
          "text": [
            "\n"
          ],
          "name": "stdout"
        }
      ]
    },
    {
      "cell_type": "code",
      "metadata": {
        "id": "5XrB68_3jOFt",
        "colab_type": "code",
        "colab": {
          "base_uri": "https://localhost:8080/",
          "height": 335
        },
        "outputId": "82d543fc-0a7f-46cf-9dcb-1d05471135fc"
      },
      "source": [
        "fig, (ax1,ax2) = plt.subplots(ncols=2, nrows=1, figsize=(10,5))\n",
        "\n",
        "history_loss_baseline, \n",
        "\n",
        "history_acc_baseline\n",
        "\n",
        "ax1.plot(history_loss_baseline['epoch'], label = 'baseline')\n",
        "ax1.plot(history_loss_curv['epoch'], label = 'edge-node curvature')\n",
        "ax1.set_title('NLL loss')\n",
        "\n",
        "ax2.plot(history_acc_baseline['epoch'], label = 'baseline')\n",
        "ax2.plot(history_acc_curv['epoch'], label = 'edge-node curvature')\n",
        "ax2.set_title('accuracy')\n",
        "\n",
        "ax1.legend()\n",
        "ax2.legend()\n",
        "plt.show()"
      ],
      "execution_count": null,
      "outputs": [
        {
          "output_type": "display_data",
          "data": {
            "image/png": "[encoded data removed]",
            "text/plain": [
              "<Figure size 720x360 with 2 Axes>"
            ]
          },
          "metadata": {
            "tags": []
          }
        }
      ]
    },
    {
      "cell_type": "markdown",
      "metadata": {
        "id": "49ovbWWTsjxJ",
        "colab_type": "text"
      },
      "source": [
        "# ABIDE-1"
      ]
    },
    {
      "cell_type": "code",
      "metadata": {
        "id": "zkppU-sjKBHF",
        "colab_type": "code",
        "colab": {}
      },
      "source": [
        "def get_curvatures(data_nx, weighted_edges = False, compute_olliver=False):\n",
        "    \n",
        "    results = defaultdict(dict)\n",
        "\n",
        "    if compute_olliver:\n",
        "        orc = OllivierRicci(data_nx, alpha=0.5, verbose=\"ERROR\", nbr_topk=10)\n",
        "        _ = orc.compute_ricci_curvature()\n",
        "        G_orc = orc.G.copy()\n",
        "        try:\n",
        "            ricci_curvatures_olliver = {(v1,v2):G_orc[v1][v2]['ricciCurvature'] for v1,v2 in list(G_orc.edges)}\n",
        "            ricci_curvatures_olliver_nodes = {i:G_orc.nodes[i]['ricciCurvature'] for i in list(G_orc.nodes)} \n",
        "        except:\n",
        "            set_trace()\n",
        "        results['Olliver']['edges'] = ricci_curvatures_olliver\n",
        "        results['Olliver']['nodes'] = ricci_curvatures_olliver_nodes\n",
        "\n",
        "    G_frc = FormannCurvature(data_nx, weighted=weighted_edges, default_node_curvature=3)\n",
        "    ricci_curvatures_formann = {(v1,v2):G_frc[v1][v2]['formanCurvature'] for v1,v2 in list(G_frc.edges)}\n",
        "    ricci_curvatures_formann_nodes = {i:G_frc.nodes[i]['formanCurvature'] for i in list(G_frc.nodes)}\n",
        "\n",
        "    results['Formann']['edges'] = ricci_curvatures_formann\n",
        "    results['Formann']['nodes'] = ricci_curvatures_formann_nodes\n",
        "\n",
        "    clear_output() \n",
        "\n",
        "    return results"
      ],
      "execution_count": 83,
      "outputs": []
    },
    {
      "cell_type": "code",
      "metadata": {
        "id": "dUvDbzSsn4qx",
        "colab_type": "code",
        "colab": {}
      },
      "source": [
        "class ABIDEDataset(Dataset):\n",
        "    def __init__(self, \n",
        "                 numpy_data_folder='ABIDE', \n",
        "                 numpy_target_path='ABIDE1/target.npy', \n",
        "                 atlas_type='AAL', \n",
        "                 threshold=None, \n",
        "                 curvatures_path=None):\n",
        "      \n",
        "        super(ABIDEDataset, self).__init__()\n",
        "\n",
        "        self.numpy_data = np.load(f'{numpy_data_folder}/ABIDE1_{atlas_type}.npy')\n",
        "        self.numpy_target = np.load(numpy_target_path)\n",
        "        self.threshold = threshold\n",
        "        self.curvatures_path = curvatures_path\n",
        "\n",
        "        self.dirname = f'ABIDE_torch_geom_data_{atlas_type}' + (f'_thresh-{self.threshold}' if self.threshold is not None else '')\n",
        "\n",
        "        if (not os.path.isdir(self.dirname)) or len(os.listdir(self.dirname))==0:\n",
        "            N = self.numpy_data.shape[-1]\n",
        "            E = np.eye(N)\n",
        "            print (f'Making pytorch-data directory: `{self.dirname}`')\n",
        "            os.makedirs(self.dirname, exist_ok=True)\n",
        "\n",
        "            if self.curvatures_path is not None:\n",
        "                print ('Load pre-computed curvatures...')\n",
        "                self.curv_abide = np.load(self.curvatures_path, allow_pickle=True).tolist()\n",
        "\n",
        "            for i in range(self.__len__()):\n",
        "                \n",
        "                corr_matrix = self.numpy_data[i]\n",
        "                target = self.numpy_target[i]\n",
        "                if self.threshold is not None:\n",
        "                    corr_matrix = self.threshold_matrix(corr_matrix)\n",
        "                # make graph\n",
        "                g = nx.from_numpy_matrix(corr_matrix-E)\n",
        "\n",
        "                if self.curvatures_path is None:\n",
        "                    curvature = get_curvatures([g])[0]\n",
        "                else:\n",
        "                    curvature = self.curv_abide[i]\n",
        "\n",
        "                # fill graph features\n",
        "                for edge in g.edges:\n",
        "                    g[edge[0]][edge[1]]['edge_attr'] = [np.float(curvature['Formann']['edges'][edge]), # curvature\n",
        "                                                      np.float(g[edge[0]][edge[1]]['weight'])] # correllation\n",
        "                for node in g.nodes:\n",
        "                    onehot = np.zeros(N, dtype=np.float)\n",
        "                    onehot[node] = 1.\n",
        "                    node_curvature = np.float(curvature['Formann']['nodes'][node])\n",
        "                    g.nodes[node]['x'] = np.concatenate([onehot, [node_curvature]]).tolist()\n",
        "\n",
        "                # make pytorch-geom data  \n",
        "                data = make_data(g,target)\n",
        "                torch.save(data, os.path.join(self.dirname,'data_%06d'%i) )\n",
        "\n",
        "        self.items = [os.path.join(self.dirname, data_name) for data_name in sorted(os.listdir(self.dirname))]\n",
        "              \n",
        "    def threshold_matrix(self, corr_matrix):\n",
        "        A = corr_matrix.copy()\n",
        "        A = np.abs(A)\n",
        "        A[A < self.threshold] = 0\n",
        "        return A\n",
        "\n",
        "    def __len__(self):\n",
        "        return self.numpy_data.shape[0]\n",
        "\n",
        "    def __getitem__(self, i):\n",
        "        data = torch.load(self.items[i])\n",
        "\n",
        "        return data\n"
      ],
      "execution_count": 95,
      "outputs": []
    },
    {
      "cell_type": "code",
      "metadata": {
        "id": "QtNKC8bSyGyT",
        "colab_type": "code",
        "colab": {
          "base_uri": "https://localhost:8080/",
          "height": 51
        },
        "outputId": "6f5177fc-a51f-4f28-c592-636c44794aa3"
      },
      "source": [
        "dataset = ABIDEDataset(numpy_data_folder='ABIDE1', \n",
        "                       atlas_type='AAL', \n",
        "                       threshold=0.5, \n",
        "                       curvatures_path='curv_abide_AAL.npy')\n",
        "\n",
        "num_classes = len(np.unique(dataset.numpy_target))\n",
        "dataloader_abide_both = DataLoader(dataset, batch_size=32, shuffle=True)"
      ],
      "execution_count": 97,
      "outputs": [
        {
          "output_type": "stream",
          "text": [
            "Making pytorch-data directory: `ABIDE_torch_geom_data_AAL_thresh-0.5`\n",
            "Load pre-computed curvatures...\n"
          ],
          "name": "stdout"
        }
      ]
    },
    {
      "cell_type": "code",
      "metadata": {
        "id": "c1v6kC3wzeTT",
        "colab_type": "code",
        "colab": {
          "base_uri": "https://localhost:8080/",
          "height": 265
        },
        "outputId": "3cb9012d-f64d-41af-fed5-21dbcc72152b"
      },
      "source": [
        "for batch in dataloader_abide_both:\n",
        "    break\n",
        "plt.hist(batch.edge_attr.flatten().tolist(), bins=50)\n",
        "plt.show()"
      ],
      "execution_count": 100,
      "outputs": [
        {
          "output_type": "display_data",
          "data": {
            "image/png": "[encoded data removed]",
            "text/plain": [
              "<Figure size 432x288 with 1 Axes>"
            ]
          },
          "metadata": {
            "tags": [],
            "needs_background": "light"
          }
        }
      ]
    },
    {
      "cell_type": "code",
      "metadata": {
        "id": "w_Dlw7eMsFxl",
        "colab_type": "code",
        "colab": {
          "base_uri": "https://localhost:8080/",
          "height": 117,
          "referenced_widgets": [
            "23b9a39a07734c7bb8036838e6befbc3",
            "9b5406f5b38b4b7a93d0a88ceeaeb7a8",
            "643541772cb84f179710c3a4610b7796",
            "4581d392ca454e7da238df249ab3482f",
            "badb07ee4b6341dfb0855ae1f037e005",
            "7af4e74154014dc3a7ded2e249532e6c",
            "c88b836e670b42629fda7c211ef57283",
            "1327acf1fe4d4319b3d91882c378d570"
          ]
        },
        "outputId": "f3398e82-3fe7-4720-c3d7-a64afd63ce8d"
      },
      "source": [
        "net = NetWithReadout(num_features=117, num_classes=num_classes, hidden=128).to(device)\n",
        "history_loss_baseline, history_acc_baseline = train_model(net, \n",
        "                                                          dataloader_abide_both,\n",
        "                                                          n_epochs=60)"
      ],
      "execution_count": 101,
      "outputs": [
        {
          "output_type": "stream",
          "text": [
            "/usr/local/lib/python3.6/dist-packages/ipykernel_launcher.py:10: TqdmDeprecationWarning: This function will be removed in tqdm==5.0.0\n",
            "Please use `tqdm.notebook.tqdm` instead of `tqdm.tqdm_notebook`\n",
            "  # Remove the CWD from sys.path while we load stuff.\n"
          ],
          "name": "stderr"
        },
        {
          "output_type": "display_data",
          "data": {
            "application/vnd.jupyter.widget-view+json": {
              "model_id": "23b9a39a07734c7bb8036838e6befbc3",
              "version_minor": 0,
              "version_major": 2
            },
            "text/plain": [
              "HBox(children=(FloatProgress(value=0.0, max=60.0), HTML(value='')))"
            ]
          },
          "metadata": {
            "tags": []
          }
        },
        {
          "output_type": "stream",
          "text": [
            "\n"
          ],
          "name": "stdout"
        }
      ]
    },
    {
      "cell_type": "code",
      "metadata": {
        "id": "JPdMiHD8sIga",
        "colab_type": "code",
        "colab": {
          "base_uri": "https://localhost:8080/",
          "height": 117,
          "referenced_widgets": [
            "6109de4def7749f8bf5a78d2b188995a",
            "9d0d65e681b1406a8ac784660750b65f",
            "2060368d9b87464ab835ede11d111b05",
            "c3f758e4fdaf42b79b452d3f5813d4d5",
            "a12e5e6a8ef64eaf84d9cd7b9ad87250",
            "b017ff0ed3264ecf921f6334ace99277",
            "9685775638d64377b3c6747d660b9d99",
            "83342656d938410bb58cd5ca916c5486"
          ]
        },
        "outputId": "6c838e40-e5a8-4757-bbf8-bf11331c4219"
      },
      "source": [
        "curv_net = NetСurvWithReadout(num_features=117, num_classes=num_classes, edge_dim=2, hidden=128).to(device)\n",
        "history_loss_curv, history_acc_curv = train_model(curv_net, \n",
        "                                                  dataloader_abide_both,\n",
        "                                                  n_epochs=60)"
      ],
      "execution_count": 102,
      "outputs": [
        {
          "output_type": "stream",
          "text": [
            "/usr/local/lib/python3.6/dist-packages/ipykernel_launcher.py:10: TqdmDeprecationWarning: This function will be removed in tqdm==5.0.0\n",
            "Please use `tqdm.notebook.tqdm` instead of `tqdm.tqdm_notebook`\n",
            "  # Remove the CWD from sys.path while we load stuff.\n"
          ],
          "name": "stderr"
        },
        {
          "output_type": "display_data",
          "data": {
            "application/vnd.jupyter.widget-view+json": {
              "model_id": "6109de4def7749f8bf5a78d2b188995a",
              "version_minor": 0,
              "version_major": 2
            },
            "text/plain": [
              "HBox(children=(FloatProgress(value=0.0, max=60.0), HTML(value='')))"
            ]
          },
          "metadata": {
            "tags": []
          }
        },
        {
          "output_type": "stream",
          "text": [
            "\n"
          ],
          "name": "stdout"
        }
      ]
    },
    {
      "cell_type": "code",
      "metadata": {
        "id": "jpPP4_77lDeB",
        "colab_type": "code",
        "colab": {
          "base_uri": "https://localhost:8080/",
          "height": 282
        },
        "outputId": "9cec4ab6-e34e-43be-c2b1-e8e3565dc5a4"
      },
      "source": [
        "plt.plot(history_acc_baseline['epoch'])\n",
        "plt.plot(history_acc_curv['epoch'])"
      ],
      "execution_count": 103,
      "outputs": [
        {
          "output_type": "execute_result",
          "data": {
            "text/plain": [
              "[<matplotlib.lines.Line2D at 0x7f9c97a50550>]"
            ]
          },
          "metadata": {
            "tags": []
          },
          "execution_count": 103
        },
        {
          "output_type": "display_data",
          "data": {
            "image/png": "[encoded data removed]",
            "text/plain": [
              "<Figure size 432x288 with 1 Axes>"
            ]
          },
          "metadata": {
            "tags": [],
            "needs_background": "light"
          }
        }
      ]
    },
    {
      "cell_type": "code",
      "metadata": {
        "id": "45dZTJ0u0jrA",
        "colab_type": "code",
        "colab": {
          "base_uri": "https://localhost:8080/",
          "height": 282
        },
        "outputId": "27abc744-4281-4565-a1e0-089e0a7f69e5"
      },
      "source": [
        "plt.plot(history_loss_baseline['epoch'])\n",
        "plt.plot(history_loss_curv['epoch'])"
      ],
      "execution_count": 104,
      "outputs": [
        {
          "output_type": "execute_result",
          "data": {
            "text/plain": [
              "[<matplotlib.lines.Line2D at 0x7f9c9ac46be0>]"
            ]
          },
          "metadata": {
            "tags": []
          },
          "execution_count": 104
        },
        {
          "output_type": "display_data",
          "data": {
            "image/png": "[encoded data removed]",
            "text/plain": [
              "<Figure size 432x288 with 1 Axes>"
            ]
          },
          "metadata": {
            "tags": [],
            "needs_background": "light"
          }
        }
      ]
    },
    {
      "cell_type": "code",
      "metadata": {
        "id": "xzvg5Q6BC5gl",
        "colab_type": "code",
        "colab": {}
      },
      "source": [
        ""
      ],
      "execution_count": null,
      "outputs": []
    }
  ]
}
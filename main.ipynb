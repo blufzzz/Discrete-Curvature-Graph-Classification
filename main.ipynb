{
  "nbformat": 4,
  "nbformat_minor": 0,
  "metadata": {
    "kernelspec": {
      "display_name": "Python 3",
      "language": "python",
      "name": "python3"
    },
    "language_info": {
      "codemirror_mode": {
        "name": "ipython",
        "version": 3
      },
      "file_extension": ".py",
      "mimetype": "text/x-python",
      "name": "python",
      "nbconvert_exporter": "python",
      "pygments_lexer": "ipython3",
      "version": "3.7.4"
    },
    "pycharm": {
      "stem_cell": {
        "cell_type": "raw",
        "source": [],
        "metadata": {
          "collapsed": false
        }
      }
    },
    "colab": {
      "name": "main.ipynb",
      "provenance": []
    },
    "accelerator": "GPU"
  },
  "cells": [
    {
      "cell_type": "code",
      "metadata": {
        "id": "0WT1ddWhxdYw",
        "colab_type": "code",
        "colab": {}
      },
      "source": [
        "# colab setting\n",
        "!pip install GraphRicciCurvature\n",
        "\n",
        "import networkx as nx\n",
        "import numpy as np\n",
        "import math\n",
        "import importlib\n",
        "from IPython.display import clear_output\n",
        "\n",
        "# matplotlib setting\n",
        "%matplotlib inline\n",
        "import matplotlib.pyplot as plt\n",
        "\n",
        "# to print logs in jupyter notebook\n",
        "import logging\n",
        "logging.basicConfig(format='%(levelname)s:%(message)s', level=logging.ERROR)\n",
        "\n",
        "# load GraphRicciCuravture package\n",
        "from GraphRicciCurvature.OllivierRicci import OllivierRicci\n",
        "clear_output()"
      ],
      "execution_count": 0,
      "outputs": []
    },
    {
      "cell_type": "code",
      "metadata": {
        "id": "hrTImyccdQBq",
        "colab_type": "code",
        "colab": {}
      },
      "source": [
        "!pip install torch-scatter==latest+cu101 -f https://pytorch-geometric.com/whl/torch-1.5.0.html\n",
        "!pip install torch-sparse==latest+cu101 -f https://pytorch-geometric.com/whl/torch-1.5.0.html\n",
        "!pip install torch-cluster==latest+cu101 -f https://pytorch-geometric.com/whl/torch-1.5.0.html\n",
        "!pip install torch-spline-conv==latest+cu101 -f https://pytorch-geometric.com/whl/torch-1.5.0.html\n",
        "!pip install torch-geometric\n",
        "clear_output()"
      ],
      "execution_count": 0,
      "outputs": []
    },
    {
      "cell_type": "markdown",
      "metadata": {
        "id": "v7lOC6dgZrYl",
        "colab_type": "text"
      },
      "source": [
        "# CurvConv architecture"
      ]
    },
    {
      "cell_type": "code",
      "metadata": {
        "id": "SFQ97EWPZpUb",
        "colab_type": "code",
        "colab": {}
      },
      "source": [
        "import torch\n",
        "import torch.nn.functional as F\n",
        "import torch_geometric.transforms as T\n",
        "from torch.nn import Sequential as seq, Parameter,LeakyReLU,init,Linear\n",
        "from torch_geometric.nn import MessagePassing\n",
        "from torch_geometric.utils import softmax,degree, add_self_loops, remove_self_loops\n",
        "from torch_geometric.nn import GCNConv, EdgeConv, ECConv\n",
        "device = torch.device('cuda' if torch.cuda.is_available() else 'cpu')"
      ],
      "execution_count": 0,
      "outputs": []
    },
    {
      "cell_type": "code",
      "metadata": {
        "id": "5hMiMc1DXnks",
        "colab_type": "code",
        "colab": {}
      },
      "source": [
        "class  curvGN(MessagePassing):\n",
        "    def __init__(self, in_channels, out_channels, w_mul, bias=True):\n",
        "        super(curvGN, self).__init__(aggr='add') # \"Add\" aggregation.\n",
        "        self.w_mul = w_mul\n",
        "        self.lin = Linear(in_channels, out_channels)\n",
        "        widths = [1, out_channels]\n",
        "        self.w_mlp_out = create_wmlp(widths, out_channels, True)\n",
        "\n",
        "    def forward(self, x, edge_index):\n",
        "        x = self.lin(x)\n",
        "        out_weight = self.w_mlp_out(self.w_mul)\n",
        "        out_weight = softmax(out_weight, edge_index[0])\n",
        "        return self.propagate(x=x,\n",
        "                              edge_index=edge_index,\n",
        "                              out_weight=out_weight)\n",
        "\n",
        "    def message(self,x_j, edge_index, out_weight):\n",
        "        return out_weight*x_j\n",
        "\n",
        "    def update(self, aggr_out):\n",
        "        # aggr_out has shape [N, out_channels]\n",
        "        # Step 5: Return new node embeddings.\n",
        "        return aggr_out\n",
        "\n",
        "def create_wmlp(widths, nfeato, lbias):\n",
        "    mlp_modules=[]\n",
        "    for k in range(len(widths)-1):\n",
        "        mlp_modules.append(Linear(widths[k], widths[k+1], bias=False))\n",
        "        mlp_modules.append(LeakyReLU(0.2, True))\n",
        "    mlp_modules.append(Linear(widths[len(widths)-1], nfeato, bias=lbias))\n",
        "\n",
        "    return seq(*mlp_modules)\n"
      ],
      "execution_count": 0,
      "outputs": []
    },
    {
      "cell_type": "code",
      "metadata": {
        "id": "MgUt_4i5mYpr",
        "colab_type": "code",
        "colab": {}
      },
      "source": [
        "class NetСurv(torch.nn.Module):\n",
        "    def __init__(self, num_features, num_classes, w_mul, hidden=64):\n",
        "        '''\n",
        "        w_mul - curvatures\n",
        "        '''\n",
        "        super(NetСurv, self).__init__()\n",
        "\n",
        "        self.conv1 = curvGN(num_features, hidden, hidden, w_mul=w_mul)\n",
        "        self.conv2 = curvGN(hidden, num_classes, num_classes, w_mul=w_mul)\n",
        "\n",
        "    def forward(self,data):\n",
        "        x, edge_index = data.x, data.edge_index\n",
        "\n",
        "        x = self.conv1(x, edge_index)\n",
        "        x = F.elu(x)\n",
        "        x = F.dropout(x,training=self.training)\n",
        "        x = self.conv2(x, edge_index)\n",
        "        \n",
        "        return F.log_softmax(x, dim=1)\n",
        "\n",
        "class Net(torch.nn.Module):\n",
        "    def __init__(self, num_features, num_classes, hidden=64):\n",
        "        super(Net, self).__init__()\n",
        "        self.conv1 = GCNConv(num_features, 16)\n",
        "        self.conv2 = GCNConv(16, num_classes)\n",
        "\n",
        "    def forward(self, data):\n",
        "        x, edge_index = data.x, data.edge_index\n",
        "\n",
        "        x = self.conv1(x, edge_index)\n",
        "        x = F.elu(x)\n",
        "        x = F.dropout(x, training=self.training)\n",
        "        x = self.conv2(x, edge_index)\n",
        "\n",
        "        return F.log_softmax(x, dim=1)\n",
        "    "
      ],
      "execution_count": 0,
      "outputs": []
    },
    {
      "cell_type": "markdown",
      "metadata": {
        "id": "RlxDacptaoKI",
        "colab_type": "text"
      },
      "source": [
        "# Dataset"
      ]
    },
    {
      "cell_type": "code",
      "metadata": {
        "id": "ZN8BsGs5OaMb",
        "colab_type": "code",
        "colab": {
          "base_uri": "https://localhost:8080/",
          "height": 194
        },
        "outputId": "3335d913-367f-4703-dad6-d16fdd14d855"
      },
      "source": [
        "from torch_geometric.datasets import Planetoid\n",
        "from torch_geometric.utils.convert import from_networkx, to_networkx\n",
        "dataset = Planetoid( root='/tmp/Cora', name='Cora')"
      ],
      "execution_count": 6,
      "outputs": [
        {
          "output_type": "stream",
          "text": [
            "Downloading https://github.com/kimiyoung/planetoid/raw/master/data/ind.cora.x\n",
            "Downloading https://github.com/kimiyoung/planetoid/raw/master/data/ind.cora.tx\n",
            "Downloading https://github.com/kimiyoung/planetoid/raw/master/data/ind.cora.allx\n",
            "Downloading https://github.com/kimiyoung/planetoid/raw/master/data/ind.cora.y\n",
            "Downloading https://github.com/kimiyoung/planetoid/raw/master/data/ind.cora.ty\n",
            "Downloading https://github.com/kimiyoung/planetoid/raw/master/data/ind.cora.ally\n",
            "Downloading https://github.com/kimiyoung/planetoid/raw/master/data/ind.cora.graph\n",
            "Downloading https://github.com/kimiyoung/planetoid/raw/master/data/ind.cora.test.index\n",
            "Processing...\n",
            "Done!\n"
          ],
          "name": "stdout"
        }
      ]
    },
    {
      "cell_type": "code",
      "metadata": {
        "id": "KFAOczaV1zAB",
        "colab_type": "code",
        "outputId": "6224ec64-4538-4593-806b-bccc1dadb0b1",
        "colab": {
          "base_uri": "https://localhost:8080/",
          "height": 123
        }
      },
      "source": [
        "data =  \n",
        "data_nx = to_networkx(data)\n",
        "orc = OllivierRicci(data_nx, alpha=0.5, verbose=\"INFO\")\n",
        "_ = orc.compute_ricci_curvature()\n",
        "G_orc = orc.G.copy()\n",
        "ricci_curvatures = nx.get_edge_attributes(G_orc, \"ricciCurvature\")"
      ],
      "execution_count": 0,
      "outputs": [
        {
          "output_type": "stream",
          "text": [
            "INFO:Number of nodes: 2708\n",
            "INFO:Number of edges: 10556\n",
            "INFO:Start to compute all pair shortest path.\n"
          ],
          "name": "stderr"
        },
        {
          "output_type": "stream",
          "text": [
            "Edge weight not detected in graph, use \"weight\" as default edge weight.\n"
          ],
          "name": "stdout"
        },
        {
          "output_type": "stream",
          "text": [
            "INFO:1.063510 secs for all pair by NetworKit.\n",
            "INFO:76.499043 secs for Ricci curvature computation.\n"
          ],
          "name": "stderr"
        }
      ]
    },
    {
      "cell_type": "code",
      "metadata": {
        "id": "mCTPgOIH2tBn",
        "colab_type": "code",
        "outputId": "c6320d4d-41a8-4e0c-a531-8e2a12e35092",
        "colab": {
          "base_uri": "https://localhost:8080/",
          "height": 296
        }
      },
      "source": [
        "def show_results(G):\n",
        "\n",
        "    # Plot the histogram of Ricci curvatures\n",
        "    plt.subplot(2, 1, 2)\n",
        "    ricci_curvtures = nx.get_edge_attributes(G, \"ricciCurvature\").values()\n",
        "    plt.hist(ricci_curvtures,bins=20)\n",
        "    plt.xlabel('Ricci curvature')\n",
        "    plt.title(\"Histogram of Ricci Curvatures\")\n",
        "\n",
        "    # Plot the histogram of edge weights\n",
        "    plt.subplot(2, 1, 1)\n",
        "    weights = nx.get_edge_attributes(G, \"weight\").values()\n",
        "    plt.hist(weights,bins=20)\n",
        "    plt.xlabel('Edge weight')\n",
        "    plt.title(\"Histogram of Edge weights\")\n",
        "\n",
        "    plt.tight_layout()\n",
        "    \n",
        "show_results(G_orc)"
      ],
      "execution_count": 0,
      "outputs": [
        {
          "output_type": "display_data",
          "data": {
            "image/png": "[encoded data removed]",
            "text/plain": [
              "<Figure size 432x288 with 2 Axes>"
            ]
          },
          "metadata": {
            "tags": [],
            "needs_background": "light"
          }
        }
      ]
    },
    {
      "cell_type": "code",
      "metadata": {
        "id": "0hVOZFbL4fIw",
        "colab_type": "code",
        "colab": {}
      },
      "source": [
        "data_0_nx_ric = nx.get_edge_attributes()"
      ],
      "execution_count": 0,
      "outputs": []
    },
    {
      "cell_type": "code",
      "metadata": {
        "id": "tUWl6stS2C47",
        "colab_type": "code",
        "colab": {}
      },
      "source": [
        "data_0_ric = from_networkx(data_0_nx_ric)"
      ],
      "execution_count": 0,
      "outputs": []
    },
    {
      "cell_type": "markdown",
      "metadata": {
        "id": "bxUdFqKSaudb",
        "colab_type": "text"
      },
      "source": [
        "# Training"
      ]
    },
    {
      "cell_type": "code",
      "metadata": {
        "id": "xtPrPIm5SPNY",
        "colab_type": "code",
        "colab": {}
      },
      "source": [
        "model = Net().to(device)\n",
        "data = dataset[0].to(device)\n",
        "optimizer = torch.optim.Adam(model.parameters(), lr=0.01, weight_decay=5e-4)\n",
        "\n",
        "loss_history = []\n",
        "model.train()\n",
        "for epoch in range(200):\n",
        "    optimizer.zero_grad()\n",
        "    out = model(data) # data leak?\n",
        "    loss = F.nll_loss(out[data.train_mask], data.y[data.train_mask])\n",
        "    loss.backward()\n",
        "    optimizer.step()\n",
        "    loss_history.append(loss.item())\n",
        "\n",
        "model.eval()\n",
        "_, pred = model(data).max(dim=1)\n",
        "correct = float (pred[data.test_mask].eq(data.y[data.test_mask]).sum().item())\n",
        "acc = correct / data.test_mask.sum().item()\n",
        "print('Accuracy: {:.4f}'.format(acc))"
      ],
      "execution_count": 0,
      "outputs": []
    },
    {
      "cell_type": "code",
      "metadata": {
        "id": "rNq7vDRGpdtt",
        "colab_type": "code",
        "outputId": "7661dbfb-986d-4c7a-c866-1933f51d7b41",
        "colab": {
          "base_uri": "https://localhost:8080/",
          "height": 282
        }
      },
      "source": [
        "plt.plot(loss_history)"
      ],
      "execution_count": 0,
      "outputs": [
        {
          "output_type": "execute_result",
          "data": {
            "text/plain": [
              "[<matplotlib.lines.Line2D at 0x7fc3dd055e80>]"
            ]
          },
          "metadata": {
            "tags": []
          },
          "execution_count": 34
        },
        {
          "output_type": "display_data",
          "data": {
            "image/png": "[encoded data removed]",
            "text/plain": [
              "<Figure size 432x288 with 1 Axes>"
            ]
          },
          "metadata": {
            "tags": [],
            "needs_background": "light"
          }
        }
      ]
    }
  ]
}